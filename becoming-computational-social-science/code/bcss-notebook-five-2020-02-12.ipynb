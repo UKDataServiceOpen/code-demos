{
 "cells": [
  {
   "cell_type": "markdown",
   "metadata": {
    "slideshow": {
     "slide_type": "skip"
    }
   },
   "source": [
    "![UKDS Logo](./images/UKDS_Logos_Col_Grey_300dpi.png)"
   ]
  },
  {
   "cell_type": "markdown",
   "metadata": {
    "slideshow": {
     "slide_type": "skip"
    }
   },
   "source": [
    "# Being a Computational Social Scientist"
   ]
  },
  {
   "cell_type": "markdown",
   "metadata": {
    "slideshow": {
     "slide_type": "skip"
    }
   },
   "source": [
    "Welcome to the <a href=\"https://ukdataservice.ac.uk/\" target=_blank>UK Data Service</a> training series on *New Forms of Data for Social Science Research*. This series guides you through some of the most common and valuable new sources of data available for social science research: data collected from websites, social media platorms, text data, conducting simulations (agent based modelling), to name a few. To help you get to grips with these new forms of data, we provide webinars, interactive notebooks containing live programming code, reading lists and more.\n",
    "\n",
    "* To access training materials for the entire series: <a href=\"https://github.com/UKDataServiceOpen/new-forms-of-data\" target=_blank>[Training Materials]</a>\n",
    "\n",
    "* To keep up to date with upcoming and past training events: <a href=\"https://ukdataservice.ac.uk/news-and-events/events\" target=_blank>[Events]</a>\n",
    "\n",
    "* To get in contact with feedback, ideas or to seek assistance: <a href=\"https://ukdataservice.ac.uk/help.aspx\" target=_blank>[Help]</a>\n",
    "\n",
    "<a href=\"https://www.research.manchester.ac.uk/portal/julia.kasmire.html\" target=_blank>Dr Julia Kasmire</a> and <a href=\"https://www.research.manchester.ac.uk/portal/diarmuid.mcdonnell.html\" target=_blank>Dr Diarmuid McDonnell</a> <br />\n",
    "UK Data Service  <br />\n",
    "University of Manchester <br />\n",
    "May 2020"
   ]
  },
  {
   "cell_type": "markdown",
   "metadata": {
    "slideshow": {
     "slide_type": "skip"
    },
    "toc": true
   },
   "source": [
    "<h1>Table of Contents<span class=\"tocSkip\"></span></h1>\n",
    "<div class=\"toc\"><ul class=\"toc-item\"><li><span><a href=\"#Guide-to-using-this-resource\" data-toc-modified-id=\"Guide-to-using-this-resource-1\"><span class=\"toc-item-num\">1&nbsp;&nbsp;</span>Guide to using this resource</a></span><ul class=\"toc-item\"><li><span><a href=\"#Interaction\" data-toc-modified-id=\"Interaction-1.1\"><span class=\"toc-item-num\">1.1&nbsp;&nbsp;</span>Interaction</a></span></li><li><span><a href=\"#Learn-more\" data-toc-modified-id=\"Learn-more-1.2\"><span class=\"toc-item-num\">1.2&nbsp;&nbsp;</span>Learn more</a></span></li></ul></li><li><span><a href=\"#Acquiring,-understanding-and-manipulating-unstructured/unfamiliar-data\" data-toc-modified-id=\"Acquiring,-understanding-and-manipulating-unstructured/unfamiliar-data-2\"><span class=\"toc-item-num\">2&nbsp;&nbsp;</span>Acquiring, understanding and manipulating unstructured/unfamiliar data</a></span><ul class=\"toc-item\"><li><span><a href=\"#Acquiring-data\" data-toc-modified-id=\"Acquiring-data-2.1\"><span class=\"toc-item-num\">2.1&nbsp;&nbsp;</span>Acquiring data</a></span></li><li><span><a href=\"#Understanding-and-manipulating-data\" data-toc-modified-id=\"Understanding-and-manipulating-data-2.2\"><span class=\"toc-item-num\">2.2&nbsp;&nbsp;</span>Understanding and manipulating data</a></span></li></ul></li></ul></div>"
   ]
  },
  {
   "cell_type": "markdown",
   "metadata": {
    "slideshow": {
     "slide_type": "skip"
    }
   },
   "source": [
    "-------------------------------------\n",
    "\n",
    "<div style=\"text-align: center\"><i><b>This is notebook 5 of 6 in this lesson</i></b></div>\n",
    "\n",
    "-------------------------------------"
   ]
  },
  {
   "cell_type": "markdown",
   "metadata": {
    "slideshow": {
     "slide_type": "skip"
    }
   },
   "source": [
    "## Guide to using this resource\n",
    "\n",
    "This learning resource was built using <a href=\"https://jupyter.org/\" target=_blank>Jupyter Notebook</a>, an open-source software application that allows you to mix code, results and narrative in a single document. As <a href=\"https://jupyter4edu.github.io/jupyter-edu-book/\" target=_blank>Barba et al. (2019)</a> espouse:\n",
    "> In a world where every subject matter can have a data-supported treatment, where computational devices are omnipresent and pervasive, the union of natural language and computation creates compelling communication and learning opportunities.\n",
    "\n",
    "If you are familiar with Jupyter notebooks then skip ahead to the main content (*Collecting data from online databases using an API*). Otherwise, the following is a quick guide to navigating and interacting with the notebook."
   ]
  },
  {
   "cell_type": "markdown",
   "metadata": {
    "slideshow": {
     "slide_type": "skip"
    }
   },
   "source": [
    "### Interaction\n",
    "\n",
    "**You only need to execute the code that is contained in sections which are marked by `In []`.**\n",
    "\n",
    "To execute a cell, click or double-click the cell and press the `Run` button on the top toolbar (you can also use the keyboard shortcut Shift + Enter).\n",
    "\n",
    "Try it for yourself:"
   ]
  },
  {
   "cell_type": "code",
   "execution_count": null,
   "metadata": {
    "slideshow": {
     "slide_type": "skip"
    }
   },
   "outputs": [],
   "source": [
    "print(\"Enter your name and press enter:\")\n",
    "name = input()\n",
    "print(\"\\r\")\n",
    "print(\"Hello {}, enjoy learning more about Python and computational social science!\".format(name)) "
   ]
  },
  {
   "cell_type": "markdown",
   "metadata": {
    "slideshow": {
     "slide_type": "skip"
    }
   },
   "source": [
    "### Learn more\n",
    "\n",
    "Jupyter notebooks provide rich, flexible features for conducting and documenting your data analysis workflow. To learn more about additional notebook features, we recommend working through some of the <a href=\"https://github.com/darribas/gds19/blob/master/content/labs/lab_00.ipynb\" target=_blank>materials</a> provided by Dani Arribas-Bel at the University of Liverpool. "
   ]
  },
  {
   "cell_type": "markdown",
   "metadata": {
    "slideshow": {
     "slide_type": "slide"
    }
   },
   "source": [
    "## Acquiring, understanding and manipulating unstructured/unfamiliar data"
   ]
  },
  {
   "cell_type": "markdown",
   "metadata": {
    "slideshow": {
     "slide_type": "skip"
    }
   },
   "source": [
    "### Acquiring data\n",
    "\n",
    "There are LOADS of ways to get data, some that are more 'computational' than others. You are all surely familiar with surveys and interviews, as well as Official data sources and data requests. You may also be familiar with (at least the concepts of):\n",
    "* scraped data that comes from web-pages or APIs\n",
    "* “found” data that is captured through alongside orinigally intended data targets\n",
    "* meta-data, which is data about data\n",
    "* repurposed data, or data collected for some other purspose that is used in new and creative ways or \n",
    "* other... cause this list is definitely not exhaustive. \n",
    " \n",
    "To some extent, using these data sources requires that you keep your ear to the ground so that you know when relevant new sources come available. But once you know *about* them, you still need to know *what* they are and *how* to access and use them. \n",
    " \n",
    "So, we will set data acquisition aside for the moment and instead focus on data literacy, which is knowldege of the types of data that you might find."
   ]
  },
  {
   "cell_type": "markdown",
   "metadata": {
    "slideshow": {
     "slide_type": "subslide"
    }
   },
   "source": [
    "### Understanding and manipulating data\n",
    "\n",
    "Being data literate involves understanding two key properties of datasets:\n",
    "1. How the contents of the dataset are stored (e.g., as numbers, text, etc.).\n",
    "2. How the contents of the dataset are structured (e.g., as rows of observations, or networks of relations)."
   ]
  },
  {
   "cell_type": "markdown",
   "metadata": {
    "slideshow": {
     "slide_type": "subslide"
    }
   },
   "source": [
    "#### Data types\n",
    "\n",
    "Data types provide a means of classifying the contents (values) of your dataset. For example, in [Understanding Society](https://www.understandingsociety.ac.uk/) there are questions where the answers are recorded as numbers e.g., [`prfitb`](https://www.understandingsociety.ac.uk/documentation/mainstage/dataset-documentation/variable/prfitb) which captures total personal income.\n",
    "\n",
    "Data types are important as they determine which values can be assigned to them, and what operations can be performed using them e.g., can you calculate the mean value of a piece of text (Tagliaferri, 2019). Let's cover some of the main data types in Python."
   ]
  },
  {
   "cell_type": "markdown",
   "metadata": {
    "slideshow": {
     "slide_type": "subslide"
    }
   },
   "source": [
    "##### Numbers\n",
    "\n",
    "These can be integers or floats (decimals), both of which behave a little differently."
   ]
  },
  {
   "cell_type": "code",
   "execution_count": 1,
   "metadata": {
    "slideshow": {
     "slide_type": "fragment"
    }
   },
   "outputs": [],
   "source": [
    "# Integers\n",
    "\n",
    "myint = 5\n",
    "yourint = 10"
   ]
  },
  {
   "cell_type": "markdown",
   "metadata": {
    "slideshow": {
     "slide_type": "skip"
    }
   },
   "source": [
    "You double clicked, you hit run, but nothing happened, right? That is because naming and defining variables does not come with any commands that produce output. Basically, we ran a command that has no visible reaction. But maybe we want to check that it worked? To do that, we can call a print command. \n",
    "\n",
    "The cell below has a print command that includes the some text (within the quotation marks) and the result of a numerical operation over the variables we defined. Go ahead, double click in the cell and hit Run/Shift+Enter."
   ]
  },
  {
   "cell_type": "code",
   "execution_count": 2,
   "metadata": {
    "slideshow": {
     "slide_type": "subslide"
    }
   },
   "outputs": [
    {
     "name": "stdout",
     "output_type": "stream",
     "text": [
      "Summing integers:  15\n"
     ]
    }
   ],
   "source": [
    "print(\"Summing integers: \", myint + yourint)"
   ]
  },
  {
   "cell_type": "markdown",
   "metadata": {
    "slideshow": {
     "slide_type": "skip"
    }
   },
   "source": [
    "Great! The print command worked and we see that it correctly summed the numerical value of the two variables that we defined. \n",
    "\n",
    "Let's try it again with Floats. Click in the code block below and hit Run/Shift+Enter. "
   ]
  },
  {
   "cell_type": "code",
   "execution_count": 3,
   "metadata": {
    "slideshow": {
     "slide_type": "subslide"
    }
   },
   "outputs": [
    {
     "name": "stdout",
     "output_type": "stream",
     "text": [
      "Summing floats:  16.2\n"
     ]
    }
   ],
   "source": [
    "# Floats\n",
    "\n",
    "myflo = 5.5\n",
    "yourflo = 10.7\n",
    "print(\"Summing floats: \", myflo + yourflo)"
   ]
  },
  {
   "cell_type": "markdown",
   "metadata": {
    "slideshow": {
     "slide_type": "skip"
    }
   },
   "source": [
    "It might not be surprising, but it worked again. This time, the resulting sum had a decimal point and a following digit, which is how we know it was a float rather than an integer. \n",
    "\n",
    "What happens when we sum an integer and a float? Find out with the next code block!"
   ]
  },
  {
   "cell_type": "code",
   "execution_count": 4,
   "metadata": {
    "slideshow": {
     "slide_type": "subslide"
    }
   },
   "outputs": [
    {
     "name": "stdout",
     "output_type": "stream",
     "text": [
      "Value of summing an integer and a float:  10.5\n",
      "Data type when we sum an integer and a float:  <class 'float'>\n"
     ]
    }
   ],
   "source": [
    "# Combining integers and floats\n",
    "\n",
    "newnum = myint + myflo\n",
    "\n",
    "print(\"Value of summing an integer and a float: \", newnum)\n",
    "print(\"Data type when we sum an integer and a float: \", type(newnum))"
   ]
  },
  {
   "cell_type": "markdown",
   "metadata": {
    "slideshow": {
     "slide_type": "skip"
    }
   },
   "source": [
    "In this case, create a new variable, called *newnum* and assign it the value of the sum of one of our previous integers and one of our previous floats.  \n",
    "\n",
    "Then, we have two print statements. One returns the value of *newnum* while the other returns the *type* of *newnum*. \n",
    "\n",
    "You can always ask for the type. Go ahead and double click in the cell above again. This time, instead of just running the code, copy and past the final print statement. Before you run the code again with your new line, but change that line by rewriting the text inside the quotation marks to anything you like and change *newnum* to *myfloat* or *myint* or any of the other variables we defined. \n",
    "\n",
    "You can even define a whole new variable and then ask for the type of your new variable. "
   ]
  },
  {
   "cell_type": "markdown",
   "metadata": {
    "slideshow": {
     "slide_type": "subslide"
    }
   },
   "source": [
    "##### Strings\n",
    "\n",
    "This data type stores text information. This should be a bit familiar, as we used text information in the previous code blocks within quotation marks. \n",
    "\n",
    "Strings are immutable in Python i.e., you cannot permanently change its value after creating it. But you can see what type of variable a string is (just like with the numerical variables above). "
   ]
  },
  {
   "cell_type": "code",
   "execution_count": 5,
   "metadata": {
    "slideshow": {
     "slide_type": "subslide"
    }
   },
   "outputs": [
    {
     "name": "stdout",
     "output_type": "stream",
     "text": [
      "Thsi is my feurst string.\n",
      "What type is mystring:  <class 'str'>\n",
      "This is my correct first string.\n",
      "This is your correct first string.\n",
      "['This is ', ' correct first string.']\n"
     ]
    }
   ],
   "source": [
    "# Strings\n",
    "\n",
    "mystring = \"Thsi is my feurst string.\"\n",
    "print(mystring)\n",
    "\n",
    "print(\"What type is mystring: \", type(mystring))\n",
    "\n",
    "mystring = \"This is my correct first string.\"\n",
    "print(mystring)\n",
    "\n",
    "yourstring = mystring.replace(\"my\", \"your\") # replace the word \"my\" with \"your\"\n",
    "print(yourstring)\n",
    "\n",
    "splitstring = yourstring.split(\"your\") # split into separate strings\n",
    "print(splitstring)"
   ]
  },
  {
   "cell_type": "markdown",
   "metadata": {
    "slideshow": {
     "slide_type": "skip"
    }
   },
   "source": [
    "Manipulating strings will be a common and crucial task during your computational social science work. We'll cover intermediate and advanced string manipulation throughout these training materials but for now we highly suggest you consult the resources listed below.\n",
    "\n",
    "*Further Resources*:\n",
    "* [Principles and Techniques of Data Science](https://www.textbook.ds100.org) - Chapter 8.\n",
    "* [Python 101](https://python101.pythonlibrary.org) - Chapter 2."
   ]
  },
  {
   "cell_type": "markdown",
   "metadata": {
    "slideshow": {
     "slide_type": "subslide"
    }
   },
   "source": [
    "##### Boolean\n",
    "\n",
    "This data type captures values that are true or false, 1 or 0, yes or no, etc. These will be like dummy or indicator variables, if you have used those in Stata, SPSS or other stats programmes. \n",
    "\n",
    "Boolean data allow us to evaluate expressions or calculations (e.g., is one variable equal to another? Is this word found in a paragraph?)."
   ]
  },
  {
   "cell_type": "code",
   "execution_count": 7,
   "metadata": {
    "slideshow": {
     "slide_type": "subslide"
    }
   },
   "outputs": [
    {
     "name": "stdout",
     "output_type": "stream",
     "text": [
      "True\n",
      "<class 'bool'>\n"
     ]
    }
   ],
   "source": [
    "# Boolean\n",
    "\n",
    "result = (10+5) == (14+1) # check if two sums are equal\n",
    "print(result) # print the value of the \"result\" object\n",
    "print(type(result)) # print the data type of the \"result\" object"
   ]
  },
  {
   "cell_type": "markdown",
   "metadata": {
    "slideshow": {
     "slide_type": "skip"
    }
   },
   "source": [
    "It is important to note that we did not define *result* as the value of 10+5 or the value of 14+1. We defined *result* as the value of whether 10+5 was exactly equal to 14+1. \n",
    "\n",
    "In this case, 10+5 is exacly equal to 14+1, so *result* was defined as True, which we can see in the output of the *print(result)* command. \n",
    "\n",
    "Booleans are very useful for controlling the flow of your code: in the below example, we assign somebody a grade and then use boolean logic to test whether the grade is above a threshold, which determines whether or not that grade receives a pass or fail notification.\n",
    "\n",
    "Double click in the code block below and hit Run/Shift+Enter. \n",
    "\n",
    "Then redefine grade as a different number by changing the number after the '=' and then hitting Run=Shift+Enter again. "
   ]
  },
  {
   "cell_type": "code",
   "execution_count": 8,
   "metadata": {
    "slideshow": {
     "slide_type": "subslide"
    }
   },
   "outputs": [
    {
     "name": "stdout",
     "output_type": "stream",
     "text": [
      "Congratulations, you have passed!\n"
     ]
    }
   ],
   "source": [
    "grade = 71\n",
    "\n",
    "if grade >= 40:\n",
    "    print(\"Congratulations, you have passed!\")\n",
    "else:\n",
    "    print(\"Uh oh, exam resits for you.\")"
   ]
  },
  {
   "cell_type": "markdown",
   "metadata": {
    "slideshow": {
     "slide_type": "skip"
    }
   },
   "source": [
    "You can write a boolean statement more consicely, as demonstrated in the next code block. This time, you don't get the nicely worded pass/fail messages, but those will not always be important. \n",
    "\n",
    "Double click in the code block below and hit Run/Shift+Enter. Try it again, but change the number. This changes the threshold against which the command will return a true. \n",
    "\n",
    "Remember that you can redefine *grade* at any point, either by changing the definition in the code block above and re-running that code block or by copy/pasting/editing the grade = 71 line from above into this code block and re-running it here. "
   ]
  },
  {
   "cell_type": "code",
   "execution_count": 9,
   "metadata": {
    "slideshow": {
     "slide_type": "subslide"
    }
   },
   "outputs": [
    {
     "name": "stdout",
     "output_type": "stream",
     "text": [
      "True\n"
     ]
    }
   ],
   "source": [
    "print(grade >= 40) # evaluate this expression"
   ]
  },
  {
   "cell_type": "markdown",
   "metadata": {
    "slideshow": {
     "slide_type": "skip"
    }
   },
   "source": [
    "*Further Resources*:\n",
    "* [How To Code in Python](https://assets.digitalocean.com/books/python/how-to-code-in-python.pdf) - Chapter 21."
   ]
  },
  {
   "cell_type": "markdown",
   "metadata": {
    "slideshow": {
     "slide_type": "subslide"
    }
   },
   "source": [
    "##### Lists\n",
    "\n",
    "The list data type stores a variable that is defined as an ordered, mutable (i.e., you can change its values) sequence of elements. Lists are defined by naming a variable and setting it equal to elements inside of square brackets. \n",
    "\n",
    "Double click in the code block below and hit Run/Shift+Enter. \n"
   ]
  },
  {
   "cell_type": "code",
   "execution_count": 10,
   "metadata": {
    "slideshow": {
     "slide_type": "subslide"
    }
   },
   "outputs": [
    {
     "name": "stdout",
     "output_type": "stream",
     "text": [
      "numbers is:  [1, 2, 3, 4, 5] <class 'list'>\n",
      "strings is:  ['Hello', 'world'] <class 'list'>\n",
      "mixed is:  [1, 2, 3, 4, 5, 'Hello', 'World'] <class 'list'>\n",
      "mixed_2 is:  [[1, 2, 3, 4, 5], ['Hello', 'world']] <class 'list'>\n"
     ]
    }
   ],
   "source": [
    "# Creating a list\n",
    "\n",
    "numbers = [1,2,3,4,5]\n",
    "print(\"numbers is: \", numbers, type(numbers))\n",
    "\n",
    "strings = [\"Hello\", \"world\"]\n",
    "print(\"strings is: \", strings, type(strings))\n",
    "\n",
    "mixed = [1,2,3,4,5,\"Hello\", \"World\"]\n",
    "print(\"mixed is: \", mixed, type(mixed))\n",
    "\n",
    "mixed_2 = [numbers, strings]\n",
    "print(\"mixed_2 is: \", mixed_2, type(mixed_2)) # this is a list of lists"
   ]
  },
  {
   "cell_type": "markdown",
   "metadata": {
    "slideshow": {
     "slide_type": "skip"
    }
   },
   "source": [
    "Notice that most of these print commands print the value of the variable and also the type of variable.\n",
    "\n",
    "Also notice that you can define a list variable by listing all of the elements that you want to be in that list inside of square brackets (like the code that defines 'mixed') or you can define a list by including *other* lists inside of the square brackets for a new list (like thecode that defines 'mixed_2'). \n",
    "\n",
    "As you can see, mixed has only one set of square brackets, but mixed_2 has square brackets nested inside of other square brackets to create a list of lists. \n",
    "\n",
    "Feel free to re-define these variables or add/define new variables too (but leave 'numbers' alone as we need it for the next several steps). \n",
    "\n",
    "When you are done testing out how to define work with lists, go on to run the next code block."
   ]
  },
  {
   "cell_type": "code",
   "execution_count": 11,
   "metadata": {
    "slideshow": {
     "slide_type": "subslide"
    }
   },
   "outputs": [
    {
     "name": "stdout",
     "output_type": "stream",
     "text": [
      "The numbers list has 5 items\n"
     ]
    }
   ],
   "source": [
    "# List length\n",
    "\n",
    "length_numbers = len(numbers)\n",
    "print(\"The numbers list has {} items\".format(length_numbers)) \n",
    "# the curly braces act as a placeholder for what we reference in .format()"
   ]
  },
  {
   "cell_type": "markdown",
   "metadata": {
    "slideshow": {
     "slide_type": "skip"
    }
   },
   "source": [
    "This one creates a new variable, called 'length_numbers' that is defined as the \"len\" of the \"numbers\" variable we defined above. \n",
    "\n",
    "The print statement underneath then goes on to tell us the value of the 'length_numbers' variable, but embeds that value inside of a sentence. We use the curly brackets as a placeholder for where the value should get embedded and use the '.format(length_numbers) to order the embedding and to define what is to be embedded. \n",
    "\n",
    "Try re-running the print command with other values embedded (by changing the variable that is to be emdedded), or embedding the variable in different places (be repositioning the curly brackets). "
   ]
  },
  {
   "cell_type": "code",
   "execution_count": null,
   "metadata": {
    "slideshow": {
     "slide_type": "skip"
    }
   },
   "outputs": [],
   "source": [
    "# Accessing items (elements) within a list\n",
    "\n",
    "print(\"{} is the second item in the list\".format(numbers[1]))\n",
    "# note that the position of items in a list (known as its 'index position')\n",
    "# begins at zero i.e., [0] represents the first item in a list\n",
    "\n",
    "# We can also loop through the items in a list:\n",
    "\n",
    "print(\"\\r\") # add a new line to the output to aid readability\n",
    "for item in numbers:\n",
    "    print(item)\n",
    "# note that the word 'item' in the for loop is not special and\n",
    "# can instead be defined by the user - see below   \n",
    "\n",
    "print(\"\\r\")\n",
    "for chicken in numbers:\n",
    "    print(chicken)\n",
    "# of course, such a silly name does nothing to aid interpretability of the code    "
   ]
  },
  {
   "cell_type": "code",
   "execution_count": null,
   "metadata": {
    "slideshow": {
     "slide_type": "skip"
    }
   },
   "outputs": [],
   "source": [
    "# Adding or removing items in a list\n",
    "\n",
    "numbers.append(6) # add the number six to the end of the list\n",
    "print(numbers)\n",
    "\n",
    "numbers.remove(3) # remove the number three from the list\n",
    "print(numbers)"
   ]
  },
  {
   "cell_type": "markdown",
   "metadata": {
    "slideshow": {
     "slide_type": "subslide"
    }
   },
   "source": [
    "##### Dictionaries\n",
    "\n",
    "The dictionary data type maps keys (i.e., variables) to values; thus, data in a dictionary are stored in key-value pairs (known as items). Dictionaries are useful for storing data that are related e.g., variables and their values for an observation in a dataset."
   ]
  },
  {
   "cell_type": "code",
   "execution_count": 12,
   "metadata": {
    "slideshow": {
     "slide_type": "subslide"
    }
   },
   "outputs": [
    {
     "name": "stdout",
     "output_type": "stream",
     "text": [
      "{'name': 'Diarmuid', 'age': 32, 'occupation': 'Researcher'}\n"
     ]
    }
   ],
   "source": [
    "# Creating a dictionary\n",
    "\n",
    "dict = {\"name\": \"Diarmuid\", \"age\": 32, \"occupation\": \"Researcher\"}\n",
    "print(dict)"
   ]
  },
  {
   "cell_type": "code",
   "execution_count": 13,
   "metadata": {
    "slideshow": {
     "slide_type": "subslide"
    }
   },
   "outputs": [
    {
     "name": "stdout",
     "output_type": "stream",
     "text": [
      "Diarmuid\n"
     ]
    }
   ],
   "source": [
    "# Accessing items in a dictionary\n",
    "\n",
    "print(dict[\"name\"]) # print the value of the \"name\" key"
   ]
  },
  {
   "cell_type": "code",
   "execution_count": 14,
   "metadata": {
    "slideshow": {
     "slide_type": "subslide"
    }
   },
   "outputs": [
    {
     "name": "stdout",
     "output_type": "stream",
     "text": [
      "dict_keys(['name', 'age', 'occupation'])\n"
     ]
    }
   ],
   "source": [
    "print(dict.keys()) # print the dictionary keys"
   ]
  },
  {
   "cell_type": "code",
   "execution_count": 15,
   "metadata": {
    "slideshow": {
     "slide_type": "subslide"
    }
   },
   "outputs": [
    {
     "name": "stdout",
     "output_type": "stream",
     "text": [
      "dict_items([('name', 'Diarmuid'), ('age', 32), ('occupation', 'Researcher')])\n"
     ]
    }
   ],
   "source": [
    "print(dict.items()) # print the key-value pairs"
   ]
  },
  {
   "cell_type": "code",
   "execution_count": 16,
   "metadata": {
    "slideshow": {
     "slide_type": "subslide"
    }
   },
   "outputs": [
    {
     "name": "stdout",
     "output_type": "stream",
     "text": [
      "[{'name': 'Diarmuid', 'age': 32, 'occupation': 'Researcher'}, {'name': 'Jeremy', 'age': 50, 'occupation': 'Nurse'}, {'name': 'Sandra', 'age': 41, 'occupation': 'Chef'}]\n",
      "\r\n",
      "<class 'list'>\n"
     ]
    }
   ],
   "source": [
    "# Combining with lists\n",
    "\n",
    "obs = [] # create a blank list\n",
    "\n",
    "ind_1 = dict # create dictionaries for three individuals\n",
    "ind_2 = {\"name\": \"Jeremy\", \"age\": 50, \"occupation\": \"Nurse\"}\n",
    "ind_3 = {\"name\": \"Sandra\", \"age\": 41, \"occupation\": \"Chef\"}\n",
    "\n",
    "for ind in ind_1, ind_2, ind_3: # for each dictionary, add to the blank list\n",
    "    obs.append(ind)\n",
    "\n",
    "print(obs)# print the list\n",
    "print(\"\\r\")\n",
    "print(type(obs)) # now we have a list of dictionaries"
   ]
  },
  {
   "cell_type": "markdown",
   "metadata": {
    "slideshow": {
     "slide_type": "subslide"
    }
   },
   "source": [
    "#### Data structures\n",
    "\n",
    "Indulge me: close your eyes and visualise a dataset. What do you picture? Heiberger and Riebling (2016, p. 4) are confident they can predict what you visualise:\n",
    "\n",
    "> Ask any social scientist to visualize data; chances are they will picture a rectangular table consisting of observations along the rows and variables as columns."
   ]
  },
  {
   "cell_type": "markdown",
   "metadata": {
    "slideshow": {
     "slide_type": "subslide"
    }
   },
   "source": [
    "##### Data frame\n",
    "\n",
    "A data frame is a rectangular data structure and is often stored in a Comma-Separated Value (CSV) file format. A CSV stores observations in rows, and separates (or \"delimits\") each value in an observation using a comma (','). Let's examine a CSV dataset in Python:"
   ]
  },
  {
   "cell_type": "code",
   "execution_count": 17,
   "metadata": {
    "slideshow": {
     "slide_type": "subslide"
    }
   },
   "outputs": [
    {
     "data": {
      "text/html": [
       "<div>\n",
       "<style scoped>\n",
       "    .dataframe tbody tr th:only-of-type {\n",
       "        vertical-align: middle;\n",
       "    }\n",
       "\n",
       "    .dataframe tbody tr th {\n",
       "        vertical-align: top;\n",
       "    }\n",
       "\n",
       "    .dataframe thead th {\n",
       "        text-align: right;\n",
       "    }\n",
       "</style>\n",
       "<table border=\"1\" class=\"dataframe\">\n",
       "  <thead>\n",
       "    <tr style=\"text-align: right;\">\n",
       "      <th></th>\n",
       "      <th>name</th>\n",
       "      <th>regno</th>\n",
       "      <th>fys</th>\n",
       "      <th>fye</th>\n",
       "      <th>inc</th>\n",
       "      <th>exp</th>\n",
       "    </tr>\n",
       "  </thead>\n",
       "  <tbody>\n",
       "    <tr>\n",
       "      <th>0</th>\n",
       "      <td>Oxfam</td>\n",
       "      <td>202918</td>\n",
       "      <td>01/05/2008 00:00</td>\n",
       "      <td>30/04/2009 00:00</td>\n",
       "      <td>308300000</td>\n",
       "      <td>318600000</td>\n",
       "    </tr>\n",
       "    <tr>\n",
       "      <th>1</th>\n",
       "      <td>Oxfam</td>\n",
       "      <td>202918</td>\n",
       "      <td>01/05/2009 00:00</td>\n",
       "      <td>31/03/2010 00:00</td>\n",
       "      <td>318000000</td>\n",
       "      <td>294800000</td>\n",
       "    </tr>\n",
       "    <tr>\n",
       "      <th>2</th>\n",
       "      <td>Oxfam</td>\n",
       "      <td>202918</td>\n",
       "      <td>01/04/2010 00:00</td>\n",
       "      <td>31/03/2011 00:00</td>\n",
       "      <td>367500000</td>\n",
       "      <td>361100000</td>\n",
       "    </tr>\n",
       "    <tr>\n",
       "      <th>3</th>\n",
       "      <td>Oxfam</td>\n",
       "      <td>202918</td>\n",
       "      <td>01/04/2011 00:00</td>\n",
       "      <td>31/03/2012 00:00</td>\n",
       "      <td>385500000</td>\n",
       "      <td>378700000</td>\n",
       "    </tr>\n",
       "    <tr>\n",
       "      <th>4</th>\n",
       "      <td>Oxfam</td>\n",
       "      <td>202918</td>\n",
       "      <td>01/04/2012 00:00</td>\n",
       "      <td>31/03/2013 00:00</td>\n",
       "      <td>367900000</td>\n",
       "      <td>384600000</td>\n",
       "    </tr>\n",
       "    <tr>\n",
       "      <th>5</th>\n",
       "      <td>Oxfam</td>\n",
       "      <td>202918</td>\n",
       "      <td>01/04/2013 00:00</td>\n",
       "      <td>31/03/2014 00:00</td>\n",
       "      <td>389100000</td>\n",
       "      <td>365100000</td>\n",
       "    </tr>\n",
       "    <tr>\n",
       "      <th>6</th>\n",
       "      <td>Oxfam</td>\n",
       "      <td>202918</td>\n",
       "      <td>01/04/2014 00:00</td>\n",
       "      <td>31/03/2015 00:00</td>\n",
       "      <td>401400000</td>\n",
       "      <td>387800000</td>\n",
       "    </tr>\n",
       "    <tr>\n",
       "      <th>7</th>\n",
       "      <td>Oxfam</td>\n",
       "      <td>202918</td>\n",
       "      <td>01/04/2015 00:00</td>\n",
       "      <td>31/03/2016 00:00</td>\n",
       "      <td>414700000</td>\n",
       "      <td>420700000</td>\n",
       "    </tr>\n",
       "    <tr>\n",
       "      <th>8</th>\n",
       "      <td>Oxfam</td>\n",
       "      <td>202918</td>\n",
       "      <td>01/04/2016 00:00</td>\n",
       "      <td>31/03/2017 00:00</td>\n",
       "      <td>408600000</td>\n",
       "      <td>402600000</td>\n",
       "    </tr>\n",
       "    <tr>\n",
       "      <th>9</th>\n",
       "      <td>Oxfam</td>\n",
       "      <td>202918</td>\n",
       "      <td>01/04/2017 00:00</td>\n",
       "      <td>31/03/2018 00:00</td>\n",
       "      <td>427200000</td>\n",
       "      <td>438700000</td>\n",
       "    </tr>\n",
       "  </tbody>\n",
       "</table>\n",
       "</div>"
      ],
      "text/plain": [
       "    name   regno               fys               fye        inc        exp\n",
       "0  Oxfam  202918  01/05/2008 00:00  30/04/2009 00:00  308300000  318600000\n",
       "1  Oxfam  202918  01/05/2009 00:00  31/03/2010 00:00  318000000  294800000\n",
       "2  Oxfam  202918  01/04/2010 00:00  31/03/2011 00:00  367500000  361100000\n",
       "3  Oxfam  202918  01/04/2011 00:00  31/03/2012 00:00  385500000  378700000\n",
       "4  Oxfam  202918  01/04/2012 00:00  31/03/2013 00:00  367900000  384600000\n",
       "5  Oxfam  202918  01/04/2013 00:00  31/03/2014 00:00  389100000  365100000\n",
       "6  Oxfam  202918  01/04/2014 00:00  31/03/2015 00:00  401400000  387800000\n",
       "7  Oxfam  202918  01/04/2015 00:00  31/03/2016 00:00  414700000  420700000\n",
       "8  Oxfam  202918  01/04/2016 00:00  31/03/2017 00:00  408600000  402600000\n",
       "9  Oxfam  202918  01/04/2017 00:00  31/03/2018 00:00  427200000  438700000"
      ]
     },
     "execution_count": 17,
     "metadata": {},
     "output_type": "execute_result"
    }
   ],
   "source": [
    "import pandas as pd # module for handling data frames\n",
    "\n",
    "df = pd.read_csv(\"./data/oxfam-csv-2020-03-16.csv\") # open the file and store its contents in the \"df\" object\n",
    "df # view the data frame"
   ]
  },
  {
   "cell_type": "markdown",
   "metadata": {
    "slideshow": {
     "slide_type": "subslide"
    }
   },
   "source": [
    "##### Dictionaries\n",
    "\n",
    "A dictionary is a hierarchical data structure based on key-value pairs. Dictionaries are often stored as Javascript Object Notation (JSON) files. Let's examine a JSON dataset in Python:"
   ]
  },
  {
   "cell_type": "code",
   "execution_count": 18,
   "metadata": {
    "slideshow": {
     "slide_type": "subslide"
    }
   },
   "outputs": [
    {
     "data": {
      "text/plain": [
       "{'name': {'0': 'Oxfam',\n",
       "  '1': 'Oxfam',\n",
       "  '2': 'Oxfam',\n",
       "  '3': 'Oxfam',\n",
       "  '4': 'Oxfam',\n",
       "  '5': 'Oxfam',\n",
       "  '6': 'Oxfam',\n",
       "  '7': 'Oxfam',\n",
       "  '8': 'Oxfam',\n",
       "  '9': 'Oxfam'},\n",
       " 'regno': {'0': 202918,\n",
       "  '1': 202918,\n",
       "  '2': 202918,\n",
       "  '3': 202918,\n",
       "  '4': 202918,\n",
       "  '5': 202918,\n",
       "  '6': 202918,\n",
       "  '7': 202918,\n",
       "  '8': 202918,\n",
       "  '9': 202918},\n",
       " 'fys': {'0': '01/05/2008 00:00',\n",
       "  '1': '01/05/2009 00:00',\n",
       "  '2': '01/04/2010 00:00',\n",
       "  '3': '01/04/2011 00:00',\n",
       "  '4': '01/04/2012 00:00',\n",
       "  '5': '01/04/2013 00:00',\n",
       "  '6': '01/04/2014 00:00',\n",
       "  '7': '01/04/2015 00:00',\n",
       "  '8': '01/04/2016 00:00',\n",
       "  '9': '01/04/2017 00:00'},\n",
       " 'fye': {'0': '30/04/2009 00:00',\n",
       "  '1': '31/03/2010 00:00',\n",
       "  '2': '31/03/2011 00:00',\n",
       "  '3': '31/03/2012 00:00',\n",
       "  '4': '31/03/2013 00:00',\n",
       "  '5': '31/03/2014 00:00',\n",
       "  '6': '31/03/2015 00:00',\n",
       "  '7': '31/03/2016 00:00',\n",
       "  '8': '31/03/2017 00:00',\n",
       "  '9': '31/03/2018 00:00'},\n",
       " 'inc': {'0': 308300000,\n",
       "  '1': 318000000,\n",
       "  '2': 367500000,\n",
       "  '3': 385500000,\n",
       "  '4': 367900000,\n",
       "  '5': 389100000,\n",
       "  '6': 401400000,\n",
       "  '7': 414700000,\n",
       "  '8': 408600000,\n",
       "  '9': 427200000},\n",
       " 'exp': {'0': 318600000,\n",
       "  '1': 294800000,\n",
       "  '2': 361100000,\n",
       "  '3': 378700000,\n",
       "  '4': 384600000,\n",
       "  '5': 365100000,\n",
       "  '6': 387800000,\n",
       "  '7': 420700000,\n",
       "  '8': 402600000,\n",
       "  '9': 438700000}}"
      ]
     },
     "execution_count": 18,
     "metadata": {},
     "output_type": "execute_result"
    }
   ],
   "source": [
    "import json # import Python module for handling JSON files\n",
    "\n",
    "with open('./data/oxfam-csv-2020-03-16.json', 'r') as f: # open file in 'read mode' and store in a Python JSON object called 'data'\n",
    "    data = json.load(f)\n",
    "          \n",
    "data # view the contents of the JSON file"
   ]
  },
  {
   "cell_type": "markdown",
   "metadata": {
    "slideshow": {
     "slide_type": "skip"
    }
   },
   "source": [
    "<div style=\"text-align: right\"><a href=\"./bcss-notebook-four-2020-02-12.ipynb\" target=_blank><i>Previous section: Computational environments</i></a> &nbsp;&nbsp;&nbsp;&nbsp; | &nbsp;&nbsp;&nbsp;&nbsp;<a href=\"./bcss-notebook-six-2020-02-12.ipynb\" target=_blank><i>Next section: Reproducibility</i></a></div>"
   ]
  }
 ],
 "metadata": {
  "kernelspec": {
   "display_name": "Python 3",
   "language": "python",
   "name": "python3"
  },
  "language_info": {
   "codemirror_mode": {
    "name": "ipython",
    "version": 3
   },
   "file_extension": ".py",
   "mimetype": "text/x-python",
   "name": "python",
   "nbconvert_exporter": "python",
   "pygments_lexer": "ipython3",
   "version": "3.7.3"
  },
  "toc": {
   "base_numbering": 1,
   "nav_menu": {},
   "number_sections": true,
   "sideBar": true,
   "skip_h1_title": true,
   "title_cell": "Table of Contents",
   "title_sidebar": "Contents",
   "toc_cell": true,
   "toc_position": {},
   "toc_section_display": true,
   "toc_window_display": false
  }
 },
 "nbformat": 4,
 "nbformat_minor": 2
}
