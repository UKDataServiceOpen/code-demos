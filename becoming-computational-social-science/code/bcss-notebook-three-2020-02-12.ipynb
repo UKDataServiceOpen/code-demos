{
 "cells": [
  {
   "cell_type": "markdown",
   "metadata": {
    "slideshow": {
     "slide_type": "skip"
    }
   },
   "source": [
    "![UKDS Logo](./images/UKDS_Logos_Col_Grey_300dpi.png)"
   ]
  },
  {
   "cell_type": "markdown",
   "metadata": {
    "slideshow": {
     "slide_type": "skip"
    }
   },
   "source": [
    "# Being a Computational Social Scientist"
   ]
  },
  {
   "cell_type": "markdown",
   "metadata": {
    "slideshow": {
     "slide_type": "skip"
    }
   },
   "source": [
    "Welcome to the <a href=\"https://ukdataservice.ac.uk/\" target=_blank>UK Data Service</a> training series on *New Forms of Data for Social Science Research*. This series guides you through some of the most common and valuable new sources of data available for social science research: data collected from websites, social media platorms, text data, conducting simulations (agent based modelling), to name a few. To help you get to grips with these new forms of data, we provide webinars, interactive notebooks containing live programming code, reading lists and more.\n",
    "\n",
    "* To access training materials for the entire series: <a href=\"https://github.com/UKDataServiceOpen/new-forms-of-data\" target=_blank>[Training Materials]</a>\n",
    "\n",
    "* To keep up to date with upcoming and past training events: <a href=\"https://ukdataservice.ac.uk/news-and-events/events\" target=_blank>[Events]</a>\n",
    "\n",
    "* To get in contact with feedback, ideas or to seek assistance: <a href=\"https://ukdataservice.ac.uk/help.aspx\" target=_blank>[Help]</a>\n",
    "\n",
    "<a href=\"https://www.research.manchester.ac.uk/portal/julia.kasmire.html\" target=_blank>Dr Julia Kasmire</a> and <a href=\"https://www.research.manchester.ac.uk/portal/diarmuid.mcdonnell.html\" target=_blank>Dr Diarmuid McDonnell</a> <br />\n",
    "UK Data Service  <br />\n",
    "University of Manchester <br />\n",
    "May 2020"
   ]
  },
  {
   "cell_type": "markdown",
   "metadata": {
    "slideshow": {
     "slide_type": "skip"
    },
    "toc": true
   },
   "source": [
    "<h1>Table of Contents<span class=\"tocSkip\"></span></h1>\n",
    "<div class=\"toc\"><ul class=\"toc-item\"><li><span><a href=\"#Guide-to-using-this-resource\" data-toc-modified-id=\"Guide-to-using-this-resource-1\"><span class=\"toc-item-num\">1&nbsp;&nbsp;</span>Guide to using this resource</a></span><ul class=\"toc-item\"><li><span><a href=\"#Interaction\" data-toc-modified-id=\"Interaction-1.1\"><span class=\"toc-item-num\">1.1&nbsp;&nbsp;</span>Interaction</a></span></li><li><span><a href=\"#Learn-more\" data-toc-modified-id=\"Learn-more-1.2\"><span class=\"toc-item-num\">1.2&nbsp;&nbsp;</span>Learn more</a></span></li></ul></li><li><span><a href=\"#Writing-code\" data-toc-modified-id=\"Writing-code-2\"><span class=\"toc-item-num\">2&nbsp;&nbsp;</span>Writing code</a></span><ul class=\"toc-item\"><li><span><a href=\"#What-is-a-programming-language?\" data-toc-modified-id=\"What-is-a-programming-language?-2.1\"><span class=\"toc-item-num\">2.1&nbsp;&nbsp;</span>What is a programming language?</a></span></li><li><span><a href=\"#Making-sense-of-terms\" data-toc-modified-id=\"Making-sense-of-terms-2.2\"><span class=\"toc-item-num\">2.2&nbsp;&nbsp;</span>Making sense of terms</a></span></li><li><span><a href=\"#How-should-we-code?\" data-toc-modified-id=\"How-should-we-code?-2.3\"><span class=\"toc-item-num\">2.3&nbsp;&nbsp;</span>How should we code?</a></span></li><li><span><a href=\"#Coding-as-a-method\" data-toc-modified-id=\"Coding-as-a-method-2.4\"><span class=\"toc-item-num\">2.4&nbsp;&nbsp;</span>Coding as a method</a></span></li><li><span><a href=\"#Social-science-example\" data-toc-modified-id=\"Social-science-example-2.5\"><span class=\"toc-item-num\">2.5&nbsp;&nbsp;</span>Social science example</a></span></li></ul></li><li><span><a href=\"#Bibliography\" data-toc-modified-id=\"Bibliography-3\"><span class=\"toc-item-num\">3&nbsp;&nbsp;</span>Bibliography</a></span></li><li><span><a href=\"#Further-reading-and-resources\" data-toc-modified-id=\"Further-reading-and-resources-4\"><span class=\"toc-item-num\">4&nbsp;&nbsp;</span>Further reading and resources</a></span></li></ul></div>"
   ]
  },
  {
   "cell_type": "markdown",
   "metadata": {
    "slideshow": {
     "slide_type": "skip"
    }
   },
   "source": [
    "-------------------------------------\n",
    "\n",
    "<div style=\"text-align: center\"><i><b>This is notebook 3 of 6 in this lesson</i></b></div>\n",
    "\n",
    "-------------------------------------"
   ]
  },
  {
   "cell_type": "markdown",
   "metadata": {
    "slideshow": {
     "slide_type": "skip"
    }
   },
   "source": [
    "## Guide to using this resource\n",
    "\n",
    "This learning resource was built using <a href=\"https://jupyter.org/\" target=_blank>Jupyter Notebook</a>, an open-source software application that allows you to mix code, results and narrative in a single document. As <a href=\"https://jupyter4edu.github.io/jupyter-edu-book/\" target=_blank>Barba et al. (2019)</a> espouse:\n",
    "> In a world where every subject matter can have a data-supported treatment, where computational devices are omnipresent and pervasive, the union of natural language and computation creates compelling communication and learning opportunities.\n",
    "\n",
    "If you are familiar with Jupyter notebooks then skip ahead to the main content (*Collecting data from online databases using an API*). Otherwise, the following is a quick guide to navigating and interacting with the notebook."
   ]
  },
  {
   "cell_type": "markdown",
   "metadata": {
    "slideshow": {
     "slide_type": "skip"
    }
   },
   "source": [
    "### Interaction\n",
    "\n",
    "**You only need to execute the code that is contained in sections which are marked by `In []`.**\n",
    "\n",
    "To execute a cell, click or double-click the cell and press the `Run` button on the top toolbar (you can also use the keyboard shortcut Shift + Enter).\n",
    "\n",
    "Try it for yourself:"
   ]
  },
  {
   "cell_type": "code",
   "execution_count": 1,
   "metadata": {
    "slideshow": {
     "slide_type": "skip"
    }
   },
   "outputs": [
    {
     "name": "stdout",
     "output_type": "stream",
     "text": [
      "Enter your name and press enter:\n",
      "Diarmuid\n",
      "\n",
      "Hello Diarmuid, enjoy learning more about Python and computational social science!\n"
     ]
    }
   ],
   "source": [
    "print(\"Enter your name and press enter:\")\n",
    "name = input()\n",
    "print(\"\\r\")\n",
    "print(\"Hello {}, enjoy learning more about Python and computational social science!\".format(name)) "
   ]
  },
  {
   "cell_type": "markdown",
   "metadata": {
    "slideshow": {
     "slide_type": "skip"
    }
   },
   "source": [
    "### Learn more\n",
    "\n",
    "Jupyter notebooks provide rich, flexible features for conducting and documenting your data analysis workflow. To learn more about additional notebook features, we recommend working through some of the <a href=\"https://github.com/darribas/gds19/blob/master/content/labs/lab_00.ipynb\" target=_blank>materials</a> provided by Dani Arribas-Bel at the University of Liverpool. "
   ]
  },
  {
   "cell_type": "markdown",
   "metadata": {
    "slideshow": {
     "slide_type": "slide"
    }
   },
   "source": [
    "## Writing code\n",
    "\n",
    "Perhaps the most crucial aspect of being a computational social scientist, the ability to write code using a programming language can bring enourmous rewards."
   ]
  },
  {
   "cell_type": "markdown",
   "metadata": {
    "slideshow": {
     "slide_type": "subslide"
    }
   },
   "source": [
    "### What is a programming language?\n",
    "\n",
    "In essence, a *programming language* is a set of instructions through which humans can interact with a computer. Similar to a spoken language, there are grammatical (e.g., specifying commands correctly) and syntactical (e.g., arranging commands in the correct order) rules that need to followed."
   ]
  },
  {
   "cell_type": "markdown",
   "metadata": {
    "slideshow": {
     "slide_type": "subslide"
    }
   },
   "source": [
    "### Making sense of terms\n",
    "\n",
    "Like learning any new language (spoken or programming), much of the difficulty arises from getting to grips with an unfamiliar vocabulary. The following are some general programming terms, adapted from Brooker (2020), that are worth keeping in mind as you progress on your computational oddysey:\n",
    "\n",
    "* **Programming language** - a means of interacting with and issuing instructions to a computer.\n",
    "* **Programming** - the practice of using a programming language (also known as *coding*).\n",
    "* **Code** - the written down instructions that result from programming.\n",
    "* **Script** - a collection of code.\n",
    "* **Shell** - a tool that allows you to write and execute code e.g., using R without R Studio, using the Command Line Interface (CLI) on your computer. \n",
    "* **Debugging** - fixing errors or issues with your code.\n",
    "* **Testing** - the process of discovering errors or issues with your code."
   ]
  },
  {
   "cell_type": "markdown",
   "metadata": {
    "slideshow": {
     "slide_type": "subslide"
    }
   },
   "source": [
    "### How should we code?\n",
    "\n",
    "Before delving into the practice of writing code, it is worth taking a step back and considering the type of code we want to write. While code is designed to be *acted on* by computers, it is *written, read and adapted* by humans. **Literate programming** is an approach that emphasises the readability and fluency of code. The father of this approach, Donald Knuth (1984, p. 97), summarises its high level aim:\n",
    "\n",
    "> Let us change our traditional attitude to the construction of programs: Instead of imagining that our main task is to instruct a computer what to do, let us concentrate rather on explaining to human beings what we want a computer to do."
   ]
  },
  {
   "cell_type": "markdown",
   "metadata": {
    "slideshow": {
     "slide_type": "subslide"
    }
   },
   "source": [
    "Let's contrast code written in accordance with a **literate programming** approach, with some that does not. First, some bare, unadulterated code:"
   ]
  },
  {
   "cell_type": "code",
   "execution_count": 4,
   "metadata": {
    "slideshow": {
     "slide_type": "subslide"
    }
   },
   "outputs": [
    {
     "data": {
      "text/plain": [
       "\"<!DOCTYPE html>\\n<html>\\n  <head>\\n  </head>\\n  <body>\\n      <h1>Herman Melville - Moby-Dick</h1>\\n\\n      <div>\\n        <p>\\n          Availing himself of the mild, summer-cool weather that now reigned in these latitudes, and in preparation for the peculiarly active pursuits shortly to be anticipated, Perth, the begrimed, blistered old blacksmith, had not removed his portable forge to the hold again, after concluding his contributory work for Ahab's leg, but still retained it on deck, fast lashed to r\""
      ]
     },
     "execution_count": 4,
     "metadata": {},
     "output_type": "execute_result"
    }
   ],
   "source": [
    "import requests\n",
    "var1 = \"https://httpbin.org/html\"\n",
    "var2 = requests.get(var1)\n",
    "var2.text[0:500]"
   ]
  },
  {
   "cell_type": "markdown",
   "metadata": {
    "slideshow": {
     "slide_type": "subslide"
    }
   },
   "source": [
    "Even if you have some experience of programming and Python, is it clear what the above piece of code is doing? The computer clearly does, as it produces a result (i.e., no error message), but could you adapt this code for your own purposes?\n",
    "\n",
    "Let's edit the above into a more literate format:"
   ]
  },
  {
   "cell_type": "code",
   "execution_count": 5,
   "metadata": {
    "scrolled": true,
    "slideshow": {
     "slide_type": "subslide"
    }
   },
   "outputs": [
    {
     "data": {
      "text/plain": [
       "\"<!DOCTYPE html>\\n<html>\\n  <head>\\n  </head>\\n  <body>\\n      <h1>Herman Melville - Moby-Dick</h1>\\n\\n      <div>\\n        <p>\\n          Availing himself of the mild, summer-cool weather that now reigned in these latitudes, and in preparation for the peculiarly active pursuits shortly to be anticipated, Perth, the begrimed, blistered old blacksmith, had not removed his portable forge to the hold again, after concluding his contributory work for Ahab's leg, but still retained it on deck, fast lashed to ringbolts by the foremast; being now almost incessantly invoked by the headsmen, and harpooneers, and bowsmen to do some little job for them; altering, or repairing, or new shaping their various weapons and boat furniture. Often he would be surrounded by an eager circle, all waiting to be served; holding boat-spades, pike-heads, harpoons, and lances, and jealously watching his every sooty movement, as he toiled. Nevertheless, this old man's was a patient hammer wielded by a patient arm. No murmur, no impatience, no petulance did come from him. Silent, slow, and solemn; bowing over still further his chronically broken back, he toiled away, as if toil were life itself, and the heavy beating of his hammer the heavy beating of his heart. And so it was.—Most miserable! A peculiar walk in this old man, a certain slight but painful appearing yawing in his gait, had at an early period of the voyage excited the curiosity of the mariners. And to the importunity of their persisted questionings he had finally given in; and so it came to pass that every one now knew the shameful story of his wretched fate. Belated, and not innocently, one bitter winter's midnight, on the road running between two country towns, the blacksmith half-stupidly felt the deadly numbness stealing over him, and sought refuge in a leaning, dilapidated barn. The issue was, the loss of the extremities of both feet. Out of this revelation, part by part, at last came out the four acts of the gladness, and the one long, and as yet uncatastrophied fifth act of the grief of his life's drama. He was an old man, who, at the age of nearly sixty, had postponedly encountered that thing in sorrow's technicals called ruin. He had been an artisan of famed excellence, and with plenty to do; owned a house and garden; embraced a youthful, daughter-like, loving wife, and three blithe, ruddy children; every Sunday went to a cheerful-looking church, planted in a grove. But one night, under cover of darkness, and further concealed in a most cunning disguisement, a desperate burglar slid into his happy home, and robbed them all of everything. And darker yet to tell, the blacksmith himself did ignorantly conduct this burglar into his family's heart. It was the Bottle Conjuror! Upon the opening of that fatal cork, forth flew the fiend, and shrivelled up his home. Now, for prudent, most wise, and economic reasons, the blacksmith's shop was in the basement of his dwelling, but with a separate entrance to it; so that always had the young and loving healthy wife listened with no unhappy nervousness, but with vigorous pleasure, to the stout ringing of her young-armed old husband's hammer; whose reverberations, muffled by passing through the floors and walls, came up to her, not unsweetly, in her nursery; and so, to stout Labor's iron lullaby, the blacksmith's infants were rocked to slumber. Oh, woe on woe! Oh, Death, why canst thou not sometimes be timely? Hadst thou taken this old blacksmith to thyself ere his full ruin came upon him, then had the young widow had a delicious grief, and her orphans a truly venerable, legendary sire to dream of in their after years; and all of them a care-killing competency.\\n        </p>\\n      </div>\\n  </body>\\n</html>\""
      ]
     },
     "execution_count": 5,
     "metadata": {},
     "output_type": "execute_result"
    }
   ],
   "source": [
    "# Import modules\n",
    "\n",
    "import requests # library for requesting web pages\n",
    "\n",
    "# Define web address \n",
    "\n",
    "web_page = \"https://httpbin.org/html\"\n",
    "\n",
    "# Request web page\n",
    "\n",
    "response = requests.get(web_page)\n",
    "\n",
    "# View text contained in web page (first 500 characters)\n",
    "\n",
    "response.text"
   ]
  },
  {
   "cell_type": "markdown",
   "metadata": {
    "slideshow": {
     "slide_type": "subslide"
    }
   },
   "source": [
    "The code still produces the same results but this time in a more legible manner. Note the addition of comments explaining what the next line of code does, as well as more descriptive variable names, line spacing, and clearer conceptual ordering of the commands.\n",
    "\n",
    "Literate programming does not mean writing mountains of comments, simply that you keep the human reader of your code in mind as you program."
   ]
  },
  {
   "cell_type": "markdown",
   "metadata": {
    "slideshow": {
     "slide_type": "subslide"
    }
   },
   "source": [
    "### Coding as a method\n",
    "\n",
    "Programming is an increasingly popular social research method and can be conceived as (Brooker, 2019, p.1234):\n",
    "\n",
    "> a multipurpose toolkit for understanding and intervening in the (digital) social world in lots of different ways.\n",
    "\n",
    "We can write code to collect data from online sources (e.g., social media platforms, websites), analyse large-scale and unstructured data (e.g., natural language processing), and communicate the results of our research (e.g., by creating a Twitter bot that posts findings from your research when a certain term is mentioned).\n",
    "\n",
    "Even within a social science research context, learning to code opens up near limitless applications and benefits."
   ]
  },
  {
   "cell_type": "markdown",
   "metadata": {
    "slideshow": {
     "slide_type": "subslide"
    }
   },
   "source": [
    "### Social science example\n",
    "\n",
    "Let's look at a quick example from one of our own research projects (Diarmuid). Data about Australian charities is found on the regulator's website and we would like to scrape some of this data (i.e., about trustees, finances etc). Each charity has a unique organisation id that looks like this:\n",
    "* 15211513464 (University Of Sydney)\n",
    "\n",
    "However, a charity's web page is found using a link that looks like this:\n",
    "* https://www.acnc.gov.au/charity/750082c09988ea696067685d71239110 (University Of Sydney)\n",
    "\n",
    "Notice how the link doesn't contain the unique organisation id but instead a longer sequence of characters, which we'll call its webpage id. Thus, in order to scrape a charity's details we need to know its webpage id. One solution is to write a function that takes a charity's unique organisation id (`15211513464`) and returns its webpage id (`750082c09988ea696067685d71239110`)."
   ]
  },
  {
   "cell_type": "code",
   "execution_count": 6,
   "metadata": {
    "slideshow": {
     "slide_type": "subslide"
    }
   },
   "outputs": [],
   "source": [
    "# Collect ACNC webpage ids for charities\n",
    "\n",
    "def webid_download(abn: str):\n",
    " \n",
    "    # Request web page\n",
    "\n",
    "    session = requests.Session()\n",
    "\n",
    "    webadd = \"https://www.acnc.gov.au/charity?name_abn%5B0%5D=\" + str(abn) \n",
    "    response = session.get(webadd)\n",
    "    \n",
    "    # Parse web page\n",
    "\n",
    "    html_org = response.text\n",
    "    soup_org = soup(html_org, \"html.parser\")\n",
    "\n",
    "    # Find webpage id\n",
    "    \n",
    "    if soup_org.find('td', {'class': 'views-field views-field-acnc-search-api-title-sort'}):\n",
    "        charlinkdetails = soup_org.find('td', {'class': 'views-field views-field-acnc-search-api-title-sort'})\n",
    "        charlink = charlinkdetails.find('a').get('href')\n",
    "        webid = charlink[9:]\n",
    "        success = 1\n",
    "\n",
    "    else:\n",
    "        webid = \"\" \n",
    "        success = 0\n",
    "\n",
    "    return abn, webid, success"
   ]
  },
  {
   "cell_type": "markdown",
   "metadata": {
    "slideshow": {
     "slide_type": "subslide"
    }
   },
   "source": [
    "The above code defines a function, now we need to call it using an example organisation id:"
   ]
  },
  {
   "cell_type": "code",
   "execution_count": 9,
   "metadata": {
    "slideshow": {
     "slide_type": "subslide"
    }
   },
   "outputs": [
    {
     "name": "stdout",
     "output_type": "stream",
     "text": [
      "Charity 86122248122 has the following web id: bd961f471d8ced41461cec2d0f1b0bc2\n"
     ]
    }
   ],
   "source": [
    "# Import modules\n",
    "\n",
    "import requests\n",
    "from bs4 import BeautifulSoup as soup\n",
    "\n",
    "# Call the function and store the results in two variables\n",
    "\n",
    "orgid = \"86122248122\"\n",
    "abn, webid, success = webid_download(orgid)\n",
    "\n",
    "# View results\n",
    "\n",
    "if success==1:\n",
    "    print(\"Charity {} has the following web id: {}\".format(abn, webid))\n",
    "else:\n",
    "    print(\"Could not find web id for charity {}\".format(abn))"
   ]
  },
  {
   "cell_type": "markdown",
   "metadata": {
    "slideshow": {
     "slide_type": "skip"
    }
   },
   "source": [
    "## Bibliography\n",
    "\n",
    "Barba, Lorena A. et al. (2019). *Teaching and Learning with Jupyter*. <a href=\"https://jupyter4edu.github.io/jupyter-edu-book/\" target=_blank>https://jupyter4edu.github.io/jupyter-edu-book/</a>.\n",
    "\n",
    "Brooker, P. (2020). *Programming with Python for Social Scientists*. London: SAGE Publications Ltd.\n",
    "\n",
    "Brooker, P. (2019). My unexpectedly militant bots: A case for Programming-as-Social \n",
    "-Science. *The Sociological Review, 67*: 1228-1248.\n",
    "\n",
    "Knuth, D. (1984).  Literate Programming. *The Computer Journal, 27: 97-111*"
   ]
  },
  {
   "cell_type": "markdown",
   "metadata": {
    "slideshow": {
     "slide_type": "subslide"
    }
   },
   "source": [
    "## Further reading and resources\n",
    "\n",
    "We hope this brief demonstration has whetted your appetite for learning more about Python and programming in general. There are some fantastic learning materials available to you, many of them free. We highly recommend the materials referenced in the Bibliography. In addition, you may find the following useful:\n",
    "* <a href=\"https://github.com/UKDataServiceOpen/code-demos\" target=blank>Introduction to Python for Social Scientists</a>\n",
    "* <a href=\"http://doi.org/10.5281/zenodo.3474043\" target=blank>Code Camp</a>\n",
    "* <a href=\"https://assets.digitalocean.com/books/python/how-to-code-in-python.pdf\" target=_blank>How to Code in Python 3</a>"
   ]
  },
  {
   "cell_type": "markdown",
   "metadata": {
    "slideshow": {
     "slide_type": "slide"
    }
   },
   "source": [
    "<div style=\"text-align: right\"><a href=\"./bcss-notebook-two-2020-02-12.ipynb\" target=_blank><i>Previous section: Thinking computationally</i></a> &nbsp;&nbsp;&nbsp;&nbsp; | &nbsp;&nbsp;&nbsp;&nbsp;<a href=\"./bcss-notebook-four-2020-02-12.ipynb\" target=_blank><i>Next section: Computational environments</i></a></div>"
   ]
  }
 ],
 "metadata": {
  "kernelspec": {
   "display_name": "Python 3",
   "language": "python",
   "name": "python3"
  },
  "language_info": {
   "codemirror_mode": {
    "name": "ipython",
    "version": 3
   },
   "file_extension": ".py",
   "mimetype": "text/x-python",
   "name": "python",
   "nbconvert_exporter": "python",
   "pygments_lexer": "ipython3",
   "version": "3.7.3"
  },
  "toc": {
   "base_numbering": 1,
   "nav_menu": {},
   "number_sections": true,
   "sideBar": true,
   "skip_h1_title": true,
   "title_cell": "Table of Contents",
   "title_sidebar": "Contents",
   "toc_cell": true,
   "toc_position": {},
   "toc_section_display": true,
   "toc_window_display": false
  }
 },
 "nbformat": 4,
 "nbformat_minor": 2
}
