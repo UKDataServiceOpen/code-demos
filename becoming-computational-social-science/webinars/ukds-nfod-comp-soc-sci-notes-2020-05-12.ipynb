{
 "cells": [
  {
   "cell_type": "markdown",
   "metadata": {},
   "source": [
    "# New Forms of Data"
   ]
  },
  {
   "cell_type": "markdown",
   "metadata": {},
   "source": [
    "## Being a Computational Social Scientist\n",
    "\n",
    "* Date: 2020-05-12\n",
    "* Time: 1pm (GMT)\n",
    "* Facilitator: JK & DM\n",
    "* Presenters: JK & DM"
   ]
  },
  {
   "cell_type": "markdown",
   "metadata": {},
   "source": [
    "### List of non-Powerpoint resources covered during the webinar\n",
    "\n",
    "These are the web pages or other resources that I need to switch to and from Powerpoint during the webinar:\n",
    "* [Code notebooks](https://on-machine OR on Binder)\n",
    "* [UKDS Github](https://github.com/UKDataServiceOpen/new-forms-of-data)"
   ]
  },
  {
   "cell_type": "markdown",
   "metadata": {},
   "source": [
    "### Preliminaries\n",
    "\n",
    "Post some links in the Question Box before the webinar begins:\n",
    "* Binder link: https://mybinder.org/v2/gh/UKDataServiceOpen/comp-soc-sci/master?filepath=code\n",
    "* Coding demonstrations: https://www.ukdataservice.ac.uk/news-and-events/eventsitem/?id=5616\n",
    "* Github repository: https://github.com/UKDataServiceOpen/comp-soc-sci"
   ]
  },
  {
   "cell_type": "markdown",
   "metadata": {},
   "source": [
    "### Slide 1\n",
    "\n",
    "[*No notes*]"
   ]
  },
  {
   "cell_type": "markdown",
   "metadata": {},
   "source": [
    "### Slide 2\n",
    "\n",
    "Good afternoon, welcome to our webinar on being a computational social scientist. This is part of a larger UK Data Service training programme for social scientists wishing to learn about new forms of data e.g. data from the web, social media sites, text data.\n",
    "\n",
    "Firstly, we hope everyone is well under the current circumstances and thank you to those joining us live during this challenging period.\n",
    "\n",
    "Before we begin with the webinar, let's check the setup is working for you."
   ]
  },
  {
   "cell_type": "markdown",
   "metadata": {},
   "source": [
    "### Slide 3\n",
    "\n",
    "There should be a poll where you can respond yes or no as to whether you can hear me, please take a couple of seconds to complete this.\n",
    "\n",
    "[*If 100% yes, move to Slide 5; else move to Slide 4*]"
   ]
  },
  {
   "cell_type": "markdown",
   "metadata": {},
   "source": [
    "### Slide 4\n",
    "\n",
    "If you cannot hear me then please work through these steps for a few moments; if your issue is unresolved then please write a message using the *question* box and the facilitator will help you solve the issue.\n",
    "\n",
    "Finally, if you have any questions at any point during the webinar then please log them using the \"Question\" box and I will go through them one-by-one at the end."
   ]
  },
  {
   "cell_type": "markdown",
   "metadata": {},
   "source": [
    "### Slide 5\n",
    "\n",
    "This webinar is part of a work package at UK Data Service focusing on new forms of data for social science research. Most of our activities will be producing webinars on topics such as web-scraping, social networks, text mining, agent-based modelling, biomarker data and more. We will also be running live coding demonstrations for social scientists wanting to learn the Python programming language.\n",
    "\n",
    "Once this webinar is over we will send you an email with a link to all of the training materials for Being a Computational Social Scientist; we'll also post some links in the question box if you want to take a quick look at some of them during the webinar.\n",
    "\n",
    "[*DM to post links to Github repo in question box*]"
   ]
  },
  {
   "cell_type": "markdown",
   "metadata": {},
   "source": [
    "### Slide 6\n",
    "\n",
    "Let's begin. Computational social science is an enormously interesting field. The aim of today's webinar is to demystify what is meant by “computational social science”; argue why it’s worth engaging in computational methods for social science – this applies whether you consider yourself a quantitative or qualitative researcher; and outline five key knowledge and skills domains that feature heavily in computational social science:\n",
    "1. Thinking computationally\n",
    "2. Writing code\n",
    "3. Computational environments\n",
    "4. Manipulating structured and unstructured data\n",
    "5. Reproducibility of the scientific workflow\n",
    "\n",
    "We’ll demonstrate some coding examples using Python as well.\n",
    "\n",
    "[*DM to post links to Github repo in question box*]"
   ]
  },
  {
   "cell_type": "markdown",
   "metadata": {},
   "source": [
    "### Slide 7\n",
    "\n",
    "[*No notes*]"
   ]
  },
  {
   "cell_type": "markdown",
   "metadata": {},
   "source": [
    "### Slide 8\n",
    "\n",
    "Think of an API's role as similar to that of a translator faciliating a conversation between two individuals who do not speak the same language. Neither individual needs to know the other's language, just how to formulate their response in a way the translator can understand. Similarly, an API simplifies how applications communicate with each other."
   ]
  },
  {
   "cell_type": "markdown",
   "metadata": {},
   "source": [
    "### Slide 9\n",
    "\n",
    "[*No notes*]"
   ]
  },
  {
   "cell_type": "markdown",
   "metadata": {},
   "source": [
    "### Slide 10\n",
    "\n",
    "If you want to learn more about APIs, especially from a technical perspective, we highly recommend one of our previous webinars: <a href=\"https://www.youtube.com/watch?v=ffSQHPHO_c0\" target=_blank>What are APIs?</a>"
   ]
  },
  {
   "cell_type": "markdown",
   "metadata": {},
   "source": [
    "### Slide 11\n",
    "\n",
    "Think of using an API as the difference between downloading a raw data file which then needs to be filtered to arrive at the information you need, and performing the filtering when you request the data, so only what you need is returned (the API method).\n",
    "\n",
    "Data returned by APIs tend to be in JSON or XML format. Hierarchical data structure, therefore needs a bit of reshaping if you want to work with it in SPSS/Stata etc."
   ]
  },
  {
   "cell_type": "markdown",
   "metadata": {},
   "source": [
    "### Slide 12\n",
    "\n",
    "1. Similar to requesting a web page.\n",
    "2. Many APIs restrict the number of requests you can make over a given time period, while others require registration in order to authenticate who is trying to access the data.\n",
    "3. *No comment*"
   ]
  },
  {
   "cell_type": "markdown",
   "metadata": {},
   "source": [
    "### Slide 13\n",
    "\n",
    "4. Supplying basic information, after which access is usually immediately granted. This can vary though, and there may be some checks and verifications performed before you can use the API.\n",
    "5. We do this by supplying the API with a valid web address. If you participated in last week's webinar you'll have seen how we did this using the Python; today is no different, thankfully a lot of overlap between scraping web pages and interacting with APIs.\n",
    "6. Save the data and metadata that is returned in various file formats."
   ]
  },
  {
   "cell_type": "markdown",
   "metadata": {},
   "source": [
    "### External 1 \n",
    "\n",
    "OK, let's demonstrate how we apply the logic to an interesting example.\n",
    "\n",
    "[*Switch to Guardian website*]\n",
    "\n",
    "Let's say we're interested in capturing articles relating to Covid-19. We consider the Guardian to be a useful source/sampling frame of this information.\n",
    "\n",
    "Now we could manualy search the website but this would take an incredible amount of time. We could write a web-scraping script that automates the search for articles. Thankfully, neither of these approaches are necessary as, in its wisdom, the Guardian has decided to provide access to its content through its API.\n",
    "\n",
    "#### Locating the API\n",
    "\n",
    "[*Switch to Guardian API*]\n",
    "\n",
    "In some cases the organisation will allow you to explore the API without the need to write code or register for an API key. [*Demonstrate use of API explorer*]\n",
    "\n",
    "However, interacting with an API through a user interface (i.e., text boxes, drop-down menues) is slow, untransparent, labour intensive and often not possible. We will instead focus on writing code that performs the requests for us. Therefore, we need to use the following web address to access the API: https://content.guardianapis.com.\n",
    "\n",
    "(Note that you cannot request this web address through your browser; this is because access to the API is only possible by providing authentication i.e., an API key. Try for yourself by clicking on the links).\n",
    "\n",
    "#### Terms of use\n",
    "\n",
    "[*Click on https://open-platform.theguardian.com/access/*]\n",
    "\n",
    "#### Locating data\n",
    "\n",
    "[*Switch to https://open-platform.theguardian.com/documentation/*]\n",
    "\n",
    "OK, now we have the information we need and I've already registered our use of the API, so let's begin collecting data."
   ]
  },
  {
   "cell_type": "markdown",
   "metadata": {},
   "source": [
    "### External 2\n",
    "\n",
    "[*Switch to Jupyter Notebook presentation*]\n",
    "[*Make sure to clear all output before entering Slideshow mode*]\n",
    "\n",
    "#### Concluding remarks on Covid-19\n",
    "\n",
    "The Covid-19 pandemic is a seismic public health crisis that will dominate our lives for the foreseeable future. The example code above is not a craven attempt to provide some topicality to these materials, nor is it simply a particularly good example for learning how to interact with an API. There are real opportunities for social scientists to capture and analyse data on this phenomenon, such as The Guardian's reporting of the crisis.\n",
    "\n",
    "[*Show list of resources, mention there are many others*]\n",
    "\n",
    "[*Switch back to Powerpoint]"
   ]
  },
  {
   "cell_type": "markdown",
   "metadata": {},
   "source": [
    "### Slide 14\n",
    "\n",
    "Computational methods for collecting data from the web are an increasingly important component of a social scientist's toolkit. They enable individuals to collect and reshape data - qualitative and quantitative - that otherwise would be inaccessible for research purposes.\n",
    "\n",
    "Value:\n",
    "* As a result the learning curve is not as steep as with other methods, and it is possible for a beginner to create and execute a functioning web-scraping script in a matter of hours.\n",
    "* Schedule the script to run every month/quarter etc.\n",
    "* Many public, private and charitable institutions use their web sites to release and regularly update information of value to social scientists. Getting a handle on the volume, variety and velocity of this information is extremely challenging without the use of computational methods.\n",
    "* While Python and HTML might be unfamiliar, the data that is returned through web-scraping can be formatted in such a way as to be compatible with your usual analytical methods (e.g., regression modelling, content analysis) and software applications (e.g., Stata, NVivo). In fact, we would go as far to say that computational methods are particularly valuable to social scientists from a data collection and processing perspective, and you can achieve much without ever engaging in \"big data analytics\" (e.g., machine learning, neural networks, natural language processing)."
   ]
  },
  {
   "cell_type": "markdown",
   "metadata": {},
   "source": [
    "### Slide 15\n",
    "\n",
    "Limitations:\n",
    "* For example, the Guardian API allows up to 5,000 requests per day, the Companies House API up to 600 per five-minute period. These limits ensure the API can offer a reliable service to a wide user base (in contrast to a single user constantly requesting data and preventing others from doing so). Therefore you need to plan and structure your requests in such a way that you comply with the limit **and** retrieve the data you need for your analysis.\n",
    "* Some APIs provide accurate, detailed guides on how to make requests and handle responses; others are sparsely written and it can be a pain figuring out what data are available at each endpoint, how to correctly specify the web address, what the rate limit is etc. And if guidance is available, it might not be for the programming language you are using.\n",
    "* GDPR means that you are responsible for processing, securing, storing, using and deleting an individual's personal data, even if it’s publicly available through an API.\n",
    "* It can be a lot of work maintaining your code, especially if you make it available for use by others.\n",
    "* Else there can be legal implications resulting from non-compliance - for example, there might be restrictions around sharing data collected from an API\n",
    "* Not on the slide but: Interacting with APIs, and engaging in computational social science generally, is dependent on your computing setup."
   ]
  },
  {
   "cell_type": "markdown",
   "metadata": {},
   "source": [
    "### Slide 16\n",
    "\n",
    "[*No notes*]"
   ]
  },
  {
   "cell_type": "markdown",
   "metadata": {},
   "source": [
    "### Slide 17\n",
    "\n",
    "Thank you for joining us today. Let's work through some of the questions you have posed.\n",
    "\n",
    "[*If questions: read them out and answer, also copy-and-paste them somewhere*]\n",
    "\n",
    "[*If no questions: skip to final slide*]"
   ]
  },
  {
   "cell_type": "markdown",
   "metadata": {},
   "source": [
    "### Final slide\n",
    "\n",
    "That concludes our webinar, I hope it has demonstrated the value of APIs as a social science research method. Please consider completing the evaluation form that will appear once this webinar concludes: feedback from the previous session has influenced today's webinar (e.g., the sharing of materials in advance), and we're keen to hear about how we can improve our offering.\n",
    "\n",
    "This video will shortly be hosted on our Youtube channel. The code underpinning this webinar is available through our Github repository (see link), which also contains a copy of the slides, a reading list on this topic, more information about our New Form of Data training series.\n",
    "\n",
    "[*Post link to Github in Question box*]\n",
    "\n",
    "[*Switch to UKDS Github*]\n",
    "\n",
    "[*Switch back to final slide*]\n",
    "\n",
    "Please don't hesitate to get in contact if you have questions, queries or feedback, particularly around your training needs in this area; we're also on Twitter and Facebook if you want to stay up-to-date with our activities. Stay safe and hope to engage with you again in the near future."
   ]
  }
 ],
 "metadata": {
  "kernelspec": {
   "display_name": "Python 3",
   "language": "python",
   "name": "python3"
  },
  "language_info": {
   "codemirror_mode": {
    "name": "ipython",
    "version": 3
   },
   "file_extension": ".py",
   "mimetype": "text/x-python",
   "name": "python",
   "nbconvert_exporter": "python",
   "pygments_lexer": "ipython3",
   "version": "3.7.3"
  },
  "toc": {
   "base_numbering": 1,
   "nav_menu": {},
   "number_sections": true,
   "sideBar": true,
   "skip_h1_title": false,
   "title_cell": "Table of Contents",
   "title_sidebar": "Contents",
   "toc_cell": false,
   "toc_position": {},
   "toc_section_display": true,
   "toc_window_display": false
  }
 },
 "nbformat": 4,
 "nbformat_minor": 4
}
