{
 "cells": [
  {
   "cell_type": "markdown",
   "metadata": {
    "slideshow": {
     "slide_type": "skip"
    }
   },
   "source": [
    "![UKDS Logo](./images/UKDS_Logos_Col_Grey_300dpi.png)"
   ]
  },
  {
   "cell_type": "markdown",
   "metadata": {
    "slideshow": {
     "slide_type": "skip"
    }
   },
   "source": [
    "# Introduction to Python for Social Scientists"
   ]
  },
  {
   "cell_type": "markdown",
   "metadata": {
    "slideshow": {
     "slide_type": "skip"
    }
   },
   "source": [
    "Welcome to the <a href=\"https://ukdataservice.ac.uk/\" target=_blank>UK Data Service</a> training series on *New Forms of Data for Social Science Research*. This series guides you through some of the most common and valuable new sources of data available for social science research: data collected from websites, social media platorms, text data, conducting simulations (agent based modelling), to name a few. To help you get to grips with these new forms of data, we provide webinars, interactive notebooks containing live programming code, reading lists and more.\n",
    "\n",
    "* To access training materials for the entire series: <a href=\"https://github.com/UKDataServiceOpen/new-forms-of-data\" target=_blank>[Training Materials]</a>\n",
    "\n",
    "* To keep up to date with upcoming and past training events: <a href=\"https://ukdataservice.ac.uk/news-and-events/events\" target=_blank>[Events]</a>\n",
    "\n",
    "* To get in contact with feedback, ideas or to seek assistance: <a href=\"https://ukdataservice.ac.uk/help.aspx\" target=_blank>[Help]</a>\n",
    "\n",
    "<a href=\"https://www.research.manchester.ac.uk/portal/julia.kasmire.html\" target=_blank>Dr Julia Kasmire</a> and <a href=\"https://www.research.manchester.ac.uk/portal/diarmuid.mcdonnell.html\" target=_blank>Dr Diarmuid McDonnell</a> <br />\n",
    "UK Data Service  <br />\n",
    "University of Manchester <br />\n",
    "May 2020"
   ]
  },
  {
   "cell_type": "markdown",
   "metadata": {
    "slideshow": {
     "slide_type": "skip"
    }
   },
   "source": [
    "## Introduction\n",
    "\n",
    "Computational methods for collecting, cleaning and analysing data are an increasingly important component of a social scientist’s toolkit. Central to engaging in these methods is the ability to write readable and effective code using a programming language.\n",
    "\n",
    "In this training series we demonstrate core programming concepts and methods through the use of social science examples. In particular we focus on four areas of programming/computational social science:\n",
    "1. Introduction to Python. [Focus of this notebook]\n",
    "2. Collecting data I: web-scraping.\n",
    "3. Collecting data II: APIs.\n",
    "4. Setting up your computational environment.\n",
    "\n",
    "### Aims\n",
    "\n",
    "This lesson - **Introduction to Python** - has two aims:\n",
    "1. Demonstrate how to use Python for a typical social science research activity.\n",
    "2. Cultivate your computational thinking skills through a coding example."
   ]
  },
  {
   "cell_type": "markdown",
   "metadata": {
    "slideshow": {
     "slide_type": "skip"
    }
   },
   "source": [
    "## Guide to using this resource\n",
    "\n",
    "This learning resource was built using <a href=\"https://jupyter.org/\" target=_blank>Jupyter Notebook</a>, an open-source software application that allows you to mix code, results and narrative in a single document. As <a href=\"https://jupyter4edu.github.io/jupyter-edu-book/\" target=_blank>Barba et al. (2019)</a> espouse:\n",
    "> In a world where every subject matter can have a data-supported treatment, where computational devices are omnipresent and pervasive, the union of natural language and computation creates compelling communication and learning opportunities.\n",
    "\n",
    "If you are familiar with Jupyter notebooks then skip ahead to the main content (*What is a programming language?*). Otherwise, the following is a quick guide to navigating and interacting with the notebook."
   ]
  },
  {
   "cell_type": "markdown",
   "metadata": {
    "slideshow": {
     "slide_type": "slide"
    }
   },
   "source": [
    "### Interaction\n",
    "\n",
    "**You only need to execute the code that is contained in sections which are marked by `In []`.**\n",
    "\n",
    "To execute a cell, click or double-click the cell and press the `Run` button on the top toolbar (you can also use the keyboard shortcut Shift + Enter).\n",
    "\n",
    "Try it for yourself:"
   ]
  },
  {
   "cell_type": "code",
   "execution_count": 1,
   "metadata": {
    "slideshow": {
     "slide_type": "subslide"
    }
   },
   "outputs": [
    {
     "name": "stdout",
     "output_type": "stream",
     "text": [
      "Enter your name and press enter:\n",
      "Diarmuid\n",
      "\n",
      "Hello Diarmuid, enjoy learning more about Python!\n"
     ]
    }
   ],
   "source": [
    "print(\"Enter your name and press enter:\")\n",
    "name = input()\n",
    "print(\"\\r\")\n",
    "print(\"Hello {}, enjoy learning more about Python!\".format(name))"
   ]
  },
  {
   "cell_type": "markdown",
   "metadata": {
    "slideshow": {
     "slide_type": "skip"
    }
   },
   "source": [
    "### Learn more\n",
    "\n",
    "Jupyter notebooks provide rich, flexible features for conducting and documenting your data analysis workflow. To learn more about additional notebook features, we recommend working through some of the <a href=\"https://github.com/darribas/gds19/blob/master/content/labs/lab_00.ipynb\" target=_blank>materials</a> provided by Dani Arribas-Bel at the University of Liverpool. "
   ]
  },
  {
   "cell_type": "markdown",
   "metadata": {
    "slideshow": {
     "slide_type": "skip"
    }
   },
   "source": [
    "## What is a programming language?\n",
    "\n",
    "In essence, a *programming language* is a set of instructions through which humans can interact with a computer. Similar to a spoken language, there are grammatical (e.g., specifying commands correctly) and syntactical (e.g., arranging commands in the correct order) rules that need to followed."
   ]
  },
  {
   "cell_type": "markdown",
   "metadata": {
    "slideshow": {
     "slide_type": "skip"
    }
   },
   "source": [
    "### Vocabulary\n",
    "\n",
    "Like learning any new language (spoken or programming), much of the difficulty arises from getting to grips with an unfamiliar vocabulary. The following are some general programming terms, adapted from Brooker (2020), that are worth keeping in mind as you progress on your computational oddysey:\n",
    "\n",
    "* **Programming language** - a means of interacting with and issuing instructions to a computer.\n",
    "* **Programming** - the practice of using a programming language (also known as *coding*).\n",
    "* **Code** - the written down instructions that result from programming.\n",
    "* **Script** - a collection of code.\n",
    "* **Shell** - a tool that allows you to write and execute code e.g., using R withoutR Studio, using the Command Line Interface (CLI) on your computer. \n",
    "* **Debugging** - fixing errors or issues with your code.\n",
    "* **Testing** - the process of discovering errors or issues with your code."
   ]
  },
  {
   "cell_type": "markdown",
   "metadata": {
    "slideshow": {
     "slide_type": "skip"
    }
   },
   "source": [
    "### What is Python?\n",
    "\n",
    "Python is an open-source, general purpose, high level and extensible programming language. These terms may be unfamiliar, especially in this context, so let's take them one-by-one:\n",
    "* **Open source** - the source code that underpins Python is freely available for others to use, modify and share, as long as these activities comply with the <a href=\"https://docs.python.org/3/license.html\" target=_blank>license</a>. Watch this neat <a href=\"https://www.youtube.com/watch?v=Tyd0FO0tko8\" target=_blank>overview</a> of open-source software to learn more.\n",
    "* **General purpose** - Python can be used for a multitude of programming activities, such as web development, scientific computing, software development, system administration, and more.\n",
    "* **High level** - the way Python is written is highly abstracted from the language your machine uses to send, receive and store information. Computers receive instructions in a language called *binary*, which is a series of 1s and 0s that represent a range of characters. For example, here is my name (\"Diarmuid\") represented as binary: <br><br>01000100 01101001 01100001 01110010 01101101 01110101 01101001 01100100<br><br>The first sequence of 8 bits (known as a \"byte\") represents the letter \"D\", the second sequence the letter \"i\" and so on. It would be difficult and tedious in the extreme to write programming code in sequences of binary, hence the creation of high-level languages that are easier to read, write and understand by humans.\n",
    "* **Extensible** - Python's functionality, capabilities and range of uses can be expanded. This is often achieved through the creation and sharing of additional, open-source add-ons (known as *packages*). For example, the `BeautifulSoup` module was created to enable Python users to extract information from web pages. "
   ]
  },
  {
   "cell_type": "markdown",
   "metadata": {
    "slideshow": {
     "slide_type": "slide"
    }
   },
   "source": [
    "## Python for social science research"
   ]
  },
  {
   "cell_type": "markdown",
   "metadata": {
    "slideshow": {
     "slide_type": "subslide"
    }
   },
   "source": [
    "Python provides some really nice methods and techniques for social scientists. It can be used to download and view files:"
   ]
  },
  {
   "cell_type": "code",
   "execution_count": 2,
   "metadata": {
    "slideshow": {
     "slide_type": "subslide"
    }
   },
   "outputs": [],
   "source": [
    "import requests\n",
    "\n",
    "accounts = \"http://apps.charitycommission.gov.uk/Accounts/Ends35/0000211535_AC_20190331_E_C.PDF\"\n",
    "outfile = \"annual-accounts-211535-2019.pdf\"\n",
    "\n",
    "response = requests.get(accounts, allow_redirects=True)\n",
    "\n",
    "with open(outfile, \"wb\") as f: # with the file open in \"write binary\" mode, and giving it a shorter name (f)\n",
    "    f.write(response.content)"
   ]
  },
  {
   "cell_type": "code",
   "execution_count": 3,
   "metadata": {
    "slideshow": {
     "slide_type": "subslide"
    }
   },
   "outputs": [
    {
     "data": {
      "text/html": [
       "\n",
       "        <iframe\n",
       "            width=\"800\"\n",
       "            height=\"500\"\n",
       "            src=\"annual-accounts-211535-2019.pdf\"\n",
       "            frameborder=\"0\"\n",
       "            allowfullscreen\n",
       "        ></iframe>\n",
       "        "
      ],
      "text/plain": [
       "<IPython.lib.display.IFrame at 0x1f2d6d7b9e8>"
      ]
     },
     "execution_count": 3,
     "metadata": {},
     "output_type": "execute_result"
    }
   ],
   "source": [
    "from IPython.display import IFrame\n",
    "IFrame(outfile, width=800, height=500)"
   ]
  },
  {
   "cell_type": "markdown",
   "metadata": {
    "slideshow": {
     "slide_type": "subslide"
    }
   },
   "source": [
    "It can produce some interesting, interactive visualisations:"
   ]
  },
  {
   "cell_type": "code",
   "execution_count": 4,
   "metadata": {
    "slideshow": {
     "slide_type": "subslide"
    }
   },
   "outputs": [
    {
     "data": {
      "text/html": [
       "\n",
       "        <iframe\n",
       "            width=\"800\"\n",
       "            height=\"600\"\n",
       "            src=\"images/cast-sankey-diagram-2020-03-27.html\"\n",
       "            frameborder=\"0\"\n",
       "            allowfullscreen\n",
       "        ></iframe>\n",
       "        "
      ],
      "text/plain": [
       "<IPython.lib.display.IFrame at 0x1f2d6d7bd68>"
      ]
     },
     "execution_count": 4,
     "metadata": {},
     "output_type": "execute_result"
    }
   ],
   "source": [
    "IFrame(\"images/cast-sankey-diagram-2020-03-27.html\", width=800, height=600)"
   ]
  },
  {
   "cell_type": "markdown",
   "metadata": {
    "slideshow": {
     "slide_type": "subslide"
    }
   },
   "source": [
    "It can do lots more, including natural language processing, machine learning, text mining etc. However, in this lesson we're going to focus on learning to walk before we start to run. Therefore, we'll focus on some core data manipulation skills that many social scientists could benefit from possessing."
   ]
  },
  {
   "cell_type": "markdown",
   "metadata": {
    "slideshow": {
     "slide_type": "slide"
    }
   },
   "source": [
    "### Manipulating data\n",
    "\n",
    "Let's introduce some of the fundamentals of Python through a typical social science research activity: **creating a sampling frame**. \n",
    "> A sampling frame is a list or other device used to define a researcher's population of interest. (Lewis-Beck et al., 2004)"
   ]
  },
  {
   "cell_type": "markdown",
   "metadata": {
    "slideshow": {
     "slide_type": "skip"
    }
   },
   "source": [
    "Though not as exciting as other social science activities (e.g., data visualisation), constructing a sampling frame requires a reasonable level of data and computational literacy, as we will soon demonstrate. It is also perfect for demonstrating how Python can be used to interact with your computer and data."
   ]
  },
  {
   "cell_type": "markdown",
   "metadata": {
    "slideshow": {
     "slide_type": "slide"
    }
   },
   "source": [
    "### Defining the problem\n",
    "\n",
    "Programming is fundamentally about solving problems, so let's reframe our social science research activity in those terms.\n",
    "\n",
    "> Jane is a sociologist who is completing a mixed methods PhD. The research design involves three waves of surveys sent to individuals, followed by semi-structured interviews with a subset of the survey respondents. The surveys have been completed and now her main task is to construct a sampling frame of individuals who could participate in the interview phase."
   ]
  },
  {
   "cell_type": "markdown",
   "metadata": {
    "slideshow": {
     "slide_type": "subslide"
    }
   },
   "source": [
    "While this is an important first step, the problem can seem quite daunting when defined in such broad terms. Therefore it helps to *decompose* the problem into smaller steps:\n",
    "1. Locate the files containing the data we need.\n",
    "2. Open each file and extract its contents.\n",
    "3. Append the contents of each file together to create a master file of all responses (i.e., our sampling frame).\n",
    "4. Save the sampling frame as a separate file.\n",
    "5. Produce a random sample of responses using the sampling frame and save this as a separate file; the random sample represents individuals who would then be contacted about participating in the semi-structured interviews."
   ]
  },
  {
   "cell_type": "markdown",
   "metadata": {
    "slideshow": {
     "slide_type": "skip"
    }
   },
   "source": [
    "What we've just written is called *pseudo-code*, as it captures the main tasks and the order in which they need to be run, but isn't code that a programming language can understand (e.g., you can't just tell Python \"*Hey, locate the files I need for my project*\").\n",
    "\n",
    "We're going to use some real, open data in this lesson: individual responses to the 1961, 1971 and 1981 UK censuses [<a href=\"https://www.ukdataservice.ac.uk/get-data/open-data.aspx\" target=_blank>Available here</a>]. These data sets contain a 1% sample of all individuals who responded to each census, and contain a subset of variables relating to each respondent (e.g., sex, age). We won't concern ourselves too much with the contents of these data sets, just how we can manipulate them to solve our research problem (creating a sampling frame)."
   ]
  },
  {
   "cell_type": "markdown",
   "metadata": {
    "slideshow": {
     "slide_type": "slide"
    }
   },
   "source": [
    "### Setting up Python\n",
    "\n",
    "Python already has lots of functionality available when you first launch it. For example, we can perform calculations like so:"
   ]
  },
  {
   "cell_type": "code",
   "execution_count": 5,
   "metadata": {
    "slideshow": {
     "slide_type": "subslide"
    }
   },
   "outputs": [
    {
     "data": {
      "text/plain": [
       "4515"
      ]
     },
     "execution_count": 5,
     "metadata": {},
     "output_type": "execute_result"
    }
   ],
   "source": [
    "43 * 105"
   ]
  },
  {
   "cell_type": "markdown",
   "metadata": {
    "slideshow": {
     "slide_type": "subslide"
    }
   },
   "source": [
    "Or we can print statements to the screen:"
   ]
  },
  {
   "cell_type": "code",
   "execution_count": 6,
   "metadata": {
    "slideshow": {
     "slide_type": "fragment"
    }
   },
   "outputs": [
    {
     "name": "stdout",
     "output_type": "stream",
     "text": [
      "Python cannot be that difficult to learn, right?\n"
     ]
    }
   ],
   "source": [
    "print(\"Python cannot be that difficult to learn, right?\")"
   ]
  },
  {
   "cell_type": "markdown",
   "metadata": {
    "slideshow": {
     "slide_type": "subslide"
    }
   },
   "source": [
    "Often though, we need to *import* additional functionality specific to the activity at hand. "
   ]
  },
  {
   "cell_type": "code",
   "execution_count": 58,
   "metadata": {
    "slideshow": {
     "slide_type": "subslide"
    }
   },
   "outputs": [
    {
     "name": "stdout",
     "output_type": "stream",
     "text": [
      "Succesfully imported necessary modules\n"
     ]
    }
   ],
   "source": [
    "# Import modules\n",
    "\n",
    "import os # module for navigating your machine (e.g., file directories)\n",
    "import csv # module for working with delimited text files\n",
    "import pandas as pd # module for handling data\n",
    "from datetime import datetime # module for working with dates and time\n",
    "\n",
    "print(\"Succesfully imported necessary modules\")"
   ]
  },
  {
   "cell_type": "code",
   "execution_count": 59,
   "metadata": {},
   "outputs": [
    {
     "name": "stdout",
     "output_type": "stream",
     "text": [
      "alabaster==0.7.12\n",
      "altair==4.0.1\n",
      "anaconda-client==1.7.2\n",
      "anaconda-navigator==1.9.7\n",
      "anaconda-project==0.8.3\n",
      "asn1crypto==1.3.0\n",
      "astroid==2.3.3\n",
      "astropy==4.0\n",
      "atomicwrites==1.3.0\n",
      "attrs==19.3.0\n",
      "Babel==2.8.0\n",
      "backcall==0.1.0\n",
      "backports.functools-lru-cache==1.6.1\n",
      "backports.os==0.1.1\n",
      "backports.shutil-get-terminal-size==1.0.0\n",
      "backports.tempfile==1.0\n",
      "backports.weakref==1.0.post1\n",
      "beautifulsoup4==4.8.2\n",
      "bitarray==1.2.1\n",
      "bkcharts==0.2\n",
      "bleach==3.1.0\n",
      "bokeh==2.0.0\n",
      "boto==2.49.0\n",
      "Bottleneck==1.3.2\n",
      "certifi==2019.11.28\n",
      "cffi==1.14.0\n",
      "chardet==3.0.4\n",
      "chart-studio==1.0.0\n",
      "Click==7.0\n",
      "cloudpickle==1.3.0\n",
      "clyent==1.2.2\n",
      "colorama==0.4.3\n",
      "colorlover==0.3.0\n",
      "comtypes==1.1.7\n",
      "conda==4.8.2\n",
      "conda-build==3.18.8\n",
      "conda-package-handling==1.6.0\n",
      "conda-verify==3.4.2\n",
      "contextlib2==0.6.0.post1\n",
      "cryptography==2.8\n",
      "cufflinks==0.17.3\n",
      "cycler==0.10.0\n",
      "Cython==0.29.15\n",
      "cytoolz==0.10.1\n",
      "dask==2.12.0\n",
      "decorator==4.4.2\n",
      "defusedxml==0.6.0\n",
      "Deprecated==1.2.9\n",
      "dicttoxml==1.7.4\n",
      "distributed==2.12.0\n",
      "docutils==0.16\n",
      "entrypoints==0.3\n",
      "et-xmlfile==1.0.1\n",
      "fastcache==1.1.0\n",
      "filelock==3.0.12\n",
      "Flask==1.1.1\n",
      "fsspec==0.6.2\n",
      "future==0.18.2\n",
      "gevent==1.4.0\n",
      "glob2==0.7\n",
      "greenlet==0.4.15\n",
      "h5py==2.10.0\n",
      "HeapDict==1.0.1\n",
      "html5lib==1.0.1\n",
      "hypothesis==5.5.4\n",
      "idna==2.8\n",
      "imageio==2.6.1\n",
      "imagesize==1.2.0\n",
      "importlib-metadata==1.5.0\n",
      "ipykernel==5.1.4\n",
      "ipystata==0.3.8\n",
      "ipython==7.13.0\n",
      "ipython-genutils==0.2.0\n",
      "ipywidgets==7.5.1\n",
      "isort==4.3.21\n",
      "itsdangerous==1.1.0\n",
      "jdcal==1.4.1\n",
      "jedi==0.16.0\n",
      "Jinja2==2.11.1\n",
      "joblib==0.14.1\n",
      "json2xml==3.3.2\n",
      "json5==0.9.1\n",
      "jsonschema==3.2.0\n",
      "jupyter==1.0.0\n",
      "jupyter-book==0.6.4\n",
      "jupyter-client==5.3.4\n",
      "jupyter-console==6.1.0\n",
      "jupyter-contrib-core==0.3.3\n",
      "jupyter-contrib-nbextensions==0.5.1\n",
      "jupyter-core==4.6.1\n",
      "jupyter-dashboards==0.7.0\n",
      "jupyter-highlight-selected-word==0.2.0\n",
      "jupyter-latex-envs==1.4.6\n",
      "jupyter-nbextensions-configurator==0.4.1\n",
      "jupyterlab==1.2.6\n",
      "jupyterlab-server==1.0.6\n",
      "jupyterthemes==0.20.0\n",
      "jupytext==1.4.2\n",
      "keyring==21.1.0\n",
      "kiwisolver==1.1.0\n",
      "lazy-object-proxy==1.4.3\n",
      "lesscpy==0.14.0\n",
      "libarchive-c==2.8\n",
      "libsass==0.19.4\n",
      "llvmlite==0.31.0\n",
      "locket==0.2.0\n",
      "lxml==4.5.0\n",
      "MarkupSafe==1.1.1\n",
      "matplotlib==3.1.3\n",
      "mccabe==0.6.1\n",
      "menuinst==1.4.16\n",
      "mistune==0.8.4\n",
      "mkl-fft==1.0.15\n",
      "mkl-random==1.1.0\n",
      "mkl-service==2.3.0\n",
      "mock==4.0.1\n",
      "more-itertools==8.2.0\n",
      "mpmath==1.1.0\n",
      "msgpack==0.6.1\n",
      "multipledispatch==0.6.0\n",
      "navigator-updater==0.2.1\n",
      "nbconvert==5.6.1\n",
      "nbformat==5.0.4\n",
      "networkx==2.4\n",
      "nltk==3.4.5\n",
      "nose==1.3.7\n",
      "notebook==6.0.3\n",
      "numba==0.48.0\n",
      "numexpr==2.7.1\n",
      "numpy==1.18.1\n",
      "numpydoc==0.9.2\n",
      "olefile==0.46\n",
      "openpyxl==3.0.3\n",
      "packaging==20.3\n",
      "pandas==1.0.1\n",
      "pandocfilters==1.4.2\n",
      "parso==0.6.1\n",
      "partd==1.1.0\n",
      "path==13.1.0\n",
      "pathlib2==2.3.5\n",
      "patsy==0.5.1\n",
      "pep8==1.7.1\n",
      "pexpect==4.8.0\n",
      "pickleshare==0.7.5\n",
      "Pillow==7.0.0\n",
      "pkginfo==1.5.0.1\n",
      "plotly==4.5.3\n",
      "pluggy==0.13.1\n",
      "ply==3.11\n",
      "prometheus-client==0.7.1\n",
      "prompt-toolkit==3.0.3\n",
      "psutil==5.7.0\n",
      "ptyprocess==0.6.0\n",
      "py==1.8.1\n",
      "pycodestyle==2.5.0\n",
      "pycosat==0.6.3\n",
      "pycparser==2.19\n",
      "pycrypto==2.6.1\n",
      "pycurl==7.43.0.5\n",
      "pyflakes==2.1.1\n",
      "PyGithub==1.51\n",
      "Pygments==2.5.2\n",
      "PyJWT==1.7.1\n",
      "pylint==2.4.4\n",
      "pyodbc===4.0.0-unsupported\n",
      "pyOpenSSL==19.1.0\n",
      "pyparsing==2.4.6\n",
      "pyreadline==2.1\n",
      "pyrsistent==0.15.7\n",
      "PySocks==1.7.1\n",
      "pytest==5.3.5\n",
      "pytest-arraydiff==0.3\n",
      "pytest-astropy==0.8.0\n",
      "pytest-astropy-header==0.1.2\n",
      "pytest-doctestplus==0.5.0\n",
      "pytest-openfiles==0.4.0\n",
      "pytest-remotedata==0.3.2\n",
      "python-dateutil==2.8.1\n",
      "pytz==2019.3\n",
      "PyWavelets==1.1.1\n",
      "pywin32==227\n",
      "pywin32-ctypes==0.2.0\n",
      "pywinpty==0.5.7\n",
      "PyYAML==5.3\n",
      "pyzmq==18.1.1\n",
      "qgrid==1.3.0\n",
      "QtAwesome==0.6.1\n",
      "qtconsole==4.7.1\n",
      "QtPy==1.9.0\n",
      "requests==2.23.0\n",
      "retrying==1.3.3\n",
      "rise==5.6.1\n",
      "rope==0.16.0\n",
      "ruamel-yaml==0.15.87\n",
      "ruamel.yaml.clib==0.2.0\n",
      "scikit-image==0.16.2\n",
      "scikit-learn==0.22.1\n",
      "scipy==1.4.1\n",
      "seaborn==0.10.0\n",
      "Send2Trash==1.5.0\n",
      "simplegeneric==0.8.1\n",
      "singledispatch==3.4.0.3\n",
      "six==1.14.0\n",
      "snowballstemmer==2.0.0\n",
      "sortedcollections==1.1.2\n",
      "sortedcontainers==2.1.0\n",
      "soupsieve==1.9.5\n",
      "Sphinx==2.4.0\n",
      "sphinxcontrib-applehelp==1.0.1\n",
      "sphinxcontrib-devhelp==1.0.1\n",
      "sphinxcontrib-htmlhelp==1.0.2\n",
      "sphinxcontrib-jsmath==1.0.1\n",
      "sphinxcontrib-qthelp==1.0.2\n",
      "sphinxcontrib-serializinghtml==1.1.3\n",
      "sphinxcontrib-websupport==1.2.0\n",
      "spyder==3.3.6\n",
      "spyder-kernels==0.5.1\n",
      "SQLAlchemy==1.3.13\n",
      "stata-kernel==1.11.2\n",
      "statsmodels==0.11.0\n",
      "sympy==1.5.1\n",
      "tables==3.6.1\n",
      "tblib==1.6.0\n",
      "terminado==0.8.3\n",
      "testpath==0.4.4\n",
      "toolz==0.10.0\n",
      "tornado==6.0.4\n",
      "tqdm==4.42.1\n",
      "traitlets==4.3.3\n",
      "typing-extensions==3.7.4.1\n",
      "unicodecsv==0.14.1\n",
      "urllib3==1.25.8\n",
      "wcwidth==0.1.8\n",
      "webencodings==0.5.1\n",
      "Werkzeug==1.0.0\n",
      "widgetsnbextension==3.5.1\n",
      "win-inet-pton==1.1.0\n",
      "win-unicode-console==0.5\n",
      "wincertstore==0.2\n",
      "wrapt==1.11.2\n",
      "xlrd==1.2.0\n",
      "XlsxWriter==1.2.7\n",
      "xlwings==0.17.1\n",
      "xlwt==1.3.0\n",
      "xmltodict==0.11.0\n",
      "zict==1.0.0\n",
      "zipp==2.2.0\n"
     ]
    }
   ],
   "source": [
    "!pip freeze"
   ]
  },
  {
   "cell_type": "markdown",
   "metadata": {
    "slideshow": {
     "slide_type": "skip"
    }
   },
   "source": [
    "Modules are additional techniques or functions that are not present when you launch Python. Some do not even come with Python when you download it and must be installed on your machine separately - think of using `ssc install <package>` in Stata, or `install.packages(<package>)` in R. For now just understand that many useful modules need to be imported every time you start a new Python session."
   ]
  },
  {
   "cell_type": "markdown",
   "metadata": {
    "slideshow": {
     "slide_type": "slide"
    }
   },
   "source": [
    "### Working with directories\n",
    "\n",
    "(A directory is another name for a folder.)"
   ]
  },
  {
   "cell_type": "markdown",
   "metadata": {
    "slideshow": {
     "slide_type": "skip"
    }
   },
   "source": [
    "A key task in any research project is setting up the directory structure in a logical and organised manner (Ferretti et al., 2019). While we're sure you won't find this task very interesting, not giving this enough thought leads to some very frustrating scenarios, such as: \n",
    "* Raw data and clean data being stored in the same folder.\n",
    "* File names which only serve to confuse - which is the latest version: *Thesis Chapter 5 final.docx* or *Thesis Chapter 5 final UPDATED.docx*?\n",
    "* Accidently deleting files because they are stored in the wrong folder.\n",
    "\n",
    "In addition, a messy, non-sensical directory structure severely hinders your ability to collaborate with others (or yourself in the future). Think of being near the end of a project and having to update a chapter or article: can you find the clean data and recreate the steps that produced the table? Can you find the quotes critical to evidencing a particular theme?\n",
    "\n",
    "Thankfully Python provides techniques for creating and navigating your directory structure."
   ]
  },
  {
   "cell_type": "markdown",
   "metadata": {
    "slideshow": {
     "slide_type": "subslide"
    }
   },
   "source": [
    "#### Locating current folder\n",
    "\n",
    "The first thing we can ask Python to do is tell us where we currently are on our computer. That is, where is the file we are currently using located?"
   ]
  },
  {
   "cell_type": "code",
   "execution_count": 8,
   "metadata": {
    "slideshow": {
     "slide_type": "fragment"
    }
   },
   "outputs": [
    {
     "data": {
      "text/plain": [
       "'C:\\\\Users\\\\t95171dm\\\\projects\\\\code-demos\\\\code'"
      ]
     },
     "execution_count": 8,
     "metadata": {},
     "output_type": "execute_result"
    }
   ],
   "source": [
    "os.getcwd()"
   ]
  },
  {
   "cell_type": "markdown",
   "metadata": {
    "slideshow": {
     "slide_type": "skip"
    }
   },
   "source": [
    "Let's unpack the `os.getcwd()` command: There is a module called `os` which provides various methods for working with files and folders on your computer. One of these methods is called `getcwd()`, which returns a value indicating which folder is acting as the current working directory."
   ]
  },
  {
   "cell_type": "markdown",
   "metadata": {
    "slideshow": {
     "slide_type": "subslide"
    }
   },
   "source": [
    "And what files are located in this folder?"
   ]
  },
  {
   "cell_type": "code",
   "execution_count": 9,
   "metadata": {
    "slideshow": {
     "slide_type": "fragment"
    }
   },
   "outputs": [
    {
     "data": {
      "text/plain": [
       "['.ipynb_checkpoints',\n",
       " 'annual-accounts-211535-2019.pdf',\n",
       " 'images',\n",
       " 'README.md',\n",
       " 'responses',\n",
       " 'sampling-frame',\n",
       " 'ukds-intro-to-python-2020-05-06.ipynb',\n",
       " 'ukds-intro-to-python-notes-2020-05-06.ipynb']"
      ]
     },
     "execution_count": 9,
     "metadata": {},
     "output_type": "execute_result"
    }
   ],
   "source": [
    "os.listdir()"
   ]
  },
  {
   "cell_type": "markdown",
   "metadata": {
    "slideshow": {
     "slide_type": "subslide"
    }
   },
   "source": [
    "#### Examining folders\n",
    "\n",
    "Let's take a look at the folder containing the data files we need to process:"
   ]
  },
  {
   "cell_type": "code",
   "execution_count": 10,
   "metadata": {
    "slideshow": {
     "slide_type": "fragment"
    }
   },
   "outputs": [
    {
     "data": {
      "text/plain": [
       "['census_1961.csv', 'census_1971.csv', 'census_1981.csv', 'LICENSE.txt']"
      ]
     },
     "execution_count": 10,
     "metadata": {},
     "output_type": "execute_result"
    }
   ],
   "source": [
    "os.listdir(\"responses\")"
   ]
  },
  {
   "cell_type": "markdown",
   "metadata": {
    "slideshow": {
     "slide_type": "skip"
    }
   },
   "source": [
    "The `os.listdir()` command lists the contents of a given directory.\n",
    "\n",
    "Remember how we said Python understands where we are currently on our machine? This is a very useful feature, as it saves us having to worry about the *absolute* path to a file. For example, here is the full path to the data files:"
   ]
  },
  {
   "cell_type": "code",
   "execution_count": 11,
   "metadata": {
    "slideshow": {
     "slide_type": "subslide"
    }
   },
   "outputs": [
    {
     "data": {
      "text/plain": [
       "'C:\\\\Users\\\\t95171dm\\\\projects\\\\code-demos\\\\code\\\\responses'"
      ]
     },
     "execution_count": 11,
     "metadata": {},
     "output_type": "execute_result"
    }
   ],
   "source": [
    "os.path.abspath(\"responses\")"
   ]
  },
  {
   "cell_type": "markdown",
   "metadata": {
    "slideshow": {
     "slide_type": "subslide"
    }
   },
   "source": [
    "Using *relative* rather than *absolute* paths to locate files and folders really comes in handy when you need to move your files to another computer, or you're working as part of team and each member has their own machine."
   ]
  },
  {
   "cell_type": "markdown",
   "metadata": {
    "slideshow": {
     "slide_type": "subslide"
    }
   },
   "source": [
    "#### Creating folders\n",
    "\n",
    "Finally, we will create a folder to store the sampling frame file:"
   ]
  },
  {
   "cell_type": "code",
   "execution_count": 13,
   "metadata": {
    "slideshow": {
     "slide_type": "fragment"
    }
   },
   "outputs": [
    {
     "data": {
      "text/plain": [
       "['.ipynb_checkpoints',\n",
       " 'annual-accounts-211535-2019.pdf',\n",
       " 'images',\n",
       " 'README.md',\n",
       " 'responses',\n",
       " 'sampling-frame',\n",
       " 'ukds-intro-to-python-2020-05-06.ipynb',\n",
       " 'ukds-intro-to-python-notes-2020-05-06.ipynb']"
      ]
     },
     "execution_count": 13,
     "metadata": {},
     "output_type": "execute_result"
    }
   ],
   "source": [
    "#os.mkdir(\"sampling-frame\")\n",
    "os.listdir() # list contents of current working directory"
   ]
  },
  {
   "cell_type": "markdown",
   "metadata": {
    "slideshow": {
     "slide_type": "slide"
    }
   },
   "source": [
    "### Working with files\n",
    "\n",
    "We saw in the previous section that the files we need are located in a folder called \"responses\". Our first task is to open one of these files, and we begin by telling Python where to find it:"
   ]
  },
  {
   "cell_type": "code",
   "execution_count": 15,
   "metadata": {
    "slideshow": {
     "slide_type": "fragment"
    }
   },
   "outputs": [
    {
     "name": "stdout",
     "output_type": "stream",
     "text": [
      "responses/census_1961.csv responses/census_1961.csv\n"
     ]
    }
   ],
   "source": [
    "census_1961_file = \"responses/census_1961.csv\"\n",
    "chickenchicken = \"responses/census_1961.csv\"\n",
    "print(census_1961_file, chickenchicken)"
   ]
  },
  {
   "cell_type": "markdown",
   "metadata": {
    "slideshow": {
     "slide_type": "skip"
    }
   },
   "source": [
    "Before opening the file, let's address the new element in above previous command. We defined a variable called `census_1961_file` to store the location and name of the 1961 census file. Note how the value of this variable is enclosed in double quotes (\"\"): this denotes that it is a *string* variable i.e., it stores values that should be treated as text.\n",
    "\n",
    "Defining a variable means we no longer have to type `\"responses/census_1961.csv\"` when we want to refer to or interact with this file. Instead, Python knows the `census_1961_file` variable stores this information for us.\n",
    "\n",
    "Let's open and read in the content of the file using the `pandas` module we imported earlier:"
   ]
  },
  {
   "cell_type": "code",
   "execution_count": 57,
   "metadata": {
    "scrolled": true,
    "slideshow": {
     "slide_type": "subslide"
    }
   },
   "outputs": [],
   "source": [
    "census_1961_data = pd.read_csv(census_1961_file, encoding = \"ISO-8859-1\", index_col=False)"
   ]
  },
  {
   "cell_type": "markdown",
   "metadata": {
    "slideshow": {
     "slide_type": "skip"
    }
   },
   "source": [
    "Let's unpack what the command is doing, starting on the right-hand side of the \"=\" sign. We use the `pandas` module, referring to it by its abbreviation `pd`. From `pandas` we employ the `read_csv()` method and supply it with three arguments: a CSV file to read (`census_1961_file`), a means of interpreting the contents of the file (`encoding = \"ISO-8859-1\"`), and an instruction not to create what's called an index column (`index_col=False`).\n",
    "\n",
    "Don't stress about knowing which arguments are necessary and which are optional: just refer to the help documentation for a given module (e.g., <a href=\"https://pandas.pydata.org/docs/\" target=_blank>pandas</a>)."
   ]
  },
  {
   "cell_type": "markdown",
   "metadata": {
    "slideshow": {
     "slide_type": "subslide"
    }
   },
   "source": [
    "`pandas` provides lots of useful functionality for manipulating and exploring data sets, such as viewing a sample of observations:"
   ]
  },
  {
   "cell_type": "code",
   "execution_count": 24,
   "metadata": {
    "scrolled": false,
    "slideshow": {
     "slide_type": "subslide"
    }
   },
   "outputs": [
    {
     "data": {
      "text/html": [
       "<div>\n",
       "<style scoped>\n",
       "    .dataframe tbody tr th:only-of-type {\n",
       "        vertical-align: middle;\n",
       "    }\n",
       "\n",
       "    .dataframe tbody tr th {\n",
       "        vertical-align: top;\n",
       "    }\n",
       "\n",
       "    .dataframe thead th {\n",
       "        text-align: right;\n",
       "    }\n",
       "</style>\n",
       "<table border=\"1\" class=\"dataframe\">\n",
       "  <thead>\n",
       "    <tr style=\"text-align: right;\">\n",
       "      <th></th>\n",
       "      <th>pido</th>\n",
       "      <th>popbase</th>\n",
       "      <th>country</th>\n",
       "      <th>dgorno</th>\n",
       "      <th>dindorder</th>\n",
       "      <th>dvbirper_teach</th>\n",
       "      <th>dvsocclass</th>\n",
       "      <th>econpage</th>\n",
       "      <th>marcon</th>\n",
       "      <th>occord</th>\n",
       "      <th>qmqual</th>\n",
       "      <th>quinage</th>\n",
       "      <th>sex</th>\n",
       "      <th>tenure</th>\n",
       "    </tr>\n",
       "  </thead>\n",
       "  <tbody>\n",
       "    <tr>\n",
       "      <th>360996</th>\n",
       "      <td>4016094</td>\n",
       "      <td>1</td>\n",
       "      <td>1</td>\n",
       "      <td>3</td>\n",
       "      <td>3</td>\n",
       "      <td>1</td>\n",
       "      <td>3</td>\n",
       "      <td>0</td>\n",
       "      <td>1</td>\n",
       "      <td>20</td>\n",
       "      <td>-9</td>\n",
       "      <td>12</td>\n",
       "      <td>0</td>\n",
       "      <td>5</td>\n",
       "    </tr>\n",
       "    <tr>\n",
       "      <th>32480</th>\n",
       "      <td>3687578</td>\n",
       "      <td>1</td>\n",
       "      <td>1</td>\n",
       "      <td>4</td>\n",
       "      <td>3</td>\n",
       "      <td>8</td>\n",
       "      <td>5</td>\n",
       "      <td>0</td>\n",
       "      <td>0</td>\n",
       "      <td>19</td>\n",
       "      <td>-9</td>\n",
       "      <td>5</td>\n",
       "      <td>1</td>\n",
       "      <td>0</td>\n",
       "    </tr>\n",
       "    <tr>\n",
       "      <th>337311</th>\n",
       "      <td>3992409</td>\n",
       "      <td>1</td>\n",
       "      <td>1</td>\n",
       "      <td>3</td>\n",
       "      <td>22</td>\n",
       "      <td>1</td>\n",
       "      <td>3</td>\n",
       "      <td>0</td>\n",
       "      <td>0</td>\n",
       "      <td>20</td>\n",
       "      <td>-9</td>\n",
       "      <td>4</td>\n",
       "      <td>1</td>\n",
       "      <td>3</td>\n",
       "    </tr>\n",
       "    <tr>\n",
       "      <th>484558</th>\n",
       "      <td>4139656</td>\n",
       "      <td>1</td>\n",
       "      <td>3</td>\n",
       "      <td>11</td>\n",
       "      <td>-9</td>\n",
       "      <td>1</td>\n",
       "      <td>-7</td>\n",
       "      <td>-9</td>\n",
       "      <td>1</td>\n",
       "      <td>-9</td>\n",
       "      <td>-9</td>\n",
       "      <td>7</td>\n",
       "      <td>1</td>\n",
       "      <td>3</td>\n",
       "    </tr>\n",
       "    <tr>\n",
       "      <th>61164</th>\n",
       "      <td>3716262</td>\n",
       "      <td>1</td>\n",
       "      <td>1</td>\n",
       "      <td>10</td>\n",
       "      <td>-9</td>\n",
       "      <td>1</td>\n",
       "      <td>-7</td>\n",
       "      <td>-9</td>\n",
       "      <td>1</td>\n",
       "      <td>-9</td>\n",
       "      <td>-9</td>\n",
       "      <td>9</td>\n",
       "      <td>1</td>\n",
       "      <td>3</td>\n",
       "    </tr>\n",
       "    <tr>\n",
       "      <th>106753</th>\n",
       "      <td>3761851</td>\n",
       "      <td>1</td>\n",
       "      <td>1</td>\n",
       "      <td>5</td>\n",
       "      <td>20</td>\n",
       "      <td>1</td>\n",
       "      <td>2</td>\n",
       "      <td>0</td>\n",
       "      <td>1</td>\n",
       "      <td>21</td>\n",
       "      <td>-9</td>\n",
       "      <td>10</td>\n",
       "      <td>0</td>\n",
       "      <td>0</td>\n",
       "    </tr>\n",
       "    <tr>\n",
       "      <th>339007</th>\n",
       "      <td>3994105</td>\n",
       "      <td>1</td>\n",
       "      <td>1</td>\n",
       "      <td>6</td>\n",
       "      <td>-9</td>\n",
       "      <td>1</td>\n",
       "      <td>-7</td>\n",
       "      <td>-9</td>\n",
       "      <td>1</td>\n",
       "      <td>-9</td>\n",
       "      <td>-9</td>\n",
       "      <td>7</td>\n",
       "      <td>1</td>\n",
       "      <td>3</td>\n",
       "    </tr>\n",
       "    <tr>\n",
       "      <th>117513</th>\n",
       "      <td>3772611</td>\n",
       "      <td>1</td>\n",
       "      <td>1</td>\n",
       "      <td>5</td>\n",
       "      <td>-9</td>\n",
       "      <td>1</td>\n",
       "      <td>-7</td>\n",
       "      <td>-9</td>\n",
       "      <td>0</td>\n",
       "      <td>-9</td>\n",
       "      <td>-9</td>\n",
       "      <td>3</td>\n",
       "      <td>0</td>\n",
       "      <td>0</td>\n",
       "    </tr>\n",
       "    <tr>\n",
       "      <th>241124</th>\n",
       "      <td>3896222</td>\n",
       "      <td>1</td>\n",
       "      <td>1</td>\n",
       "      <td>1</td>\n",
       "      <td>20</td>\n",
       "      <td>1</td>\n",
       "      <td>2</td>\n",
       "      <td>0</td>\n",
       "      <td>1</td>\n",
       "      <td>21</td>\n",
       "      <td>-9</td>\n",
       "      <td>8</td>\n",
       "      <td>0</td>\n",
       "      <td>3</td>\n",
       "    </tr>\n",
       "    <tr>\n",
       "      <th>375809</th>\n",
       "      <td>4030907</td>\n",
       "      <td>1</td>\n",
       "      <td>1</td>\n",
       "      <td>1</td>\n",
       "      <td>-9</td>\n",
       "      <td>1</td>\n",
       "      <td>-7</td>\n",
       "      <td>-9</td>\n",
       "      <td>0</td>\n",
       "      <td>-9</td>\n",
       "      <td>-9</td>\n",
       "      <td>1</td>\n",
       "      <td>0</td>\n",
       "      <td>3</td>\n",
       "    </tr>\n",
       "  </tbody>\n",
       "</table>\n",
       "</div>"
      ],
      "text/plain": [
       "           pido  popbase country dgorno  dindorder  dvbirper_teach  \\\n",
       "360996  4016094        1       1      3          3               1   \n",
       "32480   3687578        1       1      4          3               8   \n",
       "337311  3992409        1       1      3         22               1   \n",
       "484558  4139656        1       3     11         -9               1   \n",
       "61164   3716262        1       1     10         -9               1   \n",
       "106753  3761851        1       1      5         20               1   \n",
       "339007  3994105        1       1      6         -9               1   \n",
       "117513  3772611        1       1      5         -9               1   \n",
       "241124  3896222        1       1      1         20               1   \n",
       "375809  4030907        1       1      1         -9               1   \n",
       "\n",
       "        dvsocclass  econpage  marcon  occord  qmqual  quinage  sex tenure  \n",
       "360996           3         0       1      20      -9       12    0      5  \n",
       "32480            5         0       0      19      -9        5    1      0  \n",
       "337311           3         0       0      20      -9        4    1      3  \n",
       "484558          -7        -9       1      -9      -9        7    1      3  \n",
       "61164           -7        -9       1      -9      -9        9    1      3  \n",
       "106753           2         0       1      21      -9       10    0      0  \n",
       "339007          -7        -9       1      -9      -9        7    1      3  \n",
       "117513          -7        -9       0      -9      -9        3    0      0  \n",
       "241124           2         0       1      21      -9        8    0      3  \n",
       "375809          -7        -9       0      -9      -9        1    0      3  "
      ]
     },
     "execution_count": 24,
     "metadata": {},
     "output_type": "execute_result"
    }
   ],
   "source": [
    "census_1961_data.sample(10)"
   ]
  },
  {
   "cell_type": "markdown",
   "metadata": {
    "slideshow": {
     "slide_type": "subslide"
    }
   },
   "source": [
    "Now that we've solved the issue of finding and reading files, let's apply this solution to the other census data sets:"
   ]
  },
  {
   "cell_type": "code",
   "execution_count": 25,
   "metadata": {
    "slideshow": {
     "slide_type": "subslide"
    }
   },
   "outputs": [
    {
     "name": "stderr",
     "output_type": "stream",
     "text": [
      "C:\\ANACONDA3\\lib\\site-packages\\IPython\\core\\interactiveshell.py:3063: DtypeWarning: Columns (3,4,5,6,9) have mixed types.Specify dtype option on import or set low_memory=False.\n",
      "  interactivity=interactivity, compiler=compiler, result=result)\n"
     ]
    }
   ],
   "source": [
    "census_1971_file = \"responses/census_1971.csv\"\n",
    "census_1981_file = \"responses/census_1981.csv\"\n",
    "\n",
    "census_1971_data = pd.read_csv(census_1971_file, encoding = \"ISO-8859-1\", index_col=False)\n",
    "census_1981_data = pd.read_csv(census_1981_file, encoding = \"ISO-8859-1\", index_col=False)"
   ]
  },
  {
   "cell_type": "markdown",
   "metadata": {
    "slideshow": {
     "slide_type": "slide"
    }
   },
   "source": [
    "### Creating a sampling frame"
   ]
  },
  {
   "cell_type": "markdown",
   "metadata": {
    "slideshow": {
     "slide_type": "skip"
    }
   },
   "source": [
    "If you're somebody with experience of data analysis using SPSS or Stata for example, you may have noticed a significant advantage of Python: namely the ability to hold multiple data sets in memory at the same time (R can do this also)."
   ]
  },
  {
   "cell_type": "markdown",
   "metadata": {
    "slideshow": {
     "slide_type": "subslide"
    }
   },
   "source": [
    "Back to our next problem: combining the three census data sets to produce a master data set of all respondents (our sampling frame). The first thing we'll do is create a new variable by copying one of the existing data sets:"
   ]
  },
  {
   "cell_type": "code",
   "execution_count": 26,
   "metadata": {
    "slideshow": {
     "slide_type": "subslide"
    }
   },
   "outputs": [
    {
     "data": {
      "text/html": [
       "<div>\n",
       "<style scoped>\n",
       "    .dataframe tbody tr th:only-of-type {\n",
       "        vertical-align: middle;\n",
       "    }\n",
       "\n",
       "    .dataframe tbody tr th {\n",
       "        vertical-align: top;\n",
       "    }\n",
       "\n",
       "    .dataframe thead th {\n",
       "        text-align: right;\n",
       "    }\n",
       "</style>\n",
       "<table border=\"1\" class=\"dataframe\">\n",
       "  <thead>\n",
       "    <tr style=\"text-align: right;\">\n",
       "      <th></th>\n",
       "      <th>pido</th>\n",
       "      <th>popbase</th>\n",
       "      <th>country</th>\n",
       "      <th>dgorno</th>\n",
       "      <th>dindorder</th>\n",
       "      <th>dvbirper_teach</th>\n",
       "      <th>dvsocclass</th>\n",
       "      <th>econpage</th>\n",
       "      <th>marcon</th>\n",
       "      <th>occord</th>\n",
       "      <th>qmqual</th>\n",
       "      <th>quinage</th>\n",
       "      <th>sex</th>\n",
       "      <th>tenure</th>\n",
       "    </tr>\n",
       "  </thead>\n",
       "  <tbody>\n",
       "    <tr>\n",
       "      <th>101306</th>\n",
       "      <td>3756404</td>\n",
       "      <td>1</td>\n",
       "      <td>1</td>\n",
       "      <td>5</td>\n",
       "      <td>22</td>\n",
       "      <td>1</td>\n",
       "      <td>1</td>\n",
       "      <td>0</td>\n",
       "      <td>0</td>\n",
       "      <td>24</td>\n",
       "      <td>-9</td>\n",
       "      <td>4</td>\n",
       "      <td>0</td>\n",
       "      <td>5</td>\n",
       "    </tr>\n",
       "    <tr>\n",
       "      <th>436025</th>\n",
       "      <td>4091123</td>\n",
       "      <td>1</td>\n",
       "      <td>1</td>\n",
       "      <td>7</td>\n",
       "      <td>-9</td>\n",
       "      <td>1</td>\n",
       "      <td>-7</td>\n",
       "      <td>-9</td>\n",
       "      <td>1</td>\n",
       "      <td>-9</td>\n",
       "      <td>-9</td>\n",
       "      <td>12</td>\n",
       "      <td>1</td>\n",
       "      <td>3</td>\n",
       "    </tr>\n",
       "    <tr>\n",
       "      <th>350659</th>\n",
       "      <td>4005757</td>\n",
       "      <td>1</td>\n",
       "      <td>1</td>\n",
       "      <td>3</td>\n",
       "      <td>-9</td>\n",
       "      <td>1</td>\n",
       "      <td>-7</td>\n",
       "      <td>-9</td>\n",
       "      <td>1</td>\n",
       "      <td>-9</td>\n",
       "      <td>-9</td>\n",
       "      <td>17</td>\n",
       "      <td>1</td>\n",
       "      <td>5</td>\n",
       "    </tr>\n",
       "    <tr>\n",
       "      <th>234777</th>\n",
       "      <td>3889875</td>\n",
       "      <td>1</td>\n",
       "      <td>1</td>\n",
       "      <td>1</td>\n",
       "      <td>-9</td>\n",
       "      <td>2</td>\n",
       "      <td>-7</td>\n",
       "      <td>-9</td>\n",
       "      <td>1</td>\n",
       "      <td>-9</td>\n",
       "      <td>-9</td>\n",
       "      <td>6</td>\n",
       "      <td>1</td>\n",
       "      <td>3</td>\n",
       "    </tr>\n",
       "    <tr>\n",
       "      <th>313840</th>\n",
       "      <td>3968938</td>\n",
       "      <td>1</td>\n",
       "      <td>1</td>\n",
       "      <td>6</td>\n",
       "      <td>-9</td>\n",
       "      <td>1</td>\n",
       "      <td>-7</td>\n",
       "      <td>-9</td>\n",
       "      <td>0</td>\n",
       "      <td>-9</td>\n",
       "      <td>-9</td>\n",
       "      <td>3</td>\n",
       "      <td>1</td>\n",
       "      <td>-9</td>\n",
       "    </tr>\n",
       "  </tbody>\n",
       "</table>\n",
       "</div>"
      ],
      "text/plain": [
       "           pido  popbase country dgorno  dindorder  dvbirper_teach  \\\n",
       "101306  3756404        1       1      5         22               1   \n",
       "436025  4091123        1       1      7         -9               1   \n",
       "350659  4005757        1       1      3         -9               1   \n",
       "234777  3889875        1       1      1         -9               2   \n",
       "313840  3968938        1       1      6         -9               1   \n",
       "\n",
       "        dvsocclass  econpage  marcon  occord  qmqual  quinage  sex tenure  \n",
       "101306           1         0       0      24      -9        4    0      5  \n",
       "436025          -7        -9       1      -9      -9       12    1      3  \n",
       "350659          -7        -9       1      -9      -9       17    1      5  \n",
       "234777          -7        -9       1      -9      -9        6    1      3  \n",
       "313840          -7        -9       0      -9      -9        3    1     -9  "
      ]
     },
     "execution_count": 26,
     "metadata": {},
     "output_type": "execute_result"
    }
   ],
   "source": [
    "census_all_data = census_1961_data\n",
    "census_all_data.sample(5)"
   ]
  },
  {
   "cell_type": "markdown",
   "metadata": {
    "slideshow": {
     "slide_type": "subslide"
    }
   },
   "source": [
    "Now we append observations from the other data sets to the bottom of `census_all_data`:"
   ]
  },
  {
   "cell_type": "code",
   "execution_count": 27,
   "metadata": {
    "slideshow": {
     "slide_type": "subslide"
    }
   },
   "outputs": [],
   "source": [
    "census_all_data = census_all_data.append([census_1971_data, census_1981_data])"
   ]
  },
  {
   "cell_type": "markdown",
   "metadata": {
    "slideshow": {
     "slide_type": "skip"
    }
   },
   "source": [
    "Let's quickly highlight an efficient bit of coding. Note that we supplied the `append()` method with two data sets at once (`[census_1971_data, census_1981_data]`). The use of square brackets indicates to Python it is working with a *list* variable (i.e., it contains more than one value). The alternative would be two separate append commands:\n",
    "\n",
    "(Note how you can tell Python not to run certain commands by prefixing them with `#` symbol)"
   ]
  },
  {
   "cell_type": "code",
   "execution_count": null,
   "metadata": {
    "slideshow": {
     "slide_type": "subslide"
    }
   },
   "outputs": [],
   "source": [
    "# census_all_data = census_all_data.append(census_1971_data)\n",
    "# census_all_data = census_all_data.append(census_1981_data)"
   ]
  },
  {
   "cell_type": "markdown",
   "metadata": {
    "slideshow": {
     "slide_type": "subslide"
    }
   },
   "source": [
    "We need to check whether we have the correct number of observations in the new data set. Using simple arithmetic, we know the sample frame should equal the sum of the number of observations across the three census data sets. First, we need to know how to capture the number of observations in each data set:"
   ]
  },
  {
   "cell_type": "code",
   "execution_count": 28,
   "metadata": {
    "slideshow": {
     "slide_type": "subslide"
    }
   },
   "outputs": [
    {
     "data": {
      "text/plain": [
       "1562660"
      ]
     },
     "execution_count": 28,
     "metadata": {},
     "output_type": "execute_result"
    }
   ],
   "source": [
    "len(census_all_data)"
   ]
  },
  {
   "cell_type": "code",
   "execution_count": 29,
   "metadata": {
    "slideshow": {
     "slide_type": "subslide"
    }
   },
   "outputs": [
    {
     "data": {
      "text/plain": [
       "522157"
      ]
     },
     "execution_count": 29,
     "metadata": {},
     "output_type": "execute_result"
    }
   ],
   "source": [
    "len(census_1961_data)"
   ]
  },
  {
   "cell_type": "markdown",
   "metadata": {
    "slideshow": {
     "slide_type": "skip"
    }
   },
   "source": [
    "The `len()` function - which is available for use when you launch Python, no importing necessary - returns the number of observations in a data set.\n",
    "\n",
    "Now we can ask Python to evaluate whether the lenght of the master data set equals the sum of the lenghts of each census data set: "
   ]
  },
  {
   "cell_type": "code",
   "execution_count": 30,
   "metadata": {
    "slideshow": {
     "slide_type": "subslide"
    }
   },
   "outputs": [
    {
     "data": {
      "text/plain": [
       "True"
      ]
     },
     "execution_count": 30,
     "metadata": {},
     "output_type": "execute_result"
    }
   ],
   "source": [
    "len(census_all_data) == len(census_1961_data) + len(census_1971_data) + len(census_1981_data)"
   ]
  },
  {
   "cell_type": "markdown",
   "metadata": {
    "slideshow": {
     "slide_type": "skip"
    }
   },
   "source": [
    "The above command is a Boolean expression, as evidenced by the fact it returns only one of the following two values: `True` or `False`. Boolean expressions are tremendously useful for evaluating whether a condition is met and thus controlling the *flow* of your code: if a condition is met, do one thing; if not, do something else. You can learn more about Boolean logic in chapter 21 of <a href=\"https://assets.digitalocean.com/books/python/how-to-code-in-python.pdf\" target=_blank>How to Code in Python</a>. "
   ]
  },
  {
   "cell_type": "markdown",
   "metadata": {
    "slideshow": {
     "slide_type": "slide"
    }
   },
   "source": [
    "### Producing a random sample\n",
    "\n",
    "By combining three census data sets, we have now have a sampling frame containing `1,562,660` respondents; obviously this is far too many individuals to contact about participating in follow-up interviews, so let's take a simple random sample:"
   ]
  },
  {
   "cell_type": "code",
   "execution_count": 40,
   "metadata": {
    "slideshow": {
     "slide_type": "subslide"
    }
   },
   "outputs": [
    {
     "data": {
      "text/plain": [
       "15627"
      ]
     },
     "execution_count": 40,
     "metadata": {},
     "output_type": "execute_result"
    }
   ],
   "source": [
    "census_random_sample = census_all_data.sample(frac=.01)\n",
    "len(census_random_sample)"
   ]
  },
  {
   "cell_type": "markdown",
   "metadata": {
    "slideshow": {
     "slide_type": "skip"
    }
   },
   "source": [
    "The above command takes a 1% (`frac=.01`) random sample of observations from the sampling frame saves the result as a new data set (`census_random_sample`).\n",
    "\n",
    "Because we used `pandas` to create our data sets, we are able to use this module's methods directly on the data set variable. This probably sounds confusing, so let's see how else could have generated the random sample:"
   ]
  },
  {
   "cell_type": "code",
   "execution_count": 45,
   "metadata": {
    "slideshow": {
     "slide_type": "subslide"
    }
   },
   "outputs": [
    {
     "data": {
      "text/plain": [
       "15627"
      ]
     },
     "execution_count": 45,
     "metadata": {},
     "output_type": "execute_result"
    }
   ],
   "source": [
    "census_random_sample_alt = pd.DataFrame.sample(census_all_data, frac=.01)\n",
    "len(census_random_sample_alt)"
   ]
  },
  {
   "cell_type": "markdown",
   "metadata": {
    "slideshow": {
     "slide_type": "slide"
    }
   },
   "source": [
    "### Saving our work\n",
    "\n",
    "The final problem to be solved: saving our work. Once again we can lean on the `pandas` module to simplify this task for us:"
   ]
  },
  {
   "cell_type": "code",
   "execution_count": 46,
   "metadata": {
    "slideshow": {
     "slide_type": "subslide"
    }
   },
   "outputs": [],
   "source": [
    "census_all_data.to_csv(\"sampling-frame/census-sampling-frame.csv\", index=False)\n",
    "census_random_sample.to_csv(\"sampling-frame/census-random-sample.csv\", index=False)"
   ]
  },
  {
   "cell_type": "markdown",
   "metadata": {
    "slideshow": {
     "slide_type": "subslide"
    }
   },
   "source": [
    "How can we tell it worked? We could ask Python to list the contents of the \"sampling-frame\" folder:"
   ]
  },
  {
   "cell_type": "code",
   "execution_count": 47,
   "metadata": {
    "slideshow": {
     "slide_type": "fragment"
    }
   },
   "outputs": [
    {
     "data": {
      "text/plain": [
       "['census-random-sample.csv', 'census-sampling-frame.csv']"
      ]
     },
     "execution_count": 47,
     "metadata": {},
     "output_type": "execute_result"
    }
   ],
   "source": [
    "os.listdir(\"sampling-frame\")"
   ]
  },
  {
   "cell_type": "markdown",
   "metadata": {
    "slideshow": {
     "slide_type": "subslide"
    }
   },
   "source": [
    "Python has certainly created the files, though it's worth checking if the contents are correct:"
   ]
  },
  {
   "cell_type": "code",
   "execution_count": 52,
   "metadata": {
    "slideshow": {
     "slide_type": "fragment"
    }
   },
   "outputs": [
    {
     "data": {
      "text/html": [
       "<div>\n",
       "<style scoped>\n",
       "    .dataframe tbody tr th:only-of-type {\n",
       "        vertical-align: middle;\n",
       "    }\n",
       "\n",
       "    .dataframe tbody tr th {\n",
       "        vertical-align: top;\n",
       "    }\n",
       "\n",
       "    .dataframe thead th {\n",
       "        text-align: right;\n",
       "    }\n",
       "</style>\n",
       "<table border=\"1\" class=\"dataframe\">\n",
       "  <thead>\n",
       "    <tr style=\"text-align: right;\">\n",
       "      <th></th>\n",
       "      <th>pido</th>\n",
       "      <th>popbase</th>\n",
       "      <th>country</th>\n",
       "      <th>dgorno</th>\n",
       "      <th>dindorder</th>\n",
       "      <th>dvbirper_teach</th>\n",
       "      <th>dvsocclass</th>\n",
       "      <th>econpage</th>\n",
       "      <th>marcon</th>\n",
       "      <th>occord</th>\n",
       "      <th>...</th>\n",
       "      <th>soc</th>\n",
       "      <th>dgor</th>\n",
       "      <th>dvcob10</th>\n",
       "      <th>dvfamtype</th>\n",
       "      <th>dvinddiv</th>\n",
       "      <th>dvmarcon</th>\n",
       "      <th>dvocco</th>\n",
       "      <th>dvqualo</th>\n",
       "      <th>dvureso</th>\n",
       "      <th>pactlw</th>\n",
       "    </tr>\n",
       "  </thead>\n",
       "  <tbody>\n",
       "    <tr>\n",
       "      <th>0</th>\n",
       "      <td>3910258</td>\n",
       "      <td>1</td>\n",
       "      <td>NaN</td>\n",
       "      <td>11.0</td>\n",
       "      <td>NaN</td>\n",
       "      <td>NaN</td>\n",
       "      <td>NaN</td>\n",
       "      <td>-9.0</td>\n",
       "      <td>0.0</td>\n",
       "      <td>-9.0</td>\n",
       "      <td>...</td>\n",
       "      <td>-9.0</td>\n",
       "      <td>NaN</td>\n",
       "      <td>NaN</td>\n",
       "      <td>NaN</td>\n",
       "      <td>NaN</td>\n",
       "      <td>NaN</td>\n",
       "      <td>NaN</td>\n",
       "      <td>NaN</td>\n",
       "      <td>NaN</td>\n",
       "      <td>NaN</td>\n",
       "    </tr>\n",
       "    <tr>\n",
       "      <th>1</th>\n",
       "      <td>3905867</td>\n",
       "      <td>2</td>\n",
       "      <td>NaN</td>\n",
       "      <td>11.0</td>\n",
       "      <td>NaN</td>\n",
       "      <td>NaN</td>\n",
       "      <td>NaN</td>\n",
       "      <td>5.0</td>\n",
       "      <td>0.0</td>\n",
       "      <td>-8.0</td>\n",
       "      <td>...</td>\n",
       "      <td>-8.0</td>\n",
       "      <td>NaN</td>\n",
       "      <td>NaN</td>\n",
       "      <td>NaN</td>\n",
       "      <td>NaN</td>\n",
       "      <td>NaN</td>\n",
       "      <td>NaN</td>\n",
       "      <td>NaN</td>\n",
       "      <td>NaN</td>\n",
       "      <td>NaN</td>\n",
       "    </tr>\n",
       "    <tr>\n",
       "      <th>2</th>\n",
       "      <td>4160247</td>\n",
       "      <td>1</td>\n",
       "      <td>NaN</td>\n",
       "      <td>NaN</td>\n",
       "      <td>NaN</td>\n",
       "      <td>NaN</td>\n",
       "      <td>-9.0</td>\n",
       "      <td>NaN</td>\n",
       "      <td>NaN</td>\n",
       "      <td>NaN</td>\n",
       "      <td>...</td>\n",
       "      <td>NaN</td>\n",
       "      <td>9.0</td>\n",
       "      <td>1.0</td>\n",
       "      <td>3.0</td>\n",
       "      <td>-9.0</td>\n",
       "      <td>2.0</td>\n",
       "      <td>-9.0</td>\n",
       "      <td>2.0</td>\n",
       "      <td>1.0</td>\n",
       "      <td>7.0</td>\n",
       "    </tr>\n",
       "    <tr>\n",
       "      <th>3</th>\n",
       "      <td>3581334</td>\n",
       "      <td>1</td>\n",
       "      <td>NaN</td>\n",
       "      <td>9.0</td>\n",
       "      <td>NaN</td>\n",
       "      <td>NaN</td>\n",
       "      <td>NaN</td>\n",
       "      <td>-9.0</td>\n",
       "      <td>0.0</td>\n",
       "      <td>-9.0</td>\n",
       "      <td>...</td>\n",
       "      <td>-9.0</td>\n",
       "      <td>NaN</td>\n",
       "      <td>NaN</td>\n",
       "      <td>NaN</td>\n",
       "      <td>NaN</td>\n",
       "      <td>NaN</td>\n",
       "      <td>NaN</td>\n",
       "      <td>NaN</td>\n",
       "      <td>NaN</td>\n",
       "      <td>NaN</td>\n",
       "    </tr>\n",
       "    <tr>\n",
       "      <th>4</th>\n",
       "      <td>3820820</td>\n",
       "      <td>1</td>\n",
       "      <td>NaN</td>\n",
       "      <td>7.0</td>\n",
       "      <td>NaN</td>\n",
       "      <td>NaN</td>\n",
       "      <td>NaN</td>\n",
       "      <td>0.0</td>\n",
       "      <td>1.0</td>\n",
       "      <td>14.0</td>\n",
       "      <td>...</td>\n",
       "      <td>3.0</td>\n",
       "      <td>NaN</td>\n",
       "      <td>NaN</td>\n",
       "      <td>NaN</td>\n",
       "      <td>NaN</td>\n",
       "      <td>NaN</td>\n",
       "      <td>NaN</td>\n",
       "      <td>NaN</td>\n",
       "      <td>NaN</td>\n",
       "      <td>NaN</td>\n",
       "    </tr>\n",
       "    <tr>\n",
       "      <th>...</th>\n",
       "      <td>...</td>\n",
       "      <td>...</td>\n",
       "      <td>...</td>\n",
       "      <td>...</td>\n",
       "      <td>...</td>\n",
       "      <td>...</td>\n",
       "      <td>...</td>\n",
       "      <td>...</td>\n",
       "      <td>...</td>\n",
       "      <td>...</td>\n",
       "      <td>...</td>\n",
       "      <td>...</td>\n",
       "      <td>...</td>\n",
       "      <td>...</td>\n",
       "      <td>...</td>\n",
       "      <td>...</td>\n",
       "      <td>...</td>\n",
       "      <td>...</td>\n",
       "      <td>...</td>\n",
       "      <td>...</td>\n",
       "      <td>...</td>\n",
       "    </tr>\n",
       "    <tr>\n",
       "      <th>15622</th>\n",
       "      <td>3969637</td>\n",
       "      <td>1</td>\n",
       "      <td>1.0</td>\n",
       "      <td>3.0</td>\n",
       "      <td>-9.0</td>\n",
       "      <td>1.0</td>\n",
       "      <td>-7.0</td>\n",
       "      <td>-9.0</td>\n",
       "      <td>0.0</td>\n",
       "      <td>-9.0</td>\n",
       "      <td>...</td>\n",
       "      <td>NaN</td>\n",
       "      <td>NaN</td>\n",
       "      <td>NaN</td>\n",
       "      <td>NaN</td>\n",
       "      <td>NaN</td>\n",
       "      <td>NaN</td>\n",
       "      <td>NaN</td>\n",
       "      <td>NaN</td>\n",
       "      <td>NaN</td>\n",
       "      <td>NaN</td>\n",
       "    </tr>\n",
       "    <tr>\n",
       "      <th>15623</th>\n",
       "      <td>4146827</td>\n",
       "      <td>1</td>\n",
       "      <td>NaN</td>\n",
       "      <td>NaN</td>\n",
       "      <td>NaN</td>\n",
       "      <td>NaN</td>\n",
       "      <td>-9.0</td>\n",
       "      <td>NaN</td>\n",
       "      <td>NaN</td>\n",
       "      <td>NaN</td>\n",
       "      <td>...</td>\n",
       "      <td>NaN</td>\n",
       "      <td>7.0</td>\n",
       "      <td>1.0</td>\n",
       "      <td>5.0</td>\n",
       "      <td>-9.0</td>\n",
       "      <td>1.0</td>\n",
       "      <td>-9.0</td>\n",
       "      <td>2.0</td>\n",
       "      <td>1.0</td>\n",
       "      <td>-9.0</td>\n",
       "    </tr>\n",
       "    <tr>\n",
       "      <th>15624</th>\n",
       "      <td>4105963</td>\n",
       "      <td>1</td>\n",
       "      <td>2.0</td>\n",
       "      <td>8.0</td>\n",
       "      <td>-9.0</td>\n",
       "      <td>1.0</td>\n",
       "      <td>-7.0</td>\n",
       "      <td>-9.0</td>\n",
       "      <td>0.0</td>\n",
       "      <td>-9.0</td>\n",
       "      <td>...</td>\n",
       "      <td>NaN</td>\n",
       "      <td>NaN</td>\n",
       "      <td>NaN</td>\n",
       "      <td>NaN</td>\n",
       "      <td>NaN</td>\n",
       "      <td>NaN</td>\n",
       "      <td>NaN</td>\n",
       "      <td>NaN</td>\n",
       "      <td>NaN</td>\n",
       "      <td>NaN</td>\n",
       "    </tr>\n",
       "    <tr>\n",
       "      <th>15625</th>\n",
       "      <td>3804599</td>\n",
       "      <td>1</td>\n",
       "      <td>NaN</td>\n",
       "      <td>7.0</td>\n",
       "      <td>NaN</td>\n",
       "      <td>NaN</td>\n",
       "      <td>NaN</td>\n",
       "      <td>3.0</td>\n",
       "      <td>2.0</td>\n",
       "      <td>22.0</td>\n",
       "      <td>...</td>\n",
       "      <td>1.0</td>\n",
       "      <td>NaN</td>\n",
       "      <td>NaN</td>\n",
       "      <td>NaN</td>\n",
       "      <td>NaN</td>\n",
       "      <td>NaN</td>\n",
       "      <td>NaN</td>\n",
       "      <td>NaN</td>\n",
       "      <td>NaN</td>\n",
       "      <td>NaN</td>\n",
       "    </tr>\n",
       "    <tr>\n",
       "      <th>15626</th>\n",
       "      <td>3918983</td>\n",
       "      <td>1</td>\n",
       "      <td>1.0</td>\n",
       "      <td>1.0</td>\n",
       "      <td>-9.0</td>\n",
       "      <td>1.0</td>\n",
       "      <td>-7.0</td>\n",
       "      <td>-9.0</td>\n",
       "      <td>0.0</td>\n",
       "      <td>-9.0</td>\n",
       "      <td>...</td>\n",
       "      <td>NaN</td>\n",
       "      <td>NaN</td>\n",
       "      <td>NaN</td>\n",
       "      <td>NaN</td>\n",
       "      <td>NaN</td>\n",
       "      <td>NaN</td>\n",
       "      <td>NaN</td>\n",
       "      <td>NaN</td>\n",
       "      <td>NaN</td>\n",
       "      <td>NaN</td>\n",
       "    </tr>\n",
       "  </tbody>\n",
       "</table>\n",
       "<p>15627 rows × 33 columns</p>\n",
       "</div>"
      ],
      "text/plain": [
       "          pido  popbase  country  dgorno  dindorder  dvbirper_teach  \\\n",
       "0      3910258        1      NaN    11.0        NaN             NaN   \n",
       "1      3905867        2      NaN    11.0        NaN             NaN   \n",
       "2      4160247        1      NaN     NaN        NaN             NaN   \n",
       "3      3581334        1      NaN     9.0        NaN             NaN   \n",
       "4      3820820        1      NaN     7.0        NaN             NaN   \n",
       "...        ...      ...      ...     ...        ...             ...   \n",
       "15622  3969637        1      1.0     3.0       -9.0             1.0   \n",
       "15623  4146827        1      NaN     NaN        NaN             NaN   \n",
       "15624  4105963        1      2.0     8.0       -9.0             1.0   \n",
       "15625  3804599        1      NaN     7.0        NaN             NaN   \n",
       "15626  3918983        1      1.0     1.0       -9.0             1.0   \n",
       "\n",
       "       dvsocclass  econpage  marcon  occord  ...  soc  dgor  dvcob10  \\\n",
       "0             NaN      -9.0     0.0    -9.0  ... -9.0   NaN      NaN   \n",
       "1             NaN       5.0     0.0    -8.0  ... -8.0   NaN      NaN   \n",
       "2            -9.0       NaN     NaN     NaN  ...  NaN   9.0      1.0   \n",
       "3             NaN      -9.0     0.0    -9.0  ... -9.0   NaN      NaN   \n",
       "4             NaN       0.0     1.0    14.0  ...  3.0   NaN      NaN   \n",
       "...           ...       ...     ...     ...  ...  ...   ...      ...   \n",
       "15622        -7.0      -9.0     0.0    -9.0  ...  NaN   NaN      NaN   \n",
       "15623        -9.0       NaN     NaN     NaN  ...  NaN   7.0      1.0   \n",
       "15624        -7.0      -9.0     0.0    -9.0  ...  NaN   NaN      NaN   \n",
       "15625         NaN       3.0     2.0    22.0  ...  1.0   NaN      NaN   \n",
       "15626        -7.0      -9.0     0.0    -9.0  ...  NaN   NaN      NaN   \n",
       "\n",
       "       dvfamtype  dvinddiv  dvmarcon  dvocco  dvqualo  dvureso  pactlw  \n",
       "0            NaN       NaN       NaN     NaN      NaN      NaN     NaN  \n",
       "1            NaN       NaN       NaN     NaN      NaN      NaN     NaN  \n",
       "2            3.0      -9.0       2.0    -9.0      2.0      1.0     7.0  \n",
       "3            NaN       NaN       NaN     NaN      NaN      NaN     NaN  \n",
       "4            NaN       NaN       NaN     NaN      NaN      NaN     NaN  \n",
       "...          ...       ...       ...     ...      ...      ...     ...  \n",
       "15622        NaN       NaN       NaN     NaN      NaN      NaN     NaN  \n",
       "15623        5.0      -9.0       1.0    -9.0      2.0      1.0    -9.0  \n",
       "15624        NaN       NaN       NaN     NaN      NaN      NaN     NaN  \n",
       "15625        NaN       NaN       NaN     NaN      NaN      NaN     NaN  \n",
       "15626        NaN       NaN       NaN     NaN      NaN      NaN     NaN  \n",
       "\n",
       "[15627 rows x 33 columns]"
      ]
     },
     "execution_count": 52,
     "metadata": {},
     "output_type": "execute_result"
    }
   ],
   "source": [
    "random_sample_data = pd.read_csv(\"sampling-frame/census-random-sample.csv\", encoding = \"ISO-8859-1\", index_col=False)\n",
    "random_sample_data \n",
    "# In this blah "
   ]
  },
  {
   "cell_type": "markdown",
   "metadata": {
    "slideshow": {
     "slide_type": "subslide"
    }
   },
   "source": [
    "And Voila, we have successfully solved our sampling frame research problem!"
   ]
  },
  {
   "cell_type": "markdown",
   "metadata": {
    "slideshow": {
     "slide_type": "slide"
    }
   },
   "source": [
    "## What have we learned?\n",
    "\n",
    "Let's recap what key skills and techniques we've learned:\n",
    "* **How to import modules**. You will usually need to import modules into Python to support your work. Python does come with some methods and functions that are ready to use straight away, but for computational social science tasks you'll almost certainly need to import some additional modules.\n",
    "* **How to navigate, create and delete folders**. You can use Python to navigate your directory structure using *relative* or *absolute* paths (with the former much preferred for reasons of collaboration and project portability).\n",
    "* **How to read and manipulate data in files** Plenty of software packages (e.g., Stata, SPSS) and programming languages (e.g., R) provide functionality for working with data. Python is no different, and we consider it to have considerable advantages over other tools.\n",
    "* **How to do all of the above in an efficient, clear and effective manner**."
   ]
  },
  {
   "cell_type": "markdown",
   "metadata": {
    "slideshow": {
     "slide_type": "skip"
    }
   },
   "source": [
    "## Conclusion\n",
    "\n",
    "Python is a very powerful programming language, brimful of methods - data manipulation, web-scraping, natural langauge processing, interactive data visualisations - that are of great use to social scientists.\n",
    "\n",
    "Jane's research task, creating a sampling frame, could have been solved using a manual approach: creating folders using `right-click > New folder`, opening each file individually and copy-and-pasting rows into a new file etc. While we do not advocate using Python for every task or project, we encourage you to think clearly about the advantages of adopting a computational approach:\n",
    "* **Scalability** - What happens if there are 10, 100, or 1000 files instead of 3?\n",
    "* **Accuracy** - What if Jane makes a mistake when copy-and-pasting records from the individual files? How will she know she's made a mistake?\n",
    "* **Reproducibility** - What if Jane loses the sampling frame file? What if Jane wants to collaborate with another researcher? Does that person need to manually create the same folders, recreate or update the sampling frame?\n",
    "* **Automatability** - What if new data becomes available on a monthly basis? Does Jane need to set a reminder in her calendar to download the latest data?\n",
    "\n",
    "Like learning a spoke language, your initial attempts at writing code are rudimentary and frustrating. You'll find yourself only to able to write the same simple commands, wondering when Python's conventions will become second nature. However, with practice and immersion (through a relevant project) you will find your ability increases rapidly. In our assessment, the learning curve for social scientists developing their programming skills is steep at the beginning (\"What the hell is a loop!?\"), gentle in the middle (\"Huh, so that's how you scrape a website\"), and steep once again at the end (\"Why did God invent neural networks...\").\n",
    "\n",
    "We promise though, with a modest investment of time and energy you will be surprised what opportunities emerge from knowing a little bit of Python.\n",
    "\n",
    "Good luck on your programming adventures!"
   ]
  },
  {
   "cell_type": "markdown",
   "metadata": {
    "slideshow": {
     "slide_type": "skip"
    }
   },
   "source": [
    "## Bibliography\n",
    "\n",
    "Barba, Lorena A. et al. (2019). *Teaching and Learning with Jupyter*. <a href=\"https://jupyter4edu.github.io/jupyter-edu-book/\" target=_blank>https://jupyter4edu.github.io/jupyter-edu-book/</a>.\n",
    "\n",
    "Brooker, P. (2020). *Programming with Python for Social Scientists*. London: SAGE Publications Ltd.\n",
    "\n",
    "Ferretti, M., Reades, J., & Millington, J. (2019). *Code Camp: 2019 (v1.0)*. <a href=\"http://doi.org/10.5281/zenodo.3474043\" target=_blank>http://doi.org/10.5281/zenodo.3474043</a>\n",
    "\n",
    "Tagliaferri, L. (n.d.). *How to Code in Python 3*. https://assets.digitalocean.com/books/python/how-to-code-in-python.pdf"
   ]
  },
  {
   "cell_type": "markdown",
   "metadata": {
    "slideshow": {
     "slide_type": "skip"
    }
   },
   "source": [
    "## Further reading and resources\n",
    "\n",
    "We hope this brief lession has whetted your appetite for learning more about Python and programming in general. There are some fantastic learning materials available to you, many of them free. We highly recommend the materials referenced in the Bibliography. In addition, you may find the list of useful books, papers, websites and other resources on our web-scraping Github repository worth referencing: <a href=\"https://github.com/UKDataServiceOpen/web-scraping/tree/master/reading-list/\" target=_blank>[Reading list]</a>"
   ]
  },
  {
   "cell_type": "markdown",
   "metadata": {
    "slideshow": {
     "slide_type": "skip"
    }
   },
   "source": [
    "--END OF FILE--"
   ]
  }
 ],
 "metadata": {
  "kernelspec": {
   "display_name": "Python 3",
   "language": "python",
   "name": "python3"
  },
  "language_info": {
   "codemirror_mode": {
    "name": "ipython",
    "version": 3
   },
   "file_extension": ".py",
   "mimetype": "text/x-python",
   "name": "python",
   "nbconvert_exporter": "python",
   "pygments_lexer": "ipython3",
   "version": "3.7.3"
  },
  "toc": {
   "base_numbering": 1,
   "nav_menu": {
    "height": "256px",
    "width": "221px"
   },
   "number_sections": true,
   "sideBar": false,
   "skip_h1_title": true,
   "title_cell": "Table of Contents",
   "title_sidebar": "Contents",
   "toc_cell": false,
   "toc_position": {},
   "toc_section_display": true,
   "toc_window_display": false
  }
 },
 "nbformat": 4,
 "nbformat_minor": 4
}
