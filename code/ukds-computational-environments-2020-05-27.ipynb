{
 "cells": [
  {
   "cell_type": "markdown",
   "metadata": {
    "slideshow": {
     "slide_type": "skip"
    }
   },
   "source": [
    "![UKDS Logo](./images/UKDS_Logos_Col_Grey_300dpi.png)"
   ]
  },
  {
   "cell_type": "markdown",
   "metadata": {
    "slideshow": {
     "slide_type": "skip"
    }
   },
   "source": [
    "# Setting Up Your Computational Environment"
   ]
  },
  {
   "cell_type": "markdown",
   "metadata": {
    "slideshow": {
     "slide_type": "skip"
    }
   },
   "source": [
    "Welcome to the <a href=\"https://ukdataservice.ac.uk/\" target=_blank>UK Data Service</a> training series on *New Forms of Data for Social Science Research*. This series guides you through some of the most common and valuable new sources of data available for social science research: data collected from websites, social media platorms, text data, conducting simulations (agent based modelling), to name a few. To help you get to grips with these new forms of data, we provide webinars, interactive notebooks containing live programming code, reading lists and more.\n",
    "\n",
    "* To access training materials for the entire series: <a href=\"https://github.com/UKDataServiceOpen/new-forms-of-data\" target=_blank>[Training Materials]</a>\n",
    "\n",
    "* To keep up to date with upcoming and past training events: <a href=\"https://ukdataservice.ac.uk/news-and-events/events\" target=_blank>[Events]</a>\n",
    "\n",
    "* To get in contact with feedback, ideas or to seek assistance: <a href=\"https://ukdataservice.ac.uk/help.aspx\" target=_blank>[Help]</a>\n",
    "\n",
    "<a href=\"https://www.research.manchester.ac.uk/portal/julia.kasmire.html\" target=_blank>Dr Julia Kasmire</a> and <a href=\"https://www.research.manchester.ac.uk/portal/diarmuid.mcdonnell.html\" target=_blank>Dr Diarmuid McDonnell</a> <br />\n",
    "UK Data Service  <br />\n",
    "University of Manchester <br />\n",
    "May 2020"
   ]
  },
  {
   "cell_type": "markdown",
   "metadata": {
    "slideshow": {
     "slide_type": "skip"
    }
   },
   "source": [
    "## Introduction\n",
    "\n",
    "Computational methods for collecting, cleaning and analysing data are an increasingly important component of a social scientist’s toolkit. Central to engaging in these methods is the ability to write readable and effective code using a programming language.\n",
    "\n",
    "In this training series we demonstrate core programming concepts and methods through the use of social science examples. In particular we focus on four areas of programming/computational social science:\n",
    "1. Introduction to Python.\n",
    "2. Collecting data I: web-scraping. \n",
    "3. Collecting data II: APIs.\n",
    "4. Setting up your computational environment. [Focus of this notebook]"
   ]
  },
  {
   "cell_type": "markdown",
   "metadata": {
    "slideshow": {
     "slide_type": "slide"
    }
   },
   "source": [
    "### Aims\n",
    "\n",
    "This lesson - **Setting up your computational environment** - has two aims:\n",
    "1. Demonstrate how to create, manage, share and reproduce a Python computational environment.\n",
    "2. Cultivate your computational thinking skills through coding examples. In particular, how to define and solve a data analysis problem using computational methods."
   ]
  },
  {
   "cell_type": "markdown",
   "metadata": {
    "slideshow": {
     "slide_type": "slide"
    }
   },
   "source": [
    "### Lesson details\n",
    "\n",
    "* **Level**: Introductory\n",
    "* **Time**: 30-60 minutes\n",
    "* **Pre-requisites**: None, though you may find it useful to work through our <a href=\"https://github.com/UKDataServiceOpen/code-demos/blob/master/code/ukds-intro-to-python-2020-05-06.ipynb\" target=_blank>*Introduction to Python for social scientists*</a> and <a href=\"https://github.com/UKDataServiceOpen/code-demos/blob/master/code/ukds-web-scraping-2020-05-13.ipynb\" target=_blank>*Collecting data I: web-scraping*</a>  lessons first.\n",
    "* **Audience**: Researchers and analysts from any disciplinary background. The materials are slightly tailored for social scientists through the use of social data.\n",
    "* **Learning outcomes**:\n",
    "    1. Understand what a computational environment is.\n",
    "    2. Be able to install and import Python modules on your machine.\n",
    "    3. Be able to capture your computational environment and share it online.\n",
    "    4. Be able to reproduce a computational environment in order to execute a programming script."
   ]
  },
  {
   "cell_type": "markdown",
   "metadata": {
    "slideshow": {
     "slide_type": "skip"
    }
   },
   "source": [
    "## Guide to using this resource\n",
    "\n",
    "This learning resource was built using <a href=\"https://jupyter.org/\" target=_blank>Jupyter Notebook</a>, an open-source software application that allows you to mix code, results and narrative in a single document. As <a href=\"https://jupyter4edu.github.io/jupyter-edu-book/\" target=_blank>Barba et al. (2019)</a> espouse:\n",
    "> In a world where every subject matter can have a data-supported treatment, where computational devices are omnipresent and pervasive, the union of natural language and computation creates compelling communication and learning opportunities.\n",
    "\n",
    "If you are familiar with Jupyter notebooks then skip ahead to the main content (*What is a computational environment?*). Otherwise, the following is a quick guide to navigating and interacting with the notebook."
   ]
  },
  {
   "cell_type": "markdown",
   "metadata": {
    "slideshow": {
     "slide_type": "slide"
    }
   },
   "source": [
    "### Interaction\n",
    "\n",
    "**You only need to execute the code that is contained in sections which are marked by `In []`.**\n",
    "\n",
    "To execute a cell, click or double-click the cell and press the `Run` button on the top toolbar (you can also use the keyboard shortcut Shift + Enter).\n",
    "\n",
    "Try it for yourself:"
   ]
  },
  {
   "cell_type": "code",
   "execution_count": 1,
   "metadata": {
    "slideshow": {
     "slide_type": "subslide"
    }
   },
   "outputs": [
    {
     "name": "stdout",
     "output_type": "stream",
     "text": [
      "Enter your name and press enter:\n",
      "Diarmuid\n",
      "\n",
      "Hello Diarmuid, enjoy learning more about Python and web-scraping!\n"
     ]
    }
   ],
   "source": [
    "print(\"Enter your name and press enter:\")\n",
    "name = input()\n",
    "print(\"\\r\")\n",
    "print(\"Hello {}, enjoy learning more about Python and web-scraping!\".format(name))"
   ]
  },
  {
   "cell_type": "markdown",
   "metadata": {
    "slideshow": {
     "slide_type": "skip"
    }
   },
   "source": [
    "### Learn more\n",
    "\n",
    "Jupyter notebooks provide rich, flexible features for conducting and documenting your data analysis workflow. To learn more about additional notebook features, we recommend working through some of the <a href=\"https://github.com/darribas/gds19/blob/master/content/labs/lab_00.ipynb\" target=_blank>materials</a> provided by Dani Arribas-Bel at the University of Liverpool. "
   ]
  },
  {
   "cell_type": "markdown",
   "metadata": {
    "slideshow": {
     "slide_type": "slide"
    }
   },
   "source": [
    "## What is a computational environment?\n",
    "\n",
    "An Application Programming Interface (API) is\n",
    "> a set of functions and procedures allowing the creation of applications that access the features or data of an operating system, application, or other service\" (Oxford English Dictionary). \n",
    "\n",
    "In essence: an API acts as an intermediary between software applications. Think of an API's role as similar to that of a translator faciliating a conversation between two individuals who do not speak the same language. Neither individual needs to know the other's language, just how to formulate their response in a way the translator can understand. Similarly, an API **simplifies** how applications communicate with each other."
   ]
  },
  {
   "cell_type": "markdown",
   "metadata": {
    "slideshow": {
     "slide_type": "skip"
    }
   },
   "source": [
    "It performs this role by providing a set of protocols/standards for making *requests* and formulating *responses* between applications. For example, a smart phone application might need real-time traffic data from an online database. An API can validate the application's request for data, and handle the online database's response (i.e., the transfer of data to the application). In the absence of an API, the smart phone application would need to know a lot more technical information about the online database in order to communicate with it (e.g., what commands does the database understand?). But thanks to the API, the smart phone application only needs to know how to formulate a request that the API understands, which then communicates the request to the database and handles the response.\n",
    "\n",
    "Run the code below for a graphical representation of how an API works."
   ]
  },
  {
   "cell_type": "code",
   "execution_count": 2,
   "metadata": {
    "slideshow": {
     "slide_type": "subslide"
    }
   },
   "outputs": [
    {
     "data": {
      "text/html": [
       "\n",
       "        <iframe\n",
       "            width=\"900\"\n",
       "            height=\"600\"\n",
       "            src=\"./images/ukds-apis-slides.mp4\"\n",
       "            frameborder=\"0\"\n",
       "            allowfullscreen\n",
       "        ></iframe>\n",
       "        "
      ],
      "text/plain": [
       "<IPython.lib.display.IFrame at 0x1d84f4ec7b8>"
      ]
     },
     "execution_count": 2,
     "metadata": {},
     "output_type": "execute_result"
    }
   ],
   "source": [
    "from IPython.display import IFrame\n",
    "IFrame(\"./images/ukds-apis-slides.mp4\", width=900, height=600)"
   ]
  },
  {
   "cell_type": "markdown",
   "metadata": {
    "slideshow": {
     "slide_type": "skip"
    }
   },
   "source": [
    "### Why do you need to understand your computational environment?\n",
    "\n"
   ]
  },
  {
   "cell_type": "markdown",
   "metadata": {
    "slideshow": {
     "slide_type": "subslide"
    }
   },
   "source": [
    "### How do you create, manage, share and reproduce a computational environment?\n",
    "\n",
    "1. Create:\n",
    "    * Install Python\n",
    "    * Create a folder/directory for your project\n",
    "    * Create a computational environment i.e., setup a distinct version of Python, separate from the main installation\n",
    "    * Activate the computational environment i.e., use this version of Python for subsequent coding work\n",
    "2. Manage:\n",
    "    * Customise your computational environment by installing and updating Python modules\n",
    "3. Share:\n",
    "    * Capture your computational environment using a `requirements.txt` file\n",
    "    * Upload your environment to a public repostory\n",
    "    * mybinder.org\n",
    "4. Reproduce:\n",
    "    * Install someone else's computational environment on your machine in order to reproduce some Python code"
   ]
  },
  {
   "cell_type": "markdown",
   "metadata": {
    "slideshow": {
     "slide_type": "slide"
    }
   },
   "source": [
    "## A social science example\n",
    "\n",
    "Let's set ourselves a data collection task: downloading the Republic of Ireland Register of Charities using Python."
   ]
  },
  {
   "cell_type": "markdown",
   "metadata": {
    "slideshow": {
     "slide_type": "subslide"
    }
   },
   "source": [
    "<a id=\"comp-env\"></a>\n",
    "###  Creating a computational environment"
   ]
  },
  {
   "cell_type": "markdown",
   "metadata": {},
   "source": [
    "#### Preliminaries - Check Python is installed\n",
    "\n",
    "dffdsf"
   ]
  },
  {
   "cell_type": "code",
   "execution_count": 3,
   "metadata": {},
   "outputs": [
    {
     "name": "stdout",
     "output_type": "stream",
     "text": [
      "Python 3.7.3\n"
     ]
    }
   ],
   "source": [
    "!python --version"
   ]
  },
  {
   "cell_type": "markdown",
   "metadata": {},
   "source": [
    "#### Step 1 - Create project folder\n",
    "\n",
    "Open your command prompt/terminal/command line interface (CLI) and type the following one at a time:\n",
    "\n",
    "*Windows/Linux/Mac*\n",
    "\n",
    "```\n",
    "mkdir charity-data-download\n",
    "cd charity-data-download\n",
    "```\n",
    "\n",
    "This creates a new folder called `charity-data-download` on your machine and navigates to it."
   ]
  },
  {
   "cell_type": "markdown",
   "metadata": {},
   "source": [
    "#### Step 2 - Create computational environment\n",
    "\n",
    "Next, we need to install a copy of Python in this folder (known as a virtual environment). With the command prompt/terminal/command line interface (CLI) still open, type the following:\n",
    "\n",
    "*Windows/Linux/Mac*\n",
    "\n",
    "```\n",
    "python -m venv env\n",
    "```\n",
    "\n",
    "In essence the above command creates an isolated version of Python (stored in a folder called `env`) for our `charity-data-download` project. (Technically, it creates a file called `pyvenv.cfg` which points to the original Python installation).\n",
    "\n",
    "What this means is we can tweak and configure this version of Python without affecting the main installation or any other Python environment that exists on your machine. "
   ]
  },
  {
   "cell_type": "markdown",
   "metadata": {},
   "source": [
    "#### Step 3 - Activate computational environment\n",
    "\n",
    "Now that we have a distinct Python computational environment setup, we need to tell our machine to use this environment for our subsequent coding session. With the command prompt/terminal/command line interface (CLI) still open, type the following:\n",
    "\n",
    "*Windows*\n",
    "\n",
    "```\n",
    "env\\Scripts\\activate.bat\n",
    "```\n",
    "\n",
    "*Linux/Mac*\n",
    "\n",
    "```\n",
    "source env/bin/activate\n",
    "```\n",
    "\n",
    "(Now you start to notice differences in the operating systems and their handling of computational environments)\n",
    "\n",
    "This means that all of our subsequent work will use the version of Python contained in the `env` folder, **not** the main installation of Python."
   ]
  },
  {
   "cell_type": "markdown",
   "metadata": {
    "slideshow": {
     "slide_type": "subslide"
    }
   },
   "source": [
    "### Managing a computational environment\n",
    "\n",
    "If you followed the steps above then you should have an active computational environment contained in the `charity-data-download` folder. [REWORD]Now let's focus on our coding activity: downloading the Republic of Ireland Register of Charities. This is a .xlsx file containing a list of all charitable organisations registered with the Republic of Ireland charity regulator. The file is located at the following web page: <a href=\"https://www.charitiesregulator.ie/en/information-for-the-public/search-the-register-of-charities\" target=_blank>https://www.charitiesregulator.ie/en/information-for-the-public/search-the-register-of-charities</a> [UPDATE]"
   ]
  },
  {
   "cell_type": "markdown",
   "metadata": {},
   "source": [
    "OK, let's execute our Python code and see if it works:"
   ]
  },
  {
   "cell_type": "code",
   "execution_count": 8,
   "metadata": {},
   "outputs": [
    {
     "ename": "NameError",
     "evalue": "name 'requests' is not defined",
     "output_type": "error",
     "traceback": [
      "\u001b[1;31m---------------------------------------------------------------------------\u001b[0m",
      "\u001b[1;31mNameError\u001b[0m                                 Traceback (most recent call last)",
      "\u001b[1;32m<ipython-input-8-bddb5530c460>\u001b[0m in \u001b[0;36m<module>\u001b[1;34m\u001b[0m\n\u001b[0;32m      7\u001b[0m \u001b[1;33m\u001b[0m\u001b[0m\n\u001b[0;32m      8\u001b[0m \u001b[0mfile_webadd\u001b[0m \u001b[1;33m=\u001b[0m \u001b[1;34m\"https://www.charitiesregulator.ie/media/1931/public-register-22052020.xlsx\"\u001b[0m\u001b[1;33m\u001b[0m\u001b[1;33m\u001b[0m\u001b[0m\n\u001b[1;32m----> 9\u001b[1;33m \u001b[0mresponse_file\u001b[0m \u001b[1;33m=\u001b[0m \u001b[0mrequests\u001b[0m\u001b[1;33m.\u001b[0m\u001b[0mget\u001b[0m\u001b[1;33m(\u001b[0m\u001b[0mfile_webadd\u001b[0m\u001b[1;33m)\u001b[0m\u001b[1;33m\u001b[0m\u001b[1;33m\u001b[0m\u001b[0m\n\u001b[0m\u001b[0;32m     10\u001b[0m \u001b[1;33m\u001b[0m\u001b[0m\n\u001b[0;32m     11\u001b[0m \u001b[1;33m\u001b[0m\u001b[0m\n",
      "\u001b[1;31mNameError\u001b[0m: name 'requests' is not defined"
     ]
    }
   ],
   "source": [
    "# Import modules\n",
    "\n",
    "import os # module for working with the operating system\n",
    "\n",
    "\n",
    "# Request file\n",
    "\n",
    "file_webadd = \"https://www.charitiesregulator.ie/media/1931/public-register-22052020.xlsx\"\n",
    "response_file = requests.get(file_webadd)\n",
    "\n",
    "\n",
    "# Save files (data)\n",
    "\n",
    "outfile = \"ire-register-of-charities.xlsx\"\n",
    "\n",
    "if os.path.isfile(outfile): # do not overwrite existing file\n",
    "    print(\"File already exists, no need to overwrite\")\n",
    "else: # file does not currently exist, therefore create\n",
    "    with open(outfile, \"wb\") as f:\n",
    "        f.write(response_file.content)"
   ]
  },
  {
   "cell_type": "markdown",
   "metadata": {},
   "source": [
    "Hmm, it seems there's an error in our code. Helpfully Python tells us what kind of error it is: `NameError: name 'requests' is not defined`. This means that Python does not recognise the word `requests`. However I know from experience that this is indeed the correct method - `requests.get()` - for requesting web pages/downloading files."
   ]
  },
  {
   "cell_type": "markdown",
   "metadata": {},
   "source": [
    "#### Step 1 - Installing Python modules\n",
    "\n",
    "Python comes with a lot of functionality that is available straight away when you launch it. For example, you can perform calculations like so:"
   ]
  },
  {
   "cell_type": "code",
   "execution_count": 5,
   "metadata": {},
   "outputs": [
    {
     "data": {
      "text/plain": [
       "500.0"
      ]
     },
     "execution_count": 5,
     "metadata": {},
     "output_type": "execute_result"
    }
   ],
   "source": [
    "(100 * 50) / 10"
   ]
  },
  {
   "cell_type": "markdown",
   "metadata": {},
   "source": [
    "However many of the more interesting and complicated programming tasks require additional functionality that you need to import into your Python session. For example, if we want to randomly select a number between 1 and 100 inclusive:\n",
    "\n",
    "(Try running the code a couple of times to see what happens - is it truly \"random\"?)"
   ]
  },
  {
   "cell_type": "code",
   "execution_count": 11,
   "metadata": {},
   "outputs": [
    {
     "data": {
      "text/plain": [
       "92"
      ]
     },
     "execution_count": 11,
     "metadata": {},
     "output_type": "execute_result"
    }
   ],
   "source": [
    "import random\n",
    "\n",
    "random.randint(1,100)"
   ]
  },
  {
   "cell_type": "markdown",
   "metadata": {},
   "source": [
    "Note how we needed to import (load) a module called `random` in order to use the `randint` method. **Modules** are Python programming scripts that contain additional techniques or functions for you to use. Some modules are automatically included with the standard installation of Python: in this scenario, all you need to do is **import** the module into your Python session (e.g., `import random`).\n",
    "\n",
    "(You can view the standard library of Python modules here: <a href=\"\" target=_blank>https://docs.python.org/3/library/</a>)"
   ]
  },
  {
   "cell_type": "markdown",
   "metadata": {},
   "source": [
    "However, many of the modules you will need for your computational social science / data science / data analysis work have to be installed on your machine before they can be imported. For example, we need to install the `requests` module in order to download the Register of Charities (and web-scraping more generally). \n",
    "\n",
    "Open your command prompt/terminal/command line interface (CLI) and type the following:\n",
    "\n",
    "*Windows/Linux/Mac*\n",
    "\n",
    "```\n",
    "pip install requests\n",
    "```\n",
    "\n",
    "(Remember to activate your computational environment using the [instructions above](#comp-env) before executing the above command, else the `requests` module gets installed somewhere else)."
   ]
  },
  {
   "cell_type": "markdown",
   "metadata": {},
   "source": [
    "The `pip install requests` command installs this Python module on your machine."
   ]
  },
  {
   "cell_type": "markdown",
   "metadata": {},
   "source": [
    "Now let's try to execute our data download code once more, this time importing the `requests` module:"
   ]
  },
  {
   "cell_type": "code",
   "execution_count": 12,
   "metadata": {},
   "outputs": [],
   "source": [
    "# Import modules\n",
    "\n",
    "import os # module for working with the operating system\n",
    "import requests # module for requesting urls\n",
    "\n",
    "\n",
    "# Request file\n",
    "\n",
    "file_webadd = \"https://www.charitiesregulator.ie/media/1931/public-register-22052020.xlsx\"\n",
    "response_file = requests.get(file_webadd)\n",
    "\n",
    "\n",
    "# Save files (data)\n",
    "\n",
    "outfile = \"ire-register-of-charities.xlsx\"\n",
    "\n",
    "if os.path.isfile(outfile): # do not overwrite existing file\n",
    "    print(\"File already exists, no need to overwrite\")\n",
    "else: # file does not currently exist, therefore create\n",
    "    with open(outfile, \"wb\") as f:\n",
    "        f.write(response_file.content)"
   ]
  },
  {
   "cell_type": "markdown",
   "metadata": {},
   "source": [
    "How do we know the file was downloaded? The simplest way is to check whether a) the file was created, and b) the data were written to it."
   ]
  },
  {
   "cell_type": "code",
   "execution_count": 13,
   "metadata": {
    "slideshow": {
     "slide_type": "subslide"
    }
   },
   "outputs": [
    {
     "data": {
      "text/plain": [
       "['.ipynb_checkpoints',\n",
       " 'downloads',\n",
       " 'images',\n",
       " 'ire-register-of-charities.xlsx',\n",
       " 'README.md',\n",
       " 'responses',\n",
       " 'sampling-frame',\n",
       " 'ukds-apis-2020-05-20.ipynb',\n",
       " 'ukds-computational-environments-2020-05-27.ipynb',\n",
       " 'ukds-intro-to-python-2020-05-06.ipynb',\n",
       " 'ukds-intro-to-python-notes-2020-05-06.ipynb',\n",
       " 'ukds-web-scraping-2020-05-13.ipynb']"
      ]
     },
     "execution_count": 13,
     "metadata": {},
     "output_type": "execute_result"
    }
   ],
   "source": [
    "# Check presence of file in current folder\n",
    "\n",
    "os.listdir()"
   ]
  },
  {
   "cell_type": "markdown",
   "metadata": {},
   "source": [
    "In order to open"
   ]
  },
  {
   "cell_type": "markdown",
   "metadata": {
    "slideshow": {
     "slide_type": "slide"
    }
   },
   "source": [
    "## What have we learned?\n",
    "\n",
    "Let's recap what key skills and techniques we've learned:\n",
    "* **How to import modules**. You will usually need to import modules into Python to support your work. Python does come with some methods and functions that are ready to use straight away, but for computational social science tasks you'll almost certainly need to import some additional modules.\n",
    "* **How to make requests (calls) for data to an API**. You can use Python to request data from an API.\n",
    "* **How to handle and save the data that is returned by the API**. APIs tend to return data in JSON format, which requires different data manipulation techniques than you may be used to. You can process this data and save it to a file for future use.\n",
    "* **How to do all of the above in an efficient, clear and effective manner**."
   ]
  },
  {
   "cell_type": "markdown",
   "metadata": {
    "slideshow": {
     "slide_type": "slide"
    }
   },
   "source": [
    "## Conclusion\n",
    "\n",
    "Interacting with an API is a simple yet powerful computational method for collecting data of value for social science research. It provides a relatively gentle introduction to using programming languages, also. However, \"with great power comes great responsibility\" (sorry). APIs take you into the realm of data protection, Terms of Service/Use, and many murky ethical issues. Wielded sensibly and sensitively, collecting data from APIs is a valuable and exciting social science research method.\n",
    "\n",
    "Good luck on your data-driven travels!"
   ]
  },
  {
   "cell_type": "markdown",
   "metadata": {
    "slideshow": {
     "slide_type": "skip"
    }
   },
   "source": [
    "## Bibliography\n",
    "\n",
    "Barba, Lorena A. et al. (2019). *Teaching and Learning with Jupyter*. <a href=\"https://jupyter4edu.github.io/jupyter-edu-book/\" target=_blank>https://jupyter4edu.github.io/jupyter-edu-book/</a>.\n",
    "\n",
    "Brooker, P. (2020). *Programming with Python for Social Scientists*. London: SAGE Publications Ltd.\n",
    "\n",
    "Lau, S., Gonzalez, J., & Nolan, D. (n.d.). *Principles and Techniques of Data Science*. https://www.textbook.ds100.org\n",
    "\n",
    "Tagliaferri, L. (n.d.). *How to Code in Python 3*. https://assets.digitalocean.com/books/python/how-to-code-in-python.pdf"
   ]
  },
  {
   "cell_type": "markdown",
   "metadata": {
    "slideshow": {
     "slide_type": "slide"
    }
   },
   "source": [
    "## Further reading and resources\n",
    "\n",
    "We hope this brief lession has whetted your appetite for learning more about web-scraping and Python programming in general. There are some fantastic learning materials available to you, many of them free. We highly recommend the materials referenced in the Bibliography.\n",
    "\n",
    "In addition, you may find the following resources useful:\n",
    "* <a href=\"https://github.com/UKDataServiceOpen/web-scraping\" target=_blank>**Web-scraping for Social Science Research**</a> - a free UK Data Service training series on web-scraping and APIs, with three webinars and lots of detailed coding examples.\n",
    "* <a href=\"https://automatetheboringstuff.com/\" target=_blank>**Automate the Boring Stuff with Python**</a> - a free ebook covering lots of interesting, practical uses of Python. Chapter 16 covers APIs and JSON files.\n",
    "* <a href=\"https://github.com/public-apis/public-apis\" target=_blank>**Public APIs**</a> - a list of free APIs covering a range of interesting domains e.g., social data, food & drink, weather etc."
   ]
  },
  {
   "cell_type": "markdown",
   "metadata": {
    "slideshow": {
     "slide_type": "skip"
    }
   },
   "source": [
    "## Appendices"
   ]
  },
  {
   "cell_type": "markdown",
   "metadata": {
    "slideshow": {
     "slide_type": "skip"
    }
   },
   "source": [
    "### Appendix A - Stop-and-search data for every police force\n",
    "\n",
    "It would be inefficient to request data for every police force one at a time. We can make use of lists and loops to speed up the downloading of data.\n",
    "\n",
    "First, let's get our list of police forces:"
   ]
  },
  {
   "cell_type": "code",
   "execution_count": 25,
   "metadata": {
    "slideshow": {
     "slide_type": "skip"
    }
   },
   "outputs": [
    {
     "name": "stdout",
     "output_type": "stream",
     "text": [
      "Succesfully imported necessary modules\n"
     ]
    }
   ],
   "source": [
    "# Import modules\n",
    "\n",
    "import os\n",
    "import requests\n",
    "import json\n",
    "from datetime import datetime\n",
    "print(\"Succesfully imported necessary modules\")\n",
    "\n",
    "# Define web address and search terms\n",
    "\n",
    "baseurl = \"https://data.police.uk/api/\"\n",
    "forces = \"forces\"\n",
    "webadd = baseurl + forces\n",
    "\n",
    "# Make call to API\n",
    "\n",
    "response = requests.get(webadd)\n",
    "response.status_code\n",
    "\n",
    "# Store data in variable\n",
    "\n",
    "forces_data = response.json()"
   ]
  },
  {
   "cell_type": "markdown",
   "metadata": {
    "slideshow": {
     "slide_type": "skip"
    }
   },
   "source": [
    "Next, we extract a list of force ids:"
   ]
  },
  {
   "cell_type": "code",
   "execution_count": null,
   "metadata": {
    "slideshow": {
     "slide_type": "skip"
    }
   },
   "outputs": [],
   "source": [
    "force_ids = [el[\"id\"] for el in forces_data]"
   ]
  },
  {
   "cell_type": "markdown",
   "metadata": {
    "slideshow": {
     "slide_type": "skip"
    }
   },
   "source": [
    "Then, for each of these ids we request stop-and-search data and store the results in a list:"
   ]
  },
  {
   "cell_type": "code",
   "execution_count": null,
   "metadata": {
    "slideshow": {
     "slide_type": "skip"
    }
   },
   "outputs": [],
   "source": [
    "baseurl = \"https://data.police.uk/api/\"\n",
    "sas = \"stops-force\"\n",
    "\n",
    "forces_sas_data = [] # create a blank list for storing results of request\n",
    "\n",
    "for force in force_ids: \n",
    "    webadd = baseurl + sas + \"?force=\" + force\n",
    "    \n",
    "    response = requests.get(webadd)\n",
    "    \n",
    "    if response.status_code==200:\n",
    "        sas_data = response.json()\n",
    "    \n",
    "        for el in sas_data:\n",
    "            el[\"force\"] = force\n",
    "            el[\"code\"] = response.status_code\n",
    "            el[\"note\"] = \"Downloaded data\"\n",
    "    else:\n",
    "        sas_data = {\"force\": force, \"note\": \"Could not download\", \"code\": response.status_code}\n",
    "        \n",
    "    forces_sas_data.append(sas_data)"
   ]
  },
  {
   "cell_type": "markdown",
   "metadata": {
    "slideshow": {
     "slide_type": "skip"
    }
   },
   "source": [
    "You'll see we added a conditional statement (`if, else`) to check whether we made a successful request for data: if yes, then store the data in the `sas_data` variable; if no, then define the `sas_data` variable as a dictionary containing some notes about the unsuccessful attempt.\n",
    "\n",
    "Let's check the results. Our `data` list should contain the results for 44 police forces:"
   ]
  },
  {
   "cell_type": "code",
   "execution_count": null,
   "metadata": {
    "slideshow": {
     "slide_type": "skip"
    }
   },
   "outputs": [],
   "source": [
    "len(forces_sas_data)"
   ]
  },
  {
   "cell_type": "markdown",
   "metadata": {
    "slideshow": {
     "slide_type": "skip"
    }
   },
   "source": [
    "We'll leave it to you to examine the contents of the `forces_sas_data` variable."
   ]
  },
  {
   "cell_type": "markdown",
   "metadata": {
    "slideshow": {
     "slide_type": "skip"
    }
   },
   "source": [
    "--END OF FILE--"
   ]
  }
 ],
 "metadata": {
  "kernelspec": {
   "display_name": "Python 3",
   "language": "python",
   "name": "python3"
  },
  "language_info": {
   "codemirror_mode": {
    "name": "ipython",
    "version": 3
   },
   "file_extension": ".py",
   "mimetype": "text/x-python",
   "name": "python",
   "nbconvert_exporter": "python",
   "pygments_lexer": "ipython3",
   "version": "3.7.3"
  },
  "toc": {
   "base_numbering": 1,
   "nav_menu": {
    "height": "256px",
    "width": "221px"
   },
   "number_sections": true,
   "sideBar": false,
   "skip_h1_title": true,
   "title_cell": "Table of Contents",
   "title_sidebar": "Contents",
   "toc_cell": false,
   "toc_position": {},
   "toc_section_display": true,
   "toc_window_display": false
  }
 },
 "nbformat": 4,
 "nbformat_minor": 4
}
