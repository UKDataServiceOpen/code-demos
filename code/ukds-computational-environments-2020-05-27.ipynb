{
 "cells": [
  {
   "cell_type": "markdown",
   "metadata": {
    "slideshow": {
     "slide_type": "skip"
    }
   },
   "source": [
    "![UKDS Logo](./images/UKDS_Logos_Col_Grey_300dpi.png)"
   ]
  },
  {
   "cell_type": "markdown",
   "metadata": {
    "slideshow": {
     "slide_type": "skip"
    }
   },
   "source": [
    "# Setting Up Your Computational Environment"
   ]
  },
  {
   "cell_type": "markdown",
   "metadata": {
    "slideshow": {
     "slide_type": "skip"
    }
   },
   "source": [
    "Welcome to the <a href=\"https://ukdataservice.ac.uk/\" target=_blank>UK Data Service</a> training series on *New Forms of Data for Social Science Research*. This series guides you through some of the most common and valuable new sources of data available for social science research: data collected from websites, social media platorms, text data, conducting simulations (agent based modelling), to name a few. To help you get to grips with these new forms of data, we provide webinars, interactive notebooks containing live programming code, reading lists and more.\n",
    "\n",
    "* To access training materials for the entire series: <a href=\"https://github.com/UKDataServiceOpen/new-forms-of-data\" target=_blank>[Training Materials]</a>\n",
    "\n",
    "* To keep up to date with upcoming and past training events: <a href=\"https://ukdataservice.ac.uk/news-and-events/events\" target=_blank>[Events]</a>\n",
    "\n",
    "* To get in contact with feedback, ideas or to seek assistance: <a href=\"https://ukdataservice.ac.uk/help.aspx\" target=_blank>[Help]</a>\n",
    "\n",
    "<a href=\"https://www.research.manchester.ac.uk/portal/julia.kasmire.html\" target=_blank>Dr Julia Kasmire</a> and <a href=\"https://www.research.manchester.ac.uk/portal/diarmuid.mcdonnell.html\" target=_blank>Dr Diarmuid McDonnell</a> <br />\n",
    "UK Data Service  <br />\n",
    "University of Manchester <br />\n",
    "May 2020"
   ]
  },
  {
   "cell_type": "markdown",
   "metadata": {
    "slideshow": {
     "slide_type": "skip"
    }
   },
   "source": [
    "## Introduction\n",
    "\n",
    "Computational methods for collecting, cleaning and analysing data are an increasingly important component of a social scientist’s toolkit. Central to engaging in these methods is the ability to write readable and effective code using a programming language.\n",
    "\n",
    "In this training series we demonstrate core programming concepts and methods through the use of social science examples. In particular we focus on four areas of programming/computational social science:\n",
    "1. Introduction to Python.\n",
    "2. Collecting data I: web-scraping. \n",
    "3. Collecting data II: APIs.\n",
    "4. Setting up your computational environment. [Focus of this notebook]"
   ]
  },
  {
   "cell_type": "markdown",
   "metadata": {
    "slideshow": {
     "slide_type": "slide"
    }
   },
   "source": [
    "### Aims\n",
    "\n",
    "This lesson - **Setting up your computational environment** - has two aims:\n",
    "1. Demonstrate how to create, manage, capture, share and reproduce a Python computational environment.\n",
    "2. Cultivate your computational thinking skills through coding examples. In particular, how to define and solve a data analysis problem using computational methods."
   ]
  },
  {
   "cell_type": "markdown",
   "metadata": {
    "slideshow": {
     "slide_type": "slide"
    }
   },
   "source": [
    "### Lesson details\n",
    "\n",
    "* **Level**: Introductory\n",
    "* **Time**: 30-60 minutes\n",
    "* **Pre-requisites**: None, though you may find it useful to work through our <a href=\"https://github.com/UKDataServiceOpen/code-demos/blob/master/code/ukds-intro-to-python-2020-05-06.ipynb\" target=_blank>*Introduction to Python for social scientists*</a> lessons first.\n",
    "* **Audience**: Researchers and analysts from any disciplinary background. The materials are slightly tailored for social scientists through the use of social data.\n",
    "* **Learning outcomes**:\n",
    "    1. Understand what a computational environment is.\n",
    "    2. Be able to install and import Python modules on your machine.\n",
    "    3. Be able to capture your computational environment and share it with others.\n",
    "    4. Be able to reproduce a computational environment in order to execute a programming script."
   ]
  },
  {
   "cell_type": "markdown",
   "metadata": {
    "slideshow": {
     "slide_type": "skip"
    }
   },
   "source": [
    "## Guide to using this resource\n",
    "\n",
    "This learning resource was built using <a href=\"https://jupyter.org/\" target=_blank>Jupyter Notebook</a>, an open-source software application that allows you to mix code, results and narrative in a single document. As <a href=\"https://jupyter4edu.github.io/jupyter-edu-book/\" target=_blank>Barba et al. (2019)</a> espouse:\n",
    "> In a world where every subject matter can have a data-supported treatment, where computational devices are omnipresent and pervasive, the union of natural language and computation creates compelling communication and learning opportunities.\n",
    "\n",
    "If you are familiar with Jupyter notebooks then skip ahead to the main content (*What is a computational environment?*). Otherwise, the following is a quick guide to navigating and interacting with the notebook."
   ]
  },
  {
   "cell_type": "markdown",
   "metadata": {
    "slideshow": {
     "slide_type": "slide"
    }
   },
   "source": [
    "### Interaction\n",
    "\n",
    "**You only need to execute the code that is contained in sections which are marked by `In []`.**\n",
    "\n",
    "To execute a cell, click or double-click the cell and press the `Run` button on the top toolbar (you can also use the keyboard shortcut Shift + Enter).\n",
    "\n",
    "Try it for yourself:"
   ]
  },
  {
   "cell_type": "code",
   "execution_count": 5,
   "metadata": {
    "slideshow": {
     "slide_type": "subslide"
    }
   },
   "outputs": [
    {
     "name": "stdout",
     "output_type": "stream",
     "text": [
      "Enter your name and press enter:\n",
      "Diarmuid\n",
      "\n",
      "Hello Diarmuid, enjoy learning more about Python and web-scraping!\n"
     ]
    }
   ],
   "source": [
    "print(\"Enter your name and press enter:\")\n",
    "name = input()\n",
    "print(\"\\r\")\n",
    "print(\"Hello {}, enjoy learning more about Python and web-scraping!\".format(name))"
   ]
  },
  {
   "cell_type": "markdown",
   "metadata": {
    "slideshow": {
     "slide_type": "skip"
    }
   },
   "source": [
    "### Learn more\n",
    "\n",
    "Jupyter notebooks provide rich, flexible features for conducting and documenting your data analysis workflow. To learn more about additional notebook features, we recommend working through some of the <a href=\"https://github.com/darribas/gds19/blob/master/content/labs/lab_00.ipynb\" target=_blank>materials</a> provided by Dani Arribas-Bel at the University of Liverpool. "
   ]
  },
  {
   "cell_type": "markdown",
   "metadata": {
    "slideshow": {
     "slide_type": "slide"
    }
   },
   "source": [
    "## What is a computational environment?\n",
    "\n",
    "> Every computer has its own unique computational environment consisting of its operating system, what software it has installed, what versions of software packages are installed, and other features [e.g., hardware]...(The Turing Way Community, 2019) \n",
    "\n"
   ]
  },
  {
   "cell_type": "markdown",
   "metadata": {
    "slideshow": {
     "slide_type": "subslide"
    }
   },
   "source": [
    "### Why do you need to understand your computational environment?\n",
    "\n",
    "In the digital era, computation is becoming central to research and analytical work. Researchers and analysts are increasingly dependent on specialised hardware, software, data and other technological tools to produce their results. In conjunction, there are valid concerns around the reproducibility of scientific work (Christensen et al., 2019; Wynants et al., 2020). Therefore it is critical that attempts are made to ensure a piece of research or analytical work can be reproduced by others. One solution to this problem is to capture and make available the computational environment (or the core aspects of it) in which the work was undertaken.\n",
    "\n",
    "> The analysis should be mobile. Mobility of compute is defined as the ability to define, create, and maintain a workflow locally while remaining confident that the workflow can be executed elsewhere. (The Turing Way Community, 2019)"
   ]
  },
  {
   "cell_type": "markdown",
   "metadata": {
    "slideshow": {
     "slide_type": "subslide"
    }
   },
   "source": [
    "### How do you capture a computational environment?\n",
    "\n",
    "Capturing a computational environment involves recording the computational features of your work:\n",
    "* What type of machine did you use? How much memory does it have?\n",
    "* What operating system do you have e.g., Windows, Mac, Linux?\n",
    "* Which programming language or statistical software did you use to conduct your analysis e.g., Python, R, Stata, NVivo, Qualtrix?\n",
    "* Which version of the programming language did you use? Python 3.5, 3.6, 3.7 or 3.8?\n",
    "* What additional packages or modules did you install and make use of in your analysis e.g., Python `nltk` module for natural language processing?\n",
    "* What other files are necessary for producing the results e.g., data sets?\n",
    "\n",
    "A basic but valid way of caputuring your computational environment is simply documenting all of these elements above. Thankfully there are technological solutions that make this process simpler, quicker and more robust."
   ]
  },
  {
   "cell_type": "markdown",
   "metadata": {
    "slideshow": {
     "slide_type": "subslide"
    }
   },
   "source": [
    "There are two key methods, which can be combined, for capturing your computational environment:\n",
    "1. Using package management systems (e.g., Conda, pip) to record the software used in your research or analytical work.\n",
    "2. Using virutal machines or containers to capture the entire computational environment i.e., the operating system **and** the software, files, data sets etc."
   ]
  },
  {
   "cell_type": "markdown",
   "metadata": {
    "slideshow": {
     "slide_type": "slide"
    }
   },
   "source": [
    "## A social science example\n",
    "\n",
    "Let's set ourselves a data collection task: downloading the Republic of Ireland Register of Charities using Python."
   ]
  },
  {
   "cell_type": "markdown",
   "metadata": {
    "slideshow": {
     "slide_type": "subslide"
    }
   },
   "source": [
    "<a id=\"comp-env\"></a>\n",
    "###  Creating a computational environment"
   ]
  },
  {
   "cell_type": "markdown",
   "metadata": {
    "slideshow": {
     "slide_type": "subslide"
    }
   },
   "source": [
    "#### Preliminaries - Check Python is installed"
   ]
  },
  {
   "cell_type": "code",
   "execution_count": 6,
   "metadata": {
    "slideshow": {
     "slide_type": "fragment"
    }
   },
   "outputs": [
    {
     "name": "stdout",
     "output_type": "stream",
     "text": [
      "Python 3.7.3\n"
     ]
    }
   ],
   "source": [
    "!python --version"
   ]
  },
  {
   "cell_type": "code",
   "execution_count": 7,
   "metadata": {
    "slideshow": {
     "slide_type": "fragment"
    }
   },
   "outputs": [
    {
     "data": {
      "text/plain": [
       "'C:\\\\ANACONDA3'"
      ]
     },
     "execution_count": 7,
     "metadata": {},
     "output_type": "execute_result"
    }
   ],
   "source": [
    "import os, sys\n",
    "\n",
    "os.path.dirname(sys.executable)"
   ]
  },
  {
   "cell_type": "markdown",
   "metadata": {
    "slideshow": {
     "slide_type": "subslide"
    }
   },
   "source": [
    "#### Step 1 - Create project folder\n",
    "\n",
    "Open your command prompt/terminal/command line interface (CLI) and type the following one at a time:\n",
    "\n",
    "*Windows/Linux/Mac*\n",
    "\n",
    "```\n",
    "mkdir charity-data-download\n",
    "cd charity-data-download\n",
    "```\n",
    "\n",
    "This creates a new folder called `charity-data-download` on your machine and navigates to it."
   ]
  },
  {
   "cell_type": "markdown",
   "metadata": {
    "slideshow": {
     "slide_type": "subslide"
    }
   },
   "source": [
    "#### Step 2 - Create computational environment\n",
    "\n",
    "Next, we need to install a copy of Python in this folder (also known as a virtual environment). With the command prompt/terminal/command line interface (CLI) still open, type the following:\n",
    "\n",
    "*Windows/Linux/Mac*\n",
    "\n",
    "```\n",
    "python -m venv env\n",
    "```\n",
    "\n",
    "In essence the above command creates an isolated copy of Python (stored in a folder called `env`) for our `charity-data-download` project. (Technically, it creates a file called `pyvenv.cfg` which points to the original Python installation).\n",
    "\n",
    "What this means is we can tweak and configure this version of Python without affecting the main installation or any other Python environment that exists on your machine. "
   ]
  },
  {
   "cell_type": "markdown",
   "metadata": {
    "slideshow": {
     "slide_type": "subslide"
    }
   },
   "source": [
    "#### Step 3 - Activate computational environment\n",
    "\n",
    "Now that we have a distinct Python computational environment setup, we need to tell our machine to use this environment for our subsequent coding session. With the command prompt/terminal/command line interface (CLI) still open, type the following:\n",
    "\n",
    "*Windows*\n",
    "\n",
    "```\n",
    "env\\Scripts\\activate.bat\n",
    "```\n",
    "\n",
    "*Linux/Mac*\n",
    "\n",
    "```\n",
    "source env/bin/activate\n",
    "```\n",
    "\n",
    "(Now you start to notice differences in the operating systems and their handling of computational environments)\n",
    "\n",
    "This means that all of our subsequent work will use the copy of Python contained in the `env` folder, **not** the main installation of Python."
   ]
  },
  {
   "cell_type": "markdown",
   "metadata": {
    "slideshow": {
     "slide_type": "subslide"
    }
   },
   "source": [
    "### Managing a computational environment\n",
    "\n",
    "If you followed the steps above then you should have a distinct computational environment that is just for any work relating to our `charity-data-download` project. Now let's focus on our coding activity: downloading the Republic of Ireland Register of Charities. This is a .xlsx file containing a list of all charitable organisations registered with the Republic of Ireland charity regulator. The file is located at the following web page: <a href=\"https://www.charitiesregulator.ie/en/information-for-the-public/search-the-register-of-charities\" target=_blank>https://www.charitiesregulator.ie/en/information-for-the-public/search-the-register-of-charities</a>"
   ]
  },
  {
   "cell_type": "markdown",
   "metadata": {
    "slideshow": {
     "slide_type": "subslide"
    }
   },
   "source": [
    "Here is the code we need to download this file (not executable in this notebook):"
   ]
  },
  {
   "cell_type": "raw",
   "metadata": {
    "slideshow": {
     "slide_type": "fragment"
    }
   },
   "source": [
    "## Download Republic of Ireland Register of Charities\n",
    "## Diarmuid McDonnell\n",
    "## 2020-05-27\n",
    "\n",
    "# Import modules\n",
    "\n",
    "import os # module for working with the operating system\n",
    "import requests # module for requesting web pages\n",
    "\n",
    "\n",
    "# Request file\n",
    "\n",
    "file_webadd = \"https://www.charitiesregulator.ie/media/1931/public-register-22052020.xlsx\"\n",
    "response_file = requests.get(file_webadd)\n",
    "\n",
    "\n",
    "# Save files (data)\n",
    "\n",
    "outfile = \"ire-register-of-charities.xlsx\"\n",
    "\n",
    "if os.path.isfile(outfile): # do not overwrite existing file\n",
    "    print(\"File already exists, no need to overwrite\")\n",
    "else: # file does not currently exist, therefore create\n",
    "    with open(outfile, \"wb\") as f:\n",
    "        f.write(response_file.content)\n",
    "        \n",
    "print(\"Finished executing script\")        "
   ]
  },
  {
   "cell_type": "markdown",
   "metadata": {
    "slideshow": {
     "slide_type": "subslide"
    }
   },
   "source": [
    "We're going to move out of Jupyter notebook at this stage and execute the above code directly in the command prompt/terminal/command line interface (CLI). First, save the following file to the `charity-data-download` folder on your machine:\n",
    "\n",
    "Script: [ire-register-of-charities-download.py](files/ire-register-of-charities-download.py)"
   ]
  },
  {
   "cell_type": "markdown",
   "metadata": {
    "slideshow": {
     "slide_type": "subslide"
    }
   },
   "source": [
    "Next, with the `charity-data-download` computational environment active, type the following into your command prompt/terminal/command line interface (CLI):\n",
    "\n",
    "*Windows/Linux/Mac*\n",
    "\n",
    "```\n",
    "python ire-register-of-charities-download.py\n",
    "```\n",
    "\n",
    "This executes/runs the code contained in the file."
   ]
  },
  {
   "cell_type": "markdown",
   "metadata": {
    "slideshow": {
     "slide_type": "skip"
    }
   },
   "source": [
    "Hmm, it seems there's an error in our code. Helpfully Python tells us what kind of error it is: `ModuleNotFoundError: No module named 'requests'`. This means that Python cannot find the `requests` module on your machine."
   ]
  },
  {
   "cell_type": "markdown",
   "metadata": {
    "slideshow": {
     "slide_type": "skip"
    }
   },
   "source": [
    "#### Step 1 - Installing Python modules\n",
    "\n",
    "Python comes with a lot of functionality that is available straight away when you launch it. For example, you can perform calculations like so:"
   ]
  },
  {
   "cell_type": "code",
   "execution_count": 8,
   "metadata": {
    "slideshow": {
     "slide_type": "skip"
    }
   },
   "outputs": [
    {
     "data": {
      "text/plain": [
       "500.0"
      ]
     },
     "execution_count": 8,
     "metadata": {},
     "output_type": "execute_result"
    }
   ],
   "source": [
    "(100 * 50) / 10"
   ]
  },
  {
   "cell_type": "markdown",
   "metadata": {
    "slideshow": {
     "slide_type": "skip"
    }
   },
   "source": [
    "However many of the more interesting and complicated programming tasks require additional functionality that you need to import into your Python session. For example, if we want to randomly select a number between 1 and 100 inclusive:\n",
    "\n",
    "(Try running the code a couple of times to see what happens - is it truly \"random\"?)"
   ]
  },
  {
   "cell_type": "code",
   "execution_count": 9,
   "metadata": {
    "slideshow": {
     "slide_type": "skip"
    }
   },
   "outputs": [
    {
     "data": {
      "text/plain": [
       "39"
      ]
     },
     "execution_count": 9,
     "metadata": {},
     "output_type": "execute_result"
    }
   ],
   "source": [
    "import random\n",
    "\n",
    "random.randint(1,100)"
   ]
  },
  {
   "cell_type": "markdown",
   "metadata": {
    "slideshow": {
     "slide_type": "skip"
    }
   },
   "source": [
    "Note how we needed to import (load) a module called `random` in order to use the `randint` method. **Modules** are Python programming scripts that contain additional techniques or functions for you to use. Some modules are automatically included with the standard installation of Python: in this scenario, all you need to do is **import** the module into your Python session (e.g., `import random`).\n",
    "\n",
    "(You can view the standard library of Python modules here: <a href=\"\" target=_blank>https://docs.python.org/3/library/</a>)"
   ]
  },
  {
   "cell_type": "markdown",
   "metadata": {
    "slideshow": {
     "slide_type": "subslide"
    }
   },
   "source": [
    "However, many of the modules you will need for your computational social science / data science / data analysis work have to be installed on your machine before they can be imported. For example, we need to install the `requests` module in order to download the Register of Charities (and web-scraping more generally). \n",
    "\n",
    "(Technically you are installing a *package* that contains the module; think of this like a zip file containing a programming script: the zip file is the package, the script is the module)."
   ]
  },
  {
   "cell_type": "markdown",
   "metadata": {
    "slideshow": {
     "slide_type": "subslide"
    }
   },
   "source": [
    "If you've followed the steps above then the `charity-data-download` environment should be active. If so, open your command prompt/terminal/command line interface (CLI) and type the following:\n",
    "\n",
    "*Windows/Linux/Mac*\n",
    "\n",
    "```\n",
    "pip install requests\n",
    "```\n",
    "\n",
    "This command installs the `requests` module on your machine."
   ]
  },
  {
   "cell_type": "markdown",
   "metadata": {
    "slideshow": {
     "slide_type": "skip"
    }
   },
   "source": [
    "Now let's try to execute our data download code once more. Type the following into your command prompt/terminal/command line interface (CLI):\n",
    "\n",
    "*Windows/Linux/Mac*\n",
    "\n",
    "```\n",
    "python ire-register-of-charities-download.py\n",
    "```"
   ]
  },
  {
   "cell_type": "markdown",
   "metadata": {
    "slideshow": {
     "slide_type": "skip"
    }
   },
   "source": [
    "How do we know the file was downloaded? Simply navigate to the `charity-data-download` folder and see if a file called *ire-register-of-charities.xlsx* exists."
   ]
  },
  {
   "cell_type": "markdown",
   "metadata": {
    "slideshow": {
     "slide_type": "subslide"
    }
   },
   "source": [
    "#### Step 2 - Updating modules\n",
    "\n",
    "If we wanted to update to the latest version of the `requests` module, we can type the following into the command prompt/terminal/command line interface (CLI):\n",
    "\n",
    "*Windows/Linux/Mac*\n",
    "\n",
    "```\n",
    "pip install requests --upgrade\n",
    "```"
   ]
  },
  {
   "cell_type": "markdown",
   "metadata": {
    "slideshow": {
     "slide_type": "subslide"
    }
   },
   "source": [
    "If you want to check which packages are possibly needing updating:\n",
    "\n",
    "*Windows/Linux/Mac*\n",
    "\n",
    "```\n",
    "pip list --outdated\n",
    "```"
   ]
  },
  {
   "cell_type": "markdown",
   "metadata": {
    "slideshow": {
     "slide_type": "subslide"
    }
   },
   "source": [
    "### Capturing a computational environment\n",
    "\n",
    "We've done the hard work of setting up the environment and installing additional modules (packages). We've also successfully executed our programming script. How do we ensure that the programming script can be executed on a different machine/by a different team member etc?"
   ]
  },
  {
   "cell_type": "markdown",
   "metadata": {
    "slideshow": {
     "slide_type": "subslide"
    }
   },
   "source": [
    "#### Step 1 - Saving a list of installed modules\n",
    "\n",
    "We can view the additional (i.e., those we've installed ourselves after the initial installation of Python) modules and their versions by typing the following into the command prompt/terminal/command line interface (CLI):\n",
    "\n",
    "*Windows/Linux/Mac*\n",
    "\n",
    "```\n",
    "pip freeze > requirements.txt\n",
    "```\n",
    "\n",
    "`pip freeze` displays the additional installed modules, and `> requirements.txt` saves this list to a file."
   ]
  },
  {
   "cell_type": "markdown",
   "metadata": {
    "slideshow": {
     "slide_type": "skip"
    }
   },
   "source": [
    "Note that although we only installed one extra module (`requests`), there is a much longer list of modules displayed using `pip freeze`. This is because `requests` automatically installs other modules that it needs in order to function properly.\n",
    "\n",
    "We can use this knowledge to refine our *requirements.txt* file so that it only contains one line:\n",
    "\n",
    "```\n",
    "requests==2.23.0\n",
    "```"
   ]
  },
  {
   "cell_type": "markdown",
   "metadata": {
    "slideshow": {
     "slide_type": "subslide"
    }
   },
   "source": [
    "#### Step 2 - Sharing a list of installed modules\n",
    "\n",
    "This is the easy part: because our programming activity is quite simple and only relies on a) a standard installation of Python, b) one additional module installation (`requests`), and c) the file containing the code, this is all another individual needs in order to reproduce the work. That is, the *requirements.txt* file captures the computational environment necessary to execute this programming task.\n",
    "\n",
    "Therefore you just need to make the *requirements.txt* and *ire-register-of-charities-download.py* files available to whomever needs it. You could just zip these files and email them; better practice would be to make them as open as possible by placing them on an online public repository (e.g., Github)."
   ]
  },
  {
   "cell_type": "markdown",
   "metadata": {
    "slideshow": {
     "slide_type": "subslide"
    }
   },
   "source": [
    "### Reproducing a computational environment\n",
    "\n",
    "Our final task is to reproduce someone else's work. We'll keep our example simple: let's try and execute a programming script from a previous coding demo (manipulating census data). First, we need to create and navigate to a project folder on our machine:\n",
    "\n",
    "*Windows/Linux/Mac*\n",
    "\n",
    "```\n",
    "mkdir census-data-cleaning\n",
    "cd census-sampling-cleaning\n",
    "```"
   ]
  },
  {
   "cell_type": "markdown",
   "metadata": {
    "slideshow": {
     "slide_type": "subslide"
    }
   },
   "source": [
    "Second, we create and activate a computational environment:\n",
    "\n",
    "*Windows*\n",
    "\n",
    "```\n",
    "python -m venv env\n",
    "env\\Scripts\\activate.bat\n",
    "```\n",
    "\n",
    "*Linux/Mac*\n",
    "\n",
    "```\n",
    "python -m venv env\n",
    "source env/bin/activate\n",
    "```\n"
   ]
  },
  {
   "cell_type": "markdown",
   "metadata": {},
   "source": [
    "Third, we download and move these files to the `census-sampling-frame` folder:\n",
    "\n",
    "Script: [census-1961-data.py](files/ire-register-of-charities-download.py)\n",
    "\n",
    "Data: [census_1961.csv](files/./responses/census_1961.csv)\n",
    "\n",
    "Requirements: [census-requirements.txt](files/census-requirements.txt)"
   ]
  },
  {
   "cell_type": "markdown",
   "metadata": {},
   "source": [
    "Fourth, we try and execute the programming script prior to customising the computational environment:\n",
    "\n",
    "*Windows/Linux/Mac*\n",
    "\n",
    "```\n",
    "python census-1961-data.py\n",
    "```\n",
    "\n",
    "You should get the following error: `ModuleNotFoundError: No module named 'pandas'`."
   ]
  },
  {
   "cell_type": "markdown",
   "metadata": {},
   "source": [
    "Fifth, we customise the computational environment by installing the modules contained in the `census-requirements.txt` file:\n",
    "\n",
    "*Windows/Linux/Mac*\n",
    "\n",
    "```\n",
    "pip install -r census-requirements.txt\n",
    "```"
   ]
  },
  {
   "cell_type": "markdown",
   "metadata": {},
   "source": [
    "Finally, we execute the `census-1961-data.py` script once more:\n",
    "\n",
    "*Windows/Linux/Mac*\n",
    "\n",
    "```\n",
    "python census-1961-data.py\n",
    "```"
   ]
  },
  {
   "cell_type": "markdown",
   "metadata": {},
   "source": [
    "And Voila, we have successfully reproduced a computational environment!"
   ]
  },
  {
   "cell_type": "markdown",
   "metadata": {
    "slideshow": {
     "slide_type": "slide"
    }
   },
   "source": [
    "## What have we learned?\n",
    "\n",
    "Let's recap what key skills and techniques we've learned:\n",
    "* **How to import modules**. You will usually need to import modules into Python to support your work. Python does come with some methods and functions that are ready to use straight away, but for computational social science tasks you'll almost certainly need to import some additional modules.\n",
    "* **How to make requests (calls) for data to an API**. You can use Python to request data from an API.\n",
    "* **How to handle and save the data that is returned by the API**. APIs tend to return data in JSON format, which requires different data manipulation techniques than you may be used to. You can process this data and save it to a file for future use.\n",
    "* **How to do all of the above in an efficient, clear and effective manner**."
   ]
  },
  {
   "cell_type": "markdown",
   "metadata": {
    "slideshow": {
     "slide_type": "slide"
    }
   },
   "source": [
    "## Conclusion\n",
    "\n",
    "Interacting with an API is a simple yet powerful computational method for collecting data of value for social science research. It provides a relatively gentle introduction to using programming languages, also. However, \"with great power comes great responsibility\" (sorry). APIs take you into the realm of data protection, Terms of Service/Use, and many murky ethical issues. Wielded sensibly and sensitively, collecting data from APIs is a valuable and exciting social science research method.\n",
    "\n",
    "Good luck on your data-driven travels!"
   ]
  },
  {
   "cell_type": "markdown",
   "metadata": {
    "slideshow": {
     "slide_type": "skip"
    }
   },
   "source": [
    "## Bibliography\n",
    "\n",
    "Barba, Lorena A. et al. (2019). *Teaching and Learning with Jupyter*. <a href=\"https://jupyter4edu.github.io/jupyter-edu-book/\" target=_blank>https://jupyter4edu.github.io/jupyter-edu-book/</a>.\n",
    "\n",
    "Christensen, G., Freese, J., & Miguel, E. (2019). *Transparent and reproducible social science research: How to do open science*. Oakland, California: University of California Press.\n",
    "\n",
    "The Turing Way Community. (2019). *The Turing Way: A Handbook for Reproducible Data Science (Version v0.0.4)*. Zenodo. http://doi.org/10.5281/zenodo.3233986\n",
    "\n",
    "Wynants, L., Van Calster, B., Bonten, M. M. J., Collins, G. S., Debray, T. P. A., De Vos, M., . . . van Smeden, M. (2020). Prediction models for diagnosis and prognosis of covid-19 infection: systematic review and critical appraisal. *BMJ, 369*, m1328. doi: 10.1136/bmj.m1328"
   ]
  },
  {
   "cell_type": "markdown",
   "metadata": {
    "slideshow": {
     "slide_type": "slide"
    }
   },
   "source": [
    "## Further reading and resources\n",
    "\n",
    "We hope this brief lession has whetted your appetite for learning more about Python computational environments. There are some fantastic learning materials available to you, many of them free. We highly recommend the materials referenced in the Bibliography.\n",
    "\n",
    "In addition, you may find the following resources useful:\n",
    "* <a href=\"https://github.com/UKDataServiceOpen/web-scraping\" target=_blank>**Web-scraping for Social Science Research**</a> - a free UK Data Service training series on web-scraping and APIs, with three webinars and lots of detailed coding examples.\n",
    "* <a href=\"https://automatetheboringstuff.com/\" target=_blank>**Automate the Boring Stuff with Python**</a> - a free ebook covering lots of interesting, practical uses of Python. Chapter 16 covers APIs and JSON files.\n",
    "* <a href=\"https://github.com/public-apis/public-apis\" target=_blank>**Public APIs**</a> - a list of free APIs covering a range of interesting domains e.g., social data, food & drink, weather etc."
   ]
  },
  {
   "cell_type": "markdown",
   "metadata": {
    "slideshow": {
     "slide_type": "skip"
    }
   },
   "source": [
    "## Appendices"
   ]
  },
  {
   "cell_type": "markdown",
   "metadata": {
    "slideshow": {
     "slide_type": "skip"
    }
   },
   "source": [
    "### Appendix A - Stop-and-search data for every police force\n",
    "\n",
    "It would be inefficient to request data for every police force one at a time. We can make use of lists and loops to speed up the downloading of data.\n",
    "\n",
    "First, let's get our list of police forces:"
   ]
  },
  {
   "cell_type": "code",
   "execution_count": 10,
   "metadata": {
    "slideshow": {
     "slide_type": "skip"
    }
   },
   "outputs": [
    {
     "name": "stdout",
     "output_type": "stream",
     "text": [
      "Succesfully imported necessary modules\n"
     ]
    }
   ],
   "source": [
    "# Import modules\n",
    "\n",
    "import os\n",
    "import requests\n",
    "import json\n",
    "from datetime import datetime\n",
    "print(\"Succesfully imported necessary modules\")\n",
    "\n",
    "# Define web address and search terms\n",
    "\n",
    "baseurl = \"https://data.police.uk/api/\"\n",
    "forces = \"forces\"\n",
    "webadd = baseurl + forces\n",
    "\n",
    "# Make call to API\n",
    "\n",
    "response = requests.get(webadd)\n",
    "response.status_code\n",
    "\n",
    "# Store data in variable\n",
    "\n",
    "forces_data = response.json()"
   ]
  },
  {
   "cell_type": "markdown",
   "metadata": {
    "slideshow": {
     "slide_type": "skip"
    }
   },
   "source": [
    "Next, we extract a list of force ids:"
   ]
  },
  {
   "cell_type": "code",
   "execution_count": 11,
   "metadata": {
    "slideshow": {
     "slide_type": "skip"
    }
   },
   "outputs": [],
   "source": [
    "force_ids = [el[\"id\"] for el in forces_data]"
   ]
  },
  {
   "cell_type": "markdown",
   "metadata": {
    "slideshow": {
     "slide_type": "skip"
    }
   },
   "source": [
    "Then, for each of these ids we request stop-and-search data and store the results in a list:"
   ]
  },
  {
   "cell_type": "code",
   "execution_count": 12,
   "metadata": {
    "slideshow": {
     "slide_type": "skip"
    }
   },
   "outputs": [],
   "source": [
    "baseurl = \"https://data.police.uk/api/\"\n",
    "sas = \"stops-force\"\n",
    "\n",
    "forces_sas_data = [] # create a blank list for storing results of request\n",
    "\n",
    "for force in force_ids: \n",
    "    webadd = baseurl + sas + \"?force=\" + force\n",
    "    \n",
    "    response = requests.get(webadd)\n",
    "    \n",
    "    if response.status_code==200:\n",
    "        sas_data = response.json()\n",
    "    \n",
    "        for el in sas_data:\n",
    "            el[\"force\"] = force\n",
    "            el[\"code\"] = response.status_code\n",
    "            el[\"note\"] = \"Downloaded data\"\n",
    "    else:\n",
    "        sas_data = {\"force\": force, \"note\": \"Could not download\", \"code\": response.status_code}\n",
    "        \n",
    "    forces_sas_data.append(sas_data)"
   ]
  },
  {
   "cell_type": "markdown",
   "metadata": {
    "slideshow": {
     "slide_type": "skip"
    }
   },
   "source": [
    "You'll see we added a conditional statement (`if, else`) to check whether we made a successful request for data: if yes, then store the data in the `sas_data` variable; if no, then define the `sas_data` variable as a dictionary containing some notes about the unsuccessful attempt.\n",
    "\n",
    "Let's check the results. Our `data` list should contain the results for 44 police forces:"
   ]
  },
  {
   "cell_type": "code",
   "execution_count": 13,
   "metadata": {
    "slideshow": {
     "slide_type": "skip"
    }
   },
   "outputs": [
    {
     "data": {
      "text/plain": [
       "44"
      ]
     },
     "execution_count": 13,
     "metadata": {},
     "output_type": "execute_result"
    }
   ],
   "source": [
    "len(forces_sas_data)"
   ]
  },
  {
   "cell_type": "markdown",
   "metadata": {
    "slideshow": {
     "slide_type": "skip"
    }
   },
   "source": [
    "We'll leave it to you to examine the contents of the `forces_sas_data` variable."
   ]
  },
  {
   "cell_type": "markdown",
   "metadata": {
    "slideshow": {
     "slide_type": "skip"
    }
   },
   "source": [
    "--END OF FILE--"
   ]
  }
 ],
 "metadata": {
  "celltoolbar": "Slideshow",
  "kernelspec": {
   "display_name": "Python 3",
   "language": "python",
   "name": "python3"
  },
  "language_info": {
   "codemirror_mode": {
    "name": "ipython",
    "version": 3
   },
   "file_extension": ".py",
   "mimetype": "text/x-python",
   "name": "python",
   "nbconvert_exporter": "python",
   "pygments_lexer": "ipython3",
   "version": "3.7.3"
  },
  "toc": {
   "base_numbering": 1,
   "nav_menu": {
    "height": "256px",
    "width": "221px"
   },
   "number_sections": true,
   "sideBar": false,
   "skip_h1_title": true,
   "title_cell": "Table of Contents",
   "title_sidebar": "Contents",
   "toc_cell": false,
   "toc_position": {},
   "toc_section_display": true,
   "toc_window_display": false
  }
 },
 "nbformat": 4,
 "nbformat_minor": 4
}
