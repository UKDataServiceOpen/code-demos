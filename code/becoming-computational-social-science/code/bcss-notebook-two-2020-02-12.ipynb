{
 "cells": [
  {
   "cell_type": "markdown",
   "metadata": {},
   "source": [
    "![UKDS Logo](./images/UKDS_Logos_Col_Grey_300dpi.png)"
   ]
  },
  {
   "cell_type": "markdown",
   "metadata": {
    "slideshow": {
     "slide_type": "-"
    }
   },
   "source": [
    "# Being a Computational Social Scientist"
   ]
  },
  {
   "cell_type": "markdown",
   "metadata": {},
   "source": [
    "Welcome to the <a href=\"https://ukdataservice.ac.uk/\" target=_blank>UK Data Service</a> training series on *New Forms of Data for Social Science Research*. This series guides you through some of the most common and valuable new sources of data available for social science research: data collected from websites, social media platorms, text data, conducting simulations (agent based modelling), to name a few. To help you get to grips with these new forms of data, we provide webinars, interactive notebooks containing live programming code, reading lists and more.\n",
    "\n",
    "* To access training materials for the entire series: <a href=\"https://github.com/UKDataServiceOpen/new-forms-of-data\" target=_blank>[Training Materials]</a>\n",
    "\n",
    "* To keep up to date with upcoming and past training events: <a href=\"https://ukdataservice.ac.uk/news-and-events/events\" target=_blank>[Events]</a>\n",
    "\n",
    "* To get in contact with feedback, ideas or to seek assistance: <a href=\"https://ukdataservice.ac.uk/help.aspx\" target=_blank>[Help]</a>\n",
    "\n",
    "<a href=\"https://www.research.manchester.ac.uk/portal/julia.kasmire.html\" target=_blank>Dr Julia Kasmire</a> and <a href=\"https://www.research.manchester.ac.uk/portal/diarmuid.mcdonnell.html\" target=_blank>Dr Diarmuid McDonnell</a> <br />\n",
    "UK Data Service  <br />\n",
    "University of Manchester <br />\n",
    "May 2020"
   ]
  },
  {
   "cell_type": "markdown",
   "metadata": {
    "toc": true
   },
   "source": [
    "<h1>Table of Contents<span class=\"tocSkip\"></span></h1>\n",
    "<div class=\"toc\"><ul class=\"toc-item\"><li><span><a href=\"#Guide-to-using-this-resource\" data-toc-modified-id=\"Guide-to-using-this-resource-1\"><span class=\"toc-item-num\">1&nbsp;&nbsp;</span>Guide to using this resource</a></span><ul class=\"toc-item\"><li><span><a href=\"#Interaction\" data-toc-modified-id=\"Interaction-1.1\"><span class=\"toc-item-num\">1.1&nbsp;&nbsp;</span>Interaction</a></span></li><li><span><a href=\"#Learn-more\" data-toc-modified-id=\"Learn-more-1.2\"><span class=\"toc-item-num\">1.2&nbsp;&nbsp;</span>Learn more</a></span></li></ul></li><li><span><a href=\"#Thinking-computationally\" data-toc-modified-id=\"Thinking-computationally-2\"><span class=\"toc-item-num\">2&nbsp;&nbsp;</span>Thinking computationally</a></span><ul class=\"toc-item\"><li><span><a href=\"#Human-thinking-and-human-problems\" data-toc-modified-id=\"Human-thinking-and-human-problems-2.1\"><span class=\"toc-item-num\">2.1&nbsp;&nbsp;</span>Human thinking and human problems</a></span></li><li><span><a href=\"#Computer-thinking-(and-computer-problems?)\" data-toc-modified-id=\"Computer-thinking-(and-computer-problems?)-2.2\"><span class=\"toc-item-num\">2.2&nbsp;&nbsp;</span>Computer thinking (and computer problems?)</a></span></li><li><span><a href=\"#Combining-human-and-computer-thinking\" data-toc-modified-id=\"Combining-human-and-computer-thinking-2.3\"><span class=\"toc-item-num\">2.3&nbsp;&nbsp;</span>Combining human and computer thinking</a></span></li><li><span><a href=\"#How-to-solve-problems\" data-toc-modified-id=\"How-to-solve-problems-2.4\"><span class=\"toc-item-num\">2.4&nbsp;&nbsp;</span>How to solve problems</a></span></li></ul></li></ul></div>"
   ]
  },
  {
   "cell_type": "markdown",
   "metadata": {},
   "source": [
    "-------------------------------------\n",
    "\n",
    "<div style=\"text-align: center\"><i><b>This is notebook 2 of 6 in this lesson</i></b></div>\n",
    "\n",
    "-------------------------------------"
   ]
  },
  {
   "cell_type": "markdown",
   "metadata": {},
   "source": [
    "## Guide to using this resource\n",
    "\n",
    "This learning resource was built using <a href=\"https://jupyter.org/\" target=_blank>Jupyter Notebook</a>, an open-source software application that allows you to mix code, results and narrative in a single document. As <a href=\"https://jupyter4edu.github.io/jupyter-edu-book/\" target=_blank>Barba et al. (2019)</a> espouse:\n",
    "> In a world where every subject matter can have a data-supported treatment, where computational devices are omnipresent and pervasive, the union of natural language and computation creates compelling communication and learning opportunities.\n",
    "\n",
    "If you are familiar with Jupyter notebooks then skip ahead to the main content (*Collecting data from online databases using an API*). Otherwise, the following is a quick guide to navigating and interacting with the notebook."
   ]
  },
  {
   "cell_type": "markdown",
   "metadata": {},
   "source": [
    "### Interaction\n",
    "\n",
    "**You only need to execute the code that is contained in sections which are marked by `In []`.**\n",
    "\n",
    "To execute a cell, click or double-click the cell and press the `Run` button on the top toolbar (you can also use the keyboard shortcut Shift + Enter).\n",
    "\n",
    "Try it for yourself:"
   ]
  },
  {
   "cell_type": "code",
   "execution_count": null,
   "metadata": {},
   "outputs": [],
   "source": [
    "print(\"Enter your name and press enter:\")\n",
    "name = input()\n",
    "print(\"\\r\")\n",
    "print(\"Hello {}, enjoy learning more about Python and computational social science!\".format(name)) "
   ]
  },
  {
   "cell_type": "markdown",
   "metadata": {},
   "source": [
    "### Learn more\n",
    "\n",
    "Jupyter notebooks provide rich, flexible features for conducting and documenting your data analysis workflow. To learn more about additional notebook features, we recommend working through some of the <a href=\"https://github.com/darribas/gds19/blob/master/content/labs/lab_00.ipynb\" target=_blank>materials</a> provided by Dani Arribas-Bel at the University of Liverpool. "
   ]
  },
  {
   "cell_type": "markdown",
   "metadata": {},
   "source": [
    "## Thinking computationally\n",
    "\n",
    "### Human thinking and human problems\n",
    "\n",
    "Human thinking co-evolved with human problems. Specifically, human thinking co-evolved with the kind of human problems were persistent, frequent or important enough throughout their evolutionary history to drive adaptation.\n",
    "\n",
    "#### Basic problems \n",
    "By basic problems, we mean REALLY basic problems that apply to pretty much all living things, such as 'staying alive':\n",
    " - Responding to stimulus, including dangers that are both fast (like tigers) and slow (like the approach of winter) as well as useful things (like resources). \n",
    " - Learning in order to turn the unknown into the known so it can be responeded to appropriately (as dangerous, useful, etc.).\n",
    " - Recognising patterns so as to respond more quickly to known patterns as stimulus or to pique curiosity and drive learning around new patterns. \n",
    "\n",
    "#### More advanced problems\n",
    "\n",
    "Humans also have more advanced problems that apply to fewer kinds of living things. Most notably, these only apply to social living things. In essence, a big problem for humans is 'other people':\n",
    " - Understanding the intentions, or likely intentions, of the people around us. \n",
    " - Predicting likely next actions or responses. \n",
    " - The role of intentions, actions and responses within wider patterns like collaboration, competition or some combination of them both.\n",
    "\n",
    "Solving these problems involve a kind of thinking that doesn’t exactly look like \"thinking\". \n",
    " - People often respond to perceived dangers even before they were consciously aware of the danger. \n",
    " - People don't have to put a whole lot of mental effort into learning things like \"Avoid the snarling animal\" or \"Don't eat the bitter tasting fruit\". \n",
    " - People don’t really sit down and deliberately set out to compare the footsteps heard on the stairs against the known footsteps of the housemate or not. \n",
    " - People can recognise other people, read their faces, judge a situation and react all before they can consciously think about it.\n",
    " \n",
    " Most of these examples of common human thinking are nearly always invisible. These are not examples of **irrational** thinking so much as **sub-rational** thinking that operates at instinctual levels, much faster than those that underpin rational thinking."
   ]
  },
  {
   "cell_type": "markdown",
   "metadata": {},
   "source": [
    "### Computer thinking (and computer problems?)\n",
    "\n",
    "Computers do not have computer problems, at least not in the sense that humans have human problems. Without intervention, a computer does not try to stay alive, to communicate, to learn about its surroundings... Basically, computers just do computer thinking about human problems. \n",
    "\n",
    "And humans have tried to give computers ALL KINDS of human problems. Not all of that has worked equally well, because computers do not have the kind of co-evolutionary drive linked to human problems that humans have had. Nevertheless, they are very good at dealing with some problems, especially those that humans are **not good at**. For example, problems that:\n",
    " - Exceed human working memory capacity, either through the number of elements involved, the complexity of elements, or both.\n",
    " - Hyper rational problems that require the best answer, not the best answer that can be found quickly.\n",
    " - Non-interpretive problems that do not have any embedded reciprocal, creative or assumed communication.\n",
    "\n",
    "It is important to remember that computer thinking has *different* limitations when compared to human thinking. There are still limits, shortcuts and workarounds to drive efficiency, but these are in other areas and make computer thinking better or more efficient at some tasks than others. "
   ]
  },
  {
   "cell_type": "markdown",
   "metadata": {},
   "source": [
    "### Combining human and computer thinking\n",
    "\n",
    "**Some problems need human and computer thinking**\n",
    "\n",
    "Human thinking is typically needed to identify the problem, possible solutions, relevant info, etc. This is especially true of problems that deal with humans and human behaviour. For example, trying to predict how people will react to an innovation, a policy change, a new trend, etc. requires understanding and predicting how people will interpret new information, how they will apply that information to their diverse personal goals and fears, how they will choose to react (hopefully) in line with existing laws and societal norms, etc. At the same time, computer thinking is needed if dealing with that problem involves working accurately and reproducibly with large volumes of (complex) data. \n",
    "\n",
    "For example, imagine a new law is proposed that makes smart meters obligatory for all new houses. Social science researchers could think about how people might react to this new law - they might create some abstract scenarios, identify potential problems, identify similar new laws in the past and try to categorise human reactions to those laws, etc. \n",
    "\n",
    "But if those social scientists want to know how people *actually* do react to this new law, then they will need to collect quite a lot of potentially very complex data, ideally from different sources (interviews, smart meter data, social media discussions, freedom of information requests, etc.). Those social scientists will need to employ computer thinking to integrate all of that vast and complex data in useful ways that might actually address the problem. \n",
    "\n",
    "The combination of human thinking and computer thinking to address social science problems through the use of potentially vast and complex data is, in a nutshell, what computational social science is all about."
   ]
  },
  {
   "cell_type": "markdown",
   "metadata": {},
   "source": [
    "### How to solve problems\n",
    "\n",
    "You'll have noticed how many times the words \"problem\" and \"solve\" appear throughout this section. It is this ability to define and solve problems that unites computers and humans in the conduct of computational social science research. Barba et al. (2019) highlight four key aspects to problem-solving:\n",
    "* **Decomposition** - Breaking down data, processes, or problems into smaller, manageable parts.\n",
    "* **Pattern Recognition** - Observing patterns, trends, and regularities in data.\n",
    "* **Abstraction** - Identifying the general principles that generate these patterns.\n",
    "* **Algorithm Design** - Developing the step by step instructions for solving this and similar problems.\n",
    "\n",
    "We'll explore social science applications of some of these aspects throughout the rest of this lesson. For now, let's learn more about how to use a programming language to write code."
   ]
  },
  {
   "cell_type": "markdown",
   "metadata": {},
   "source": [
    "<div style=\"text-align: right\"><a href=\"./bcss-notebook-one-2020-02-12.ipynb\" target=_blank><i>Previous section: Introduction</i></a> &nbsp;&nbsp;&nbsp;&nbsp; | &nbsp;&nbsp;&nbsp;&nbsp;<a href=\"./bcss-notebook-three-2020-02-12.ipynb\" target=_blank><i>Next section: Writing code</i></a></div>"
   ]
  }
 ],
 "metadata": {
  "kernelspec": {
   "display_name": "Python 3",
   "language": "python",
   "name": "python3"
  },
  "language_info": {
   "codemirror_mode": {
    "name": "ipython",
    "version": 3
   },
   "file_extension": ".py",
   "mimetype": "text/x-python",
   "name": "python",
   "nbconvert_exporter": "python",
   "pygments_lexer": "ipython3",
   "version": "3.7.3"
  },
  "toc": {
   "base_numbering": 1,
   "nav_menu": {},
   "number_sections": true,
   "sideBar": true,
   "skip_h1_title": true,
   "title_cell": "Table of Contents",
   "title_sidebar": "Contents",
   "toc_cell": true,
   "toc_position": {},
   "toc_section_display": true,
   "toc_window_display": false
  }
 },
 "nbformat": 4,
 "nbformat_minor": 2
}
