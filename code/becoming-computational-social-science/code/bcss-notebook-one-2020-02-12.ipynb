{
 "cells": [
  {
   "cell_type": "markdown",
   "metadata": {},
   "source": [
    "![UKDS Logo](./images/UKDS_Logos_Col_Grey_300dpi.png)"
   ]
  },
  {
   "cell_type": "markdown",
   "metadata": {
    "slideshow": {
     "slide_type": "-"
    }
   },
   "source": [
    "# Being a Computational Social Scientist"
   ]
  },
  {
   "cell_type": "markdown",
   "metadata": {},
   "source": [
    "Welcome to the <a href=\"https://ukdataservice.ac.uk/\" target=_blank>UK Data Service</a> training series on *New Forms of Data for Social Science Research*. This series guides you through some of the most common and valuable new sources of data available for social science research: data collected from websites, social media platorms, text data, conducting simulations (agent based modelling), to name a few. To help you get to grips with these new forms of data, we provide webinars, interactive notebooks containing live programming code, reading lists and more.\n",
    "\n",
    "* To access training materials for the entire series: <a href=\"https://github.com/UKDataServiceOpen/new-forms-of-data\" target=_blank>[Training Materials]</a>\n",
    "\n",
    "* To keep up to date with upcoming and past training events: <a href=\"https://ukdataservice.ac.uk/news-and-events/events\" target=_blank>[Events]</a>\n",
    "\n",
    "* To get in contact with feedback, ideas or to seek assistance: <a href=\"https://ukdataservice.ac.uk/help.aspx\" target=_blank>[Help]</a>\n",
    "\n",
    "<a href=\"https://www.research.manchester.ac.uk/portal/julia.kasmire.html\" target=_blank>Dr Julia Kasmire</a> and <a href=\"https://www.research.manchester.ac.uk/portal/diarmuid.mcdonnell.html\" target=_blank>Dr Diarmuid McDonnell</a> <br />\n",
    "UK Data Service  <br />\n",
    "University of Manchester <br />\n",
    "May 2020"
   ]
  },
  {
   "cell_type": "markdown",
   "metadata": {
    "toc": true
   },
   "source": [
    "<h1>Table of Contents<span class=\"tocSkip\"></span></h1>\n",
    "<div class=\"toc\"><ul class=\"toc-item\"><li><span><a href=\"#Introduction\" data-toc-modified-id=\"Introduction-1\"><span class=\"toc-item-num\">1&nbsp;&nbsp;</span>Introduction</a></span></li><li><span><a href=\"#Guide-to-using-this-resource\" data-toc-modified-id=\"Guide-to-using-this-resource-2\"><span class=\"toc-item-num\">2&nbsp;&nbsp;</span>Guide to using this resource</a></span><ul class=\"toc-item\"><li><span><a href=\"#Interaction\" data-toc-modified-id=\"Interaction-2.1\"><span class=\"toc-item-num\">2.1&nbsp;&nbsp;</span>Interaction</a></span></li><li><span><a href=\"#Learn-more\" data-toc-modified-id=\"Learn-more-2.2\"><span class=\"toc-item-num\">2.2&nbsp;&nbsp;</span>Learn more</a></span></li></ul></li><li><span><a href=\"#Why-be-a-computational-social-scientist?\" data-toc-modified-id=\"Why-be-a-computational-social-scientist?-3\"><span class=\"toc-item-num\">3&nbsp;&nbsp;</span>Why be a computational social scientist?</a></span><ul class=\"toc-item\"><li><span><a href=\"#Computational-social-science-is-an-opportunity\" data-toc-modified-id=\"Computational-social-science-is-an-opportunity-3.1\"><span class=\"toc-item-num\">3.1&nbsp;&nbsp;</span>Computational social science is an opportunity</a></span></li><li><span><a href=\"#Limitations\" data-toc-modified-id=\"Limitations-3.2\"><span class=\"toc-item-num\">3.2&nbsp;&nbsp;</span>Limitations</a></span></li><li><span><a href=\"#I'm-not-great-with-computers...\" data-toc-modified-id=\"I'm-not-great-with-computers...-3.3\"><span class=\"toc-item-num\">3.3&nbsp;&nbsp;</span>I'm not great with computers...</a></span></li></ul></li><li><span><a href=\"#How-to-be-a-computational-social-scientist?\" data-toc-modified-id=\"How-to-be-a-computational-social-scientist?-4\"><span class=\"toc-item-num\">4&nbsp;&nbsp;</span>How to be a computational social scientist?</a></span></li></ul></div>"
   ]
  },
  {
   "cell_type": "markdown",
   "metadata": {},
   "source": [
    "-------------------------------------\n",
    "\n",
    "<div style=\"text-align: center\"><i><b>This is notebook 1 of 6 in this lesson</i></b></div>\n",
    "\n",
    "-------------------------------------"
   ]
  },
  {
   "cell_type": "markdown",
   "metadata": {},
   "source": [
    "## Introduction\n",
    "\n",
    "Computational Social Science: it can be a scary, alluring, mystifying term. You may even be thinking, what's the big deal? Surely almost all social science involves the use of computers: we code our interviews using software such as NVivo; build our statistical models in SPSS, Stata etc; and generally conduct our research and teaching activities within a computational environment (e.g., personal desktop/laptop, Dropbox or iCloud for file storage). However, computational social science (CSS) refers to activities and technologies that go beyond what we're typically familiar with as social scientists:\n",
    "* The use of datasets that are too large to store on your personal machine; \n",
    "* Writing programming scripts to access information held in online databases; \n",
    "* Employing analytical techniques, derived from computer science, that reveal structures and patterns in large or unfamiliar datasets (e.g. network analysis, text mining). \n",
    "\n",
    "More formally, computational social science is an interdisciplinary branch of research, defined more by its methods and data than its substantive topics (Heiberger & Riebling, 2016). It is not limited to certain analytical approaches (e.g., Machine Learning) or data types (e.g., just text data). So what makes computational social science different from \"traditional\" social science? What types of knowledge and skills do you need to engage in computational methods? And why would you want to be a computational social scientist?\n",
    "\n",
    "In this lesson we will describe and demonstrate five key domains of computational social science:\n",
    "1. Thinking computationally\n",
    "2. Writing code\n",
    "3. Computational environments\n",
    "4. Manipulating structured and unstructured data\n",
    "5. Reproducibility of the scientific workflow\n",
    "\n",
    "We cover key theories and ideas behind each domain and provide example code, written in the popular Python programming language, that demonstrates some of the key skills computational social scientists need to develop."
   ]
  },
  {
   "cell_type": "markdown",
   "metadata": {},
   "source": [
    "## Guide to using this resource\n",
    "\n",
    "This learning resource was built using <a href=\"https://jupyter.org/\" target=_blank>Jupyter Notebook</a>, an open-source software application that allows you to mix code, results and narrative in a single document. As <a href=\"https://jupyter4edu.github.io/jupyter-edu-book/\" target=_blank>Barba et al. (2019)</a> espouse:\n",
    "> In a world where every subject matter can have a data-supported treatment, where computational devices are omnipresent and pervasive, the union of natural language and computation creates compelling communication and learning opportunities.\n",
    "\n",
    "If you are familiar with Jupyter notebooks then skip ahead to the main content (*Collecting data from online databases using an API*). Otherwise, the following is a quick guide to navigating and interacting with the notebook."
   ]
  },
  {
   "cell_type": "markdown",
   "metadata": {},
   "source": [
    "### Interaction\n",
    "\n",
    "**You only need to execute the code that is contained in sections which are marked by `In []`.**\n",
    "\n",
    "To execute a cell, click or double-click the cell and press the `Run` button on the top toolbar (you can also use the keyboard shortcut Shift + Enter).\n",
    "\n",
    "Try it for yourself:"
   ]
  },
  {
   "cell_type": "code",
   "execution_count": null,
   "metadata": {},
   "outputs": [],
   "source": [
    "print(\"Enter your name and press enter:\")\n",
    "name = input()\n",
    "print(\"\\r\")\n",
    "print(\"Hello {}, enjoy learning more about Python and computational social science!\".format(name)) "
   ]
  },
  {
   "cell_type": "markdown",
   "metadata": {},
   "source": [
    "### Learn more\n",
    "\n",
    "Jupyter notebooks provide rich, flexible features for conducting and documenting your data analysis workflow. To learn more about additional notebook features, we recommend working through some of the <a href=\"https://github.com/darribas/gds19/blob/master/content/labs/lab_00.ipynb\" target=_blank>materials</a> provided by Dani Arribas-Bel at the University of Liverpool. "
   ]
  },
  {
   "cell_type": "markdown",
   "metadata": {
    "slideshow": {
     "slide_type": "-"
    }
   },
   "source": [
    "## Why be a computational social scientist?\n",
    "\n",
    "### Computational social science is an opportunity\n",
    "\n",
    "Computational social science means working with new forms of digital data and analytical methods to address new problems or to address existing problems in new ways. Both of these mean that computational social science opens up a whole new galaxy of potential research opportunities! That's a rather grand statement but it's true: vast swathes of our daily lives, social interactions, activities and other behaviours are captured digitally. These are often aggregated into large and rich data sets, many of which are **only** available if you possess the right programming skills to access and manage data from websites, documents, records, images, corpora and algorithms (Kitchin, 2014).\n",
    "\n",
    "Halford and Savage (2017) outline further advantages to engaging in computational social science, especially from a data perspective:\n",
    "* Utilise techniques for handling and analysing large-scale, unstructured data. \n",
    "* Capture data that is generated in real time and over time.\n",
    "* Access information on new/previously unmeasured activities.\n",
    "* Access information on familiar/currently measured activities at an unprecedented scale, dynamism or complexity.\n",
    "* It's happening whether we (social scientists) like it or not (see also Heiberger & Riebling, 2016); empirical social science in general is having its moment in the sun, in much the same way the social theorists did in the recent past.\n",
    "\n",
    "Social science research is increasingly interdisciplinary, and knowledge of and experience with computational methods gives you an advantage in terms of securing future research funding, academic positions, working as part of an interdisciplinary team and more (Brooker, 2020). \n",
    "\n",
    "Last, but certainly not least, there's more to computational social science than boosting your research standing or productivity. We rather like Sociologist Dr James Allen-Robertson's reflections on this:\n",
    "\n",
    "> In response to the question of what computational social science has helped me achieve, it may seem obvious to mention the concrete projects, the outputs, the measurable outcomes. However, for me computational social science has achieved something more substantial and enduring — a new way of working, a new way of thinking, and a new kind of enthusiasm for research.<sup>[1]</sup>\n",
    "\n",
    "[1]: https://campus.sagepub.com/blog/james-allen-robertson-css-blog"
   ]
  },
  {
   "cell_type": "markdown",
   "metadata": {},
   "source": [
    "### Limitations\n",
    "\n",
    "There are limitations associated with computational social science of course; ethical consent is still needed to access and use these new forms of data; depending on the data set in question, it may not be possible to use your personal or work machine due to a lack of computational resources and capacity (e.g., not enough hard drive space, memory); and data quality issues are no trivial matter in large, unstructured data sets (see Halford and Savage, 2017 for a deeper discussion)."
   ]
  },
  {
   "cell_type": "markdown",
   "metadata": {},
   "source": [
    "### I'm not great with computers...\n",
    "\n",
    "Fundamentally, computational social science depends on the ability to *develop a problem-solving mindset*, *write code* and *manipulate data*. These skills may not be easy to obtain as they require a mode of thinking and intellectual dexterity that you may not have practiced before. However, a little ability goes a long way. You do not need to be a software engineer to successfully scrape a website and you do not need to have a high-performance computing environment or server to manipulate data accessed through Spotify or Twitter. \n",
    "\n",
    "Brooker (2020) calls this approach the \"grilled cheese\" methodology for programming: your computational activities really just need to be effective i.e., produce the results you need or expect. Elegance, concision and optimisation (e.g., shaving milliseconds off the running time of your code) can come later - or not at all - as a computational social scientist. In the short-term at least, the aim is not to learn everything about a particular technique, but enough to achieve your research aim e.g., write an executable programming script for collecting data from Wikipedia. Dr James Allen-Robertson is once again quite insightful on this point:\n",
    "\n",
    "> What mattered here [when learning computational methods] wasn’t necessarily the nuts and bolts of the techniques I was learning, but the development of a 'methodological imagination' and an understanding of the application of these techniques.<sup>[2]</sup>\n",
    "\n",
    "The good news is that much of the code and tools necessary to be a computational social scientist are readily accessible and masterable in a short period of time (think weeks instead of months/years).\n",
    "\n",
    "Our message is clear: embrace the computational world with enthusiasm and a critical and reflexive mindset.\n",
    "\n",
    "[2]: https://campus.sagepub.com/blog/james-allen-robertson-css-blog"
   ]
  },
  {
   "cell_type": "markdown",
   "metadata": {
    "slideshow": {
     "slide_type": "-"
    }
   },
   "source": [
    "## How to be a computational social scientist?\n",
    "\n",
    "Though there are myriad aspects to the role, being a computational social scientist typically involves one or more of the following practices:\n",
    "* Writing programming scripts to collect and manipulate data.\n",
    "* Employing analytical techniques - many derived from computer/information sciences - to reveal patterns in data.\n",
    "* Using technological tools and e-Research best practice to structure and document your research workflow.\n",
    "\n",
    "The good news is, as a trained social scientist, you do not need to learn all of these aspects from scratch and can instead apply the knowledge, skills and strengths that you have already! For example, social scientists possess knowledge - theoretical and empirical - of social systems and phenomena and already have advanced data skills, especially around:\n",
    " - categorising and coding responses (qualitative and/or quantitative), \n",
    " - evaluating data quality (e.g., why is this survey response missing?), and \n",
    " - making inferences from data (e.g., how representative is this pattern of a larger population?). \n",
    " \n",
    "Thus, the main gaps in your skillset concern one or more of the following:\n",
    " - awareness of computational environments and processes, \n",
    " - experience with or knowledge of computational and/or data resources, \n",
    " - programming skills and knowledge of programming languages,\n",
    " - experience with or knowledge of how to document work to improve reproducibility, and \n",
    " - communicating the results of computational social science analyses. \n",
    " \n",
    "We'll explore many examples of each throughout this lesson, but for now we're going to focus on the skills and behaviours that underpin the above activities. Let's call these our *Big Five for Computational Social Science*::\n",
    "1. Thinking computationally\n",
    "2. Writing code\n",
    "3. Knowing your computational environment\n",
    "4. Understanding and manipulating data\n",
    "5. Documenting and enhancing your workflow"
   ]
  },
  {
   "cell_type": "markdown",
   "metadata": {},
   "source": [
    "<div style=\"text-align: right\"><a href=\"./bcss-notebook-two-2020-02-12.ipynb\" target=_blank><i>Next section: Thinking computationally</i></a></div>"
   ]
  }
 ],
 "metadata": {
  "kernelspec": {
   "display_name": "Python 3",
   "language": "python",
   "name": "python3"
  },
  "language_info": {
   "codemirror_mode": {
    "name": "ipython",
    "version": 3
   },
   "file_extension": ".py",
   "mimetype": "text/x-python",
   "name": "python",
   "nbconvert_exporter": "python",
   "pygments_lexer": "ipython3",
   "version": "3.7.3"
  },
  "toc": {
   "base_numbering": 1,
   "nav_menu": {},
   "number_sections": true,
   "sideBar": true,
   "skip_h1_title": true,
   "title_cell": "Table of Contents",
   "title_sidebar": "Contents",
   "toc_cell": true,
   "toc_position": {},
   "toc_section_display": true,
   "toc_window_display": false
  }
 },
 "nbformat": 4,
 "nbformat_minor": 2
}
